{
 "cells": [
  {
   "cell_type": "code",
   "execution_count": 1,
   "id": "ba65d8d6",
   "metadata": {},
   "outputs": [
    {
     "name": "stderr",
     "output_type": "stream",
     "text": [
      "/Users/pavansai/opt/anaconda3/lib/python3.9/site-packages/scipy/__init__.py:146: UserWarning: A NumPy version >=1.16.5 and <1.23.0 is required for this version of SciPy (detected version 1.24.3\n",
      "  warnings.warn(f\"A NumPy version >={np_minversion} and <{np_maxversion}\"\n"
     ]
    }
   ],
   "source": [
    "import pandas as pd\n",
    "import numpy as np\n",
    "import seaborn as sns\n",
    "import matplotlib.pyplot as plt"
   ]
  },
  {
   "cell_type": "markdown",
   "id": "88043e9f",
   "metadata": {},
   "source": [
    "### Loading the data"
   ]
  },
  {
   "cell_type": "code",
   "execution_count": 2,
   "id": "c3e73434",
   "metadata": {},
   "outputs": [],
   "source": [
    "df = pd.read_csv('/Users/pavansai/desktop1/Python/EDA/csv/dataset_diabetes_diabetic_data (1).csv')"
   ]
  },
  {
   "cell_type": "markdown",
   "id": "1d9a6b71",
   "metadata": {},
   "source": [
    "### Checking the data"
   ]
  },
  {
   "cell_type": "code",
   "execution_count": 3,
   "id": "bbc02d55",
   "metadata": {},
   "outputs": [
    {
     "data": {
      "text/html": [
       "<div>\n",
       "<style scoped>\n",
       "    .dataframe tbody tr th:only-of-type {\n",
       "        vertical-align: middle;\n",
       "    }\n",
       "\n",
       "    .dataframe tbody tr th {\n",
       "        vertical-align: top;\n",
       "    }\n",
       "\n",
       "    .dataframe thead th {\n",
       "        text-align: right;\n",
       "    }\n",
       "</style>\n",
       "<table border=\"1\" class=\"dataframe\">\n",
       "  <thead>\n",
       "    <tr style=\"text-align: right;\">\n",
       "      <th></th>\n",
       "      <th>patient_nbr</th>\n",
       "      <th>race</th>\n",
       "      <th>gender</th>\n",
       "      <th>age</th>\n",
       "      <th>admission_type_id</th>\n",
       "      <th>discharge_disposition_id</th>\n",
       "      <th>admission_source_id</th>\n",
       "      <th>time_in_hospital</th>\n",
       "      <th>num_lab_procedures</th>\n",
       "      <th>num_procedures</th>\n",
       "      <th>num_medications</th>\n",
       "      <th>number_outpatient</th>\n",
       "      <th>number_emergency</th>\n",
       "      <th>number_inpatient</th>\n",
       "      <th>diag_1</th>\n",
       "      <th>diag_2</th>\n",
       "      <th>diag_3</th>\n",
       "      <th>number_diagnoses</th>\n",
       "      <th>change</th>\n",
       "      <th>diabatic</th>\n",
       "    </tr>\n",
       "  </thead>\n",
       "  <tbody>\n",
       "    <tr>\n",
       "      <th>0</th>\n",
       "      <td>8222157</td>\n",
       "      <td>Caucasian</td>\n",
       "      <td>Female</td>\n",
       "      <td>[0-10)</td>\n",
       "      <td>6</td>\n",
       "      <td>25</td>\n",
       "      <td>1</td>\n",
       "      <td>1</td>\n",
       "      <td>41</td>\n",
       "      <td>0</td>\n",
       "      <td>1</td>\n",
       "      <td>0</td>\n",
       "      <td>0</td>\n",
       "      <td>0</td>\n",
       "      <td>250.83</td>\n",
       "      <td>?</td>\n",
       "      <td>?</td>\n",
       "      <td>1</td>\n",
       "      <td>No</td>\n",
       "      <td>No</td>\n",
       "    </tr>\n",
       "    <tr>\n",
       "      <th>1</th>\n",
       "      <td>55629189</td>\n",
       "      <td>Caucasian</td>\n",
       "      <td>Female</td>\n",
       "      <td>[10-20)</td>\n",
       "      <td>1</td>\n",
       "      <td>1</td>\n",
       "      <td>7</td>\n",
       "      <td>3</td>\n",
       "      <td>59</td>\n",
       "      <td>0</td>\n",
       "      <td>18</td>\n",
       "      <td>0</td>\n",
       "      <td>0</td>\n",
       "      <td>0</td>\n",
       "      <td>276</td>\n",
       "      <td>250.01</td>\n",
       "      <td>255</td>\n",
       "      <td>9</td>\n",
       "      <td>Ch</td>\n",
       "      <td>Yes</td>\n",
       "    </tr>\n",
       "    <tr>\n",
       "      <th>2</th>\n",
       "      <td>86047875</td>\n",
       "      <td>AfricanAmerican</td>\n",
       "      <td>Female</td>\n",
       "      <td>[20-30)</td>\n",
       "      <td>1</td>\n",
       "      <td>1</td>\n",
       "      <td>7</td>\n",
       "      <td>2</td>\n",
       "      <td>11</td>\n",
       "      <td>5</td>\n",
       "      <td>13</td>\n",
       "      <td>2</td>\n",
       "      <td>0</td>\n",
       "      <td>1</td>\n",
       "      <td>648</td>\n",
       "      <td>250</td>\n",
       "      <td>V27</td>\n",
       "      <td>6</td>\n",
       "      <td>No</td>\n",
       "      <td>Yes</td>\n",
       "    </tr>\n",
       "    <tr>\n",
       "      <th>3</th>\n",
       "      <td>82442376</td>\n",
       "      <td>Caucasian</td>\n",
       "      <td>Male</td>\n",
       "      <td>[30-40)</td>\n",
       "      <td>1</td>\n",
       "      <td>1</td>\n",
       "      <td>7</td>\n",
       "      <td>2</td>\n",
       "      <td>44</td>\n",
       "      <td>1</td>\n",
       "      <td>16</td>\n",
       "      <td>0</td>\n",
       "      <td>0</td>\n",
       "      <td>0</td>\n",
       "      <td>8</td>\n",
       "      <td>250.43</td>\n",
       "      <td>403</td>\n",
       "      <td>7</td>\n",
       "      <td>Ch</td>\n",
       "      <td>Yes</td>\n",
       "    </tr>\n",
       "    <tr>\n",
       "      <th>4</th>\n",
       "      <td>42519267</td>\n",
       "      <td>Caucasian</td>\n",
       "      <td>Male</td>\n",
       "      <td>[40-50)</td>\n",
       "      <td>1</td>\n",
       "      <td>1</td>\n",
       "      <td>7</td>\n",
       "      <td>1</td>\n",
       "      <td>51</td>\n",
       "      <td>0</td>\n",
       "      <td>8</td>\n",
       "      <td>0</td>\n",
       "      <td>0</td>\n",
       "      <td>0</td>\n",
       "      <td>197</td>\n",
       "      <td>157</td>\n",
       "      <td>250</td>\n",
       "      <td>5</td>\n",
       "      <td>Ch</td>\n",
       "      <td>Yes</td>\n",
       "    </tr>\n",
       "    <tr>\n",
       "      <th>5</th>\n",
       "      <td>82637451</td>\n",
       "      <td>Caucasian</td>\n",
       "      <td>Male</td>\n",
       "      <td>[50-60)</td>\n",
       "      <td>2</td>\n",
       "      <td>1</td>\n",
       "      <td>2</td>\n",
       "      <td>3</td>\n",
       "      <td>31</td>\n",
       "      <td>6</td>\n",
       "      <td>16</td>\n",
       "      <td>0</td>\n",
       "      <td>0</td>\n",
       "      <td>0</td>\n",
       "      <td>414</td>\n",
       "      <td>411</td>\n",
       "      <td>250</td>\n",
       "      <td>9</td>\n",
       "      <td>No</td>\n",
       "      <td>Yes</td>\n",
       "    </tr>\n",
       "    <tr>\n",
       "      <th>6</th>\n",
       "      <td>84259809</td>\n",
       "      <td>Caucasian</td>\n",
       "      <td>Male</td>\n",
       "      <td>[60-70)</td>\n",
       "      <td>3</td>\n",
       "      <td>1</td>\n",
       "      <td>2</td>\n",
       "      <td>4</td>\n",
       "      <td>70</td>\n",
       "      <td>1</td>\n",
       "      <td>21</td>\n",
       "      <td>0</td>\n",
       "      <td>0</td>\n",
       "      <td>0</td>\n",
       "      <td>414</td>\n",
       "      <td>411</td>\n",
       "      <td>V45</td>\n",
       "      <td>7</td>\n",
       "      <td>Ch</td>\n",
       "      <td>Yes</td>\n",
       "    </tr>\n",
       "  </tbody>\n",
       "</table>\n",
       "</div>"
      ],
      "text/plain": [
       "   patient_nbr             race  gender      age  admission_type_id  \\\n",
       "0      8222157        Caucasian  Female   [0-10)                  6   \n",
       "1     55629189        Caucasian  Female  [10-20)                  1   \n",
       "2     86047875  AfricanAmerican  Female  [20-30)                  1   \n",
       "3     82442376        Caucasian    Male  [30-40)                  1   \n",
       "4     42519267        Caucasian    Male  [40-50)                  1   \n",
       "5     82637451        Caucasian    Male  [50-60)                  2   \n",
       "6     84259809        Caucasian    Male  [60-70)                  3   \n",
       "\n",
       "   discharge_disposition_id  admission_source_id  time_in_hospital  \\\n",
       "0                        25                    1                 1   \n",
       "1                         1                    7                 3   \n",
       "2                         1                    7                 2   \n",
       "3                         1                    7                 2   \n",
       "4                         1                    7                 1   \n",
       "5                         1                    2                 3   \n",
       "6                         1                    2                 4   \n",
       "\n",
       "   num_lab_procedures  num_procedures  num_medications  number_outpatient  \\\n",
       "0                  41               0                1                  0   \n",
       "1                  59               0               18                  0   \n",
       "2                  11               5               13                  2   \n",
       "3                  44               1               16                  0   \n",
       "4                  51               0                8                  0   \n",
       "5                  31               6               16                  0   \n",
       "6                  70               1               21                  0   \n",
       "\n",
       "   number_emergency  number_inpatient  diag_1  diag_2 diag_3  \\\n",
       "0                 0                 0  250.83       ?      ?   \n",
       "1                 0                 0     276  250.01    255   \n",
       "2                 0                 1     648     250    V27   \n",
       "3                 0                 0       8  250.43    403   \n",
       "4                 0                 0     197     157    250   \n",
       "5                 0                 0     414     411    250   \n",
       "6                 0                 0     414     411    V45   \n",
       "\n",
       "   number_diagnoses change diabatic  \n",
       "0                 1     No       No  \n",
       "1                 9     Ch      Yes  \n",
       "2                 6     No      Yes  \n",
       "3                 7     Ch      Yes  \n",
       "4                 5     Ch      Yes  \n",
       "5                 9     No      Yes  \n",
       "6                 7     Ch      Yes  "
      ]
     },
     "execution_count": 3,
     "metadata": {},
     "output_type": "execute_result"
    }
   ],
   "source": [
    "df.head(7)"
   ]
  },
  {
   "cell_type": "markdown",
   "id": "885f5f76",
   "metadata": {},
   "source": [
    "### Dropping unwanted variables"
   ]
  },
  {
   "cell_type": "code",
   "execution_count": 4,
   "id": "738dc517",
   "metadata": {},
   "outputs": [
    {
     "data": {
      "text/plain": [
       "0"
      ]
     },
     "execution_count": 4,
     "metadata": {},
     "output_type": "execute_result"
    }
   ],
   "source": [
    "df.duplicated().sum()"
   ]
  },
  {
   "cell_type": "code",
   "execution_count": 5,
   "id": "ba5ab688",
   "metadata": {},
   "outputs": [
    {
     "data": {
      "text/plain": [
       "17680"
      ]
     },
     "execution_count": 5,
     "metadata": {},
     "output_type": "execute_result"
    }
   ],
   "source": [
    "df.duplicated('patient_nbr').sum()"
   ]
  },
  {
   "cell_type": "code",
   "execution_count": 6,
   "id": "97854faf",
   "metadata": {},
   "outputs": [
    {
     "data": {
      "text/plain": [
       "70180"
      ]
     },
     "execution_count": 6,
     "metadata": {},
     "output_type": "execute_result"
    }
   ],
   "source": [
    "df.shape[0]"
   ]
  },
  {
   "cell_type": "code",
   "execution_count": 7,
   "id": "a8b249cd",
   "metadata": {},
   "outputs": [
    {
     "data": {
      "text/plain": [
       "52500"
      ]
     },
     "execution_count": 7,
     "metadata": {},
     "output_type": "execute_result"
    }
   ],
   "source": [
    "df.shape[0]-df.duplicated('patient_nbr').sum()"
   ]
  },
  {
   "cell_type": "code",
   "execution_count": 8,
   "id": "76885fe2",
   "metadata": {},
   "outputs": [
    {
     "data": {
      "text/plain": [
       "1660293      23\n",
       "23199021     23\n",
       "23643405     22\n",
       "84428613     22\n",
       "89472402     20\n",
       "             ..\n",
       "21355677      1\n",
       "96588117      1\n",
       "61555455      1\n",
       "9540666       1\n",
       "175429310     1\n",
       "Name: patient_nbr, Length: 52500, dtype: int64"
      ]
     },
     "execution_count": 8,
     "metadata": {},
     "output_type": "execute_result"
    }
   ],
   "source": [
    "df['patient_nbr'].value_counts()"
   ]
  },
  {
   "cell_type": "code",
   "execution_count": 9,
   "id": "8d193b51",
   "metadata": {},
   "outputs": [],
   "source": [
    "df.drop_duplicates('patient_nbr',keep='last',inplace=True)"
   ]
  },
  {
   "cell_type": "code",
   "execution_count": 10,
   "id": "7cad05be",
   "metadata": {},
   "outputs": [
    {
     "data": {
      "text/plain": [
       "52500"
      ]
     },
     "execution_count": 10,
     "metadata": {},
     "output_type": "execute_result"
    }
   ],
   "source": [
    "df.shape[0]"
   ]
  },
  {
   "cell_type": "code",
   "execution_count": 11,
   "id": "56163544",
   "metadata": {},
   "outputs": [],
   "source": [
    "df = df.drop('patient_nbr',axis=1)"
   ]
  },
  {
   "cell_type": "markdown",
   "id": "f69a9fe8",
   "metadata": {},
   "source": [
    "### checking the information of dataset"
   ]
  },
  {
   "cell_type": "code",
   "execution_count": 12,
   "id": "ecdbda9a",
   "metadata": {},
   "outputs": [
    {
     "name": "stdout",
     "output_type": "stream",
     "text": [
      "<class 'pandas.core.frame.DataFrame'>\n",
      "Int64Index: 52500 entries, 0 to 70179\n",
      "Data columns (total 19 columns):\n",
      " #   Column                    Non-Null Count  Dtype \n",
      "---  ------                    --------------  ----- \n",
      " 0   race                      52500 non-null  object\n",
      " 1   gender                    52500 non-null  object\n",
      " 2   age                       52500 non-null  object\n",
      " 3   admission_type_id         52500 non-null  int64 \n",
      " 4   discharge_disposition_id  52500 non-null  int64 \n",
      " 5   admission_source_id       52500 non-null  int64 \n",
      " 6   time_in_hospital          52500 non-null  int64 \n",
      " 7   num_lab_procedures        52500 non-null  int64 \n",
      " 8   num_procedures            52500 non-null  int64 \n",
      " 9   num_medications           52500 non-null  int64 \n",
      " 10  number_outpatient         52500 non-null  int64 \n",
      " 11  number_emergency          52500 non-null  int64 \n",
      " 12  number_inpatient          52500 non-null  int64 \n",
      " 13  diag_1                    52500 non-null  object\n",
      " 14  diag_2                    52500 non-null  object\n",
      " 15  diag_3                    52500 non-null  object\n",
      " 16  number_diagnoses          52500 non-null  int64 \n",
      " 17  change                    52500 non-null  object\n",
      " 18  diabatic                  52500 non-null  object\n",
      "dtypes: int64(11), object(8)\n",
      "memory usage: 8.0+ MB\n"
     ]
    }
   ],
   "source": [
    "df.info()"
   ]
  },
  {
   "cell_type": "code",
   "execution_count": 13,
   "id": "8fb03ffe",
   "metadata": {},
   "outputs": [
    {
     "data": {
      "text/plain": [
       "Female             0.536667\n",
       "Male               0.463295\n",
       "Unknown/Invalid    0.000038\n",
       "Name: gender, dtype: float64"
      ]
     },
     "execution_count": 13,
     "metadata": {},
     "output_type": "execute_result"
    }
   ],
   "source": [
    "df['gender'].value_counts(normalize=True)"
   ]
  },
  {
   "cell_type": "code",
   "execution_count": 14,
   "id": "861a38bd",
   "metadata": {},
   "outputs": [
    {
     "data": {
      "text/plain": [
       "1    26083\n",
       "2    10221\n",
       "3     9537\n",
       "6     3716\n",
       "5     2737\n",
       "8      192\n",
       "4        7\n",
       "7        7\n",
       "Name: admission_type_id, dtype: int64"
      ]
     },
     "execution_count": 14,
     "metadata": {},
     "output_type": "execute_result"
    }
   ],
   "source": [
    "df['admission_type_id'].value_counts()"
   ]
  },
  {
   "cell_type": "markdown",
   "id": "20676e85",
   "metadata": {},
   "source": [
    "### Checking descriptive stats of data"
   ]
  },
  {
   "cell_type": "code",
   "execution_count": 15,
   "id": "30b8efaa",
   "metadata": {},
   "outputs": [
    {
     "data": {
      "text/html": [
       "<div>\n",
       "<style scoped>\n",
       "    .dataframe tbody tr th:only-of-type {\n",
       "        vertical-align: middle;\n",
       "    }\n",
       "\n",
       "    .dataframe tbody tr th {\n",
       "        vertical-align: top;\n",
       "    }\n",
       "\n",
       "    .dataframe thead th {\n",
       "        text-align: right;\n",
       "    }\n",
       "</style>\n",
       "<table border=\"1\" class=\"dataframe\">\n",
       "  <thead>\n",
       "    <tr style=\"text-align: right;\">\n",
       "      <th></th>\n",
       "      <th>count</th>\n",
       "      <th>unique</th>\n",
       "      <th>top</th>\n",
       "      <th>freq</th>\n",
       "      <th>mean</th>\n",
       "      <th>std</th>\n",
       "      <th>min</th>\n",
       "      <th>25%</th>\n",
       "      <th>50%</th>\n",
       "      <th>75%</th>\n",
       "      <th>max</th>\n",
       "    </tr>\n",
       "  </thead>\n",
       "  <tbody>\n",
       "    <tr>\n",
       "      <th>race</th>\n",
       "      <td>52500</td>\n",
       "      <td>6</td>\n",
       "      <td>Caucasian</td>\n",
       "      <td>38822</td>\n",
       "      <td>NaN</td>\n",
       "      <td>NaN</td>\n",
       "      <td>NaN</td>\n",
       "      <td>NaN</td>\n",
       "      <td>NaN</td>\n",
       "      <td>NaN</td>\n",
       "      <td>NaN</td>\n",
       "    </tr>\n",
       "    <tr>\n",
       "      <th>gender</th>\n",
       "      <td>52500</td>\n",
       "      <td>3</td>\n",
       "      <td>Female</td>\n",
       "      <td>28175</td>\n",
       "      <td>NaN</td>\n",
       "      <td>NaN</td>\n",
       "      <td>NaN</td>\n",
       "      <td>NaN</td>\n",
       "      <td>NaN</td>\n",
       "      <td>NaN</td>\n",
       "      <td>NaN</td>\n",
       "    </tr>\n",
       "    <tr>\n",
       "      <th>age</th>\n",
       "      <td>52500</td>\n",
       "      <td>10</td>\n",
       "      <td>[70-80)</td>\n",
       "      <td>13509</td>\n",
       "      <td>NaN</td>\n",
       "      <td>NaN</td>\n",
       "      <td>NaN</td>\n",
       "      <td>NaN</td>\n",
       "      <td>NaN</td>\n",
       "      <td>NaN</td>\n",
       "      <td>NaN</td>\n",
       "    </tr>\n",
       "    <tr>\n",
       "      <th>admission_type_id</th>\n",
       "      <td>52500.0</td>\n",
       "      <td>NaN</td>\n",
       "      <td>NaN</td>\n",
       "      <td>NaN</td>\n",
       "      <td>2.147238</td>\n",
       "      <td>1.547276</td>\n",
       "      <td>1.0</td>\n",
       "      <td>1.0</td>\n",
       "      <td>2.0</td>\n",
       "      <td>3.0</td>\n",
       "      <td>8.0</td>\n",
       "    </tr>\n",
       "    <tr>\n",
       "      <th>discharge_disposition_id</th>\n",
       "      <td>52500.0</td>\n",
       "      <td>NaN</td>\n",
       "      <td>NaN</td>\n",
       "      <td>NaN</td>\n",
       "      <td>3.799257</td>\n",
       "      <td>5.41455</td>\n",
       "      <td>1.0</td>\n",
       "      <td>1.0</td>\n",
       "      <td>1.0</td>\n",
       "      <td>4.0</td>\n",
       "      <td>28.0</td>\n",
       "    </tr>\n",
       "    <tr>\n",
       "      <th>admission_source_id</th>\n",
       "      <td>52500.0</td>\n",
       "      <td>NaN</td>\n",
       "      <td>NaN</td>\n",
       "      <td>NaN</td>\n",
       "      <td>5.813924</td>\n",
       "      <td>4.400001</td>\n",
       "      <td>1.0</td>\n",
       "      <td>1.0</td>\n",
       "      <td>7.0</td>\n",
       "      <td>7.0</td>\n",
       "      <td>20.0</td>\n",
       "    </tr>\n",
       "    <tr>\n",
       "      <th>time_in_hospital</th>\n",
       "      <td>52500.0</td>\n",
       "      <td>NaN</td>\n",
       "      <td>NaN</td>\n",
       "      <td>NaN</td>\n",
       "      <td>4.341752</td>\n",
       "      <td>3.015526</td>\n",
       "      <td>1.0</td>\n",
       "      <td>2.0</td>\n",
       "      <td>4.0</td>\n",
       "      <td>6.0</td>\n",
       "      <td>14.0</td>\n",
       "    </tr>\n",
       "    <tr>\n",
       "      <th>num_lab_procedures</th>\n",
       "      <td>52500.0</td>\n",
       "      <td>NaN</td>\n",
       "      <td>NaN</td>\n",
       "      <td>NaN</td>\n",
       "      <td>42.996171</td>\n",
       "      <td>19.347772</td>\n",
       "      <td>1.0</td>\n",
       "      <td>31.0</td>\n",
       "      <td>44.0</td>\n",
       "      <td>56.0</td>\n",
       "      <td>129.0</td>\n",
       "    </tr>\n",
       "    <tr>\n",
       "      <th>num_procedures</th>\n",
       "      <td>52500.0</td>\n",
       "      <td>NaN</td>\n",
       "      <td>NaN</td>\n",
       "      <td>NaN</td>\n",
       "      <td>1.398152</td>\n",
       "      <td>1.713572</td>\n",
       "      <td>0.0</td>\n",
       "      <td>0.0</td>\n",
       "      <td>1.0</td>\n",
       "      <td>2.0</td>\n",
       "      <td>6.0</td>\n",
       "    </tr>\n",
       "    <tr>\n",
       "      <th>num_medications</th>\n",
       "      <td>52500.0</td>\n",
       "      <td>NaN</td>\n",
       "      <td>NaN</td>\n",
       "      <td>NaN</td>\n",
       "      <td>15.192629</td>\n",
       "      <td>8.201336</td>\n",
       "      <td>1.0</td>\n",
       "      <td>10.0</td>\n",
       "      <td>14.0</td>\n",
       "      <td>19.0</td>\n",
       "      <td>81.0</td>\n",
       "    </tr>\n",
       "    <tr>\n",
       "      <th>number_outpatient</th>\n",
       "      <td>52500.0</td>\n",
       "      <td>NaN</td>\n",
       "      <td>NaN</td>\n",
       "      <td>NaN</td>\n",
       "      <td>0.280019</td>\n",
       "      <td>1.034855</td>\n",
       "      <td>0.0</td>\n",
       "      <td>0.0</td>\n",
       "      <td>0.0</td>\n",
       "      <td>0.0</td>\n",
       "      <td>36.0</td>\n",
       "    </tr>\n",
       "    <tr>\n",
       "      <th>number_emergency</th>\n",
       "      <td>52500.0</td>\n",
       "      <td>NaN</td>\n",
       "      <td>NaN</td>\n",
       "      <td>NaN</td>\n",
       "      <td>0.124819</td>\n",
       "      <td>0.66093</td>\n",
       "      <td>0.0</td>\n",
       "      <td>0.0</td>\n",
       "      <td>0.0</td>\n",
       "      <td>0.0</td>\n",
       "      <td>64.0</td>\n",
       "    </tr>\n",
       "    <tr>\n",
       "      <th>number_inpatient</th>\n",
       "      <td>52500.0</td>\n",
       "      <td>NaN</td>\n",
       "      <td>NaN</td>\n",
       "      <td>NaN</td>\n",
       "      <td>0.47661</td>\n",
       "      <td>1.020395</td>\n",
       "      <td>0.0</td>\n",
       "      <td>0.0</td>\n",
       "      <td>0.0</td>\n",
       "      <td>1.0</td>\n",
       "      <td>19.0</td>\n",
       "    </tr>\n",
       "    <tr>\n",
       "      <th>diag_1</th>\n",
       "      <td>52500</td>\n",
       "      <td>667</td>\n",
       "      <td>414</td>\n",
       "      <td>3861</td>\n",
       "      <td>NaN</td>\n",
       "      <td>NaN</td>\n",
       "      <td>NaN</td>\n",
       "      <td>NaN</td>\n",
       "      <td>NaN</td>\n",
       "      <td>NaN</td>\n",
       "      <td>NaN</td>\n",
       "    </tr>\n",
       "    <tr>\n",
       "      <th>diag_2</th>\n",
       "      <td>52500</td>\n",
       "      <td>664</td>\n",
       "      <td>250</td>\n",
       "      <td>3648</td>\n",
       "      <td>NaN</td>\n",
       "      <td>NaN</td>\n",
       "      <td>NaN</td>\n",
       "      <td>NaN</td>\n",
       "      <td>NaN</td>\n",
       "      <td>NaN</td>\n",
       "      <td>NaN</td>\n",
       "    </tr>\n",
       "    <tr>\n",
       "      <th>diag_3</th>\n",
       "      <td>52500</td>\n",
       "      <td>697</td>\n",
       "      <td>250</td>\n",
       "      <td>6646</td>\n",
       "      <td>NaN</td>\n",
       "      <td>NaN</td>\n",
       "      <td>NaN</td>\n",
       "      <td>NaN</td>\n",
       "      <td>NaN</td>\n",
       "      <td>NaN</td>\n",
       "      <td>NaN</td>\n",
       "    </tr>\n",
       "    <tr>\n",
       "      <th>number_diagnoses</th>\n",
       "      <td>52500.0</td>\n",
       "      <td>NaN</td>\n",
       "      <td>NaN</td>\n",
       "      <td>NaN</td>\n",
       "      <td>7.089352</td>\n",
       "      <td>2.018542</td>\n",
       "      <td>1.0</td>\n",
       "      <td>5.0</td>\n",
       "      <td>8.0</td>\n",
       "      <td>9.0</td>\n",
       "      <td>16.0</td>\n",
       "    </tr>\n",
       "    <tr>\n",
       "      <th>change</th>\n",
       "      <td>52500</td>\n",
       "      <td>2</td>\n",
       "      <td>No</td>\n",
       "      <td>33305</td>\n",
       "      <td>NaN</td>\n",
       "      <td>NaN</td>\n",
       "      <td>NaN</td>\n",
       "      <td>NaN</td>\n",
       "      <td>NaN</td>\n",
       "      <td>NaN</td>\n",
       "      <td>NaN</td>\n",
       "    </tr>\n",
       "    <tr>\n",
       "      <th>diabatic</th>\n",
       "      <td>52500</td>\n",
       "      <td>2</td>\n",
       "      <td>Yes</td>\n",
       "      <td>34193</td>\n",
       "      <td>NaN</td>\n",
       "      <td>NaN</td>\n",
       "      <td>NaN</td>\n",
       "      <td>NaN</td>\n",
       "      <td>NaN</td>\n",
       "      <td>NaN</td>\n",
       "      <td>NaN</td>\n",
       "    </tr>\n",
       "  </tbody>\n",
       "</table>\n",
       "</div>"
      ],
      "text/plain": [
       "                            count unique        top   freq       mean  \\\n",
       "race                        52500      6  Caucasian  38822        NaN   \n",
       "gender                      52500      3     Female  28175        NaN   \n",
       "age                         52500     10    [70-80)  13509        NaN   \n",
       "admission_type_id         52500.0    NaN        NaN    NaN   2.147238   \n",
       "discharge_disposition_id  52500.0    NaN        NaN    NaN   3.799257   \n",
       "admission_source_id       52500.0    NaN        NaN    NaN   5.813924   \n",
       "time_in_hospital          52500.0    NaN        NaN    NaN   4.341752   \n",
       "num_lab_procedures        52500.0    NaN        NaN    NaN  42.996171   \n",
       "num_procedures            52500.0    NaN        NaN    NaN   1.398152   \n",
       "num_medications           52500.0    NaN        NaN    NaN  15.192629   \n",
       "number_outpatient         52500.0    NaN        NaN    NaN   0.280019   \n",
       "number_emergency          52500.0    NaN        NaN    NaN   0.124819   \n",
       "number_inpatient          52500.0    NaN        NaN    NaN    0.47661   \n",
       "diag_1                      52500    667        414   3861        NaN   \n",
       "diag_2                      52500    664        250   3648        NaN   \n",
       "diag_3                      52500    697        250   6646        NaN   \n",
       "number_diagnoses          52500.0    NaN        NaN    NaN   7.089352   \n",
       "change                      52500      2         No  33305        NaN   \n",
       "diabatic                    52500      2        Yes  34193        NaN   \n",
       "\n",
       "                                std  min   25%   50%   75%    max  \n",
       "race                            NaN  NaN   NaN   NaN   NaN    NaN  \n",
       "gender                          NaN  NaN   NaN   NaN   NaN    NaN  \n",
       "age                             NaN  NaN   NaN   NaN   NaN    NaN  \n",
       "admission_type_id          1.547276  1.0   1.0   2.0   3.0    8.0  \n",
       "discharge_disposition_id    5.41455  1.0   1.0   1.0   4.0   28.0  \n",
       "admission_source_id        4.400001  1.0   1.0   7.0   7.0   20.0  \n",
       "time_in_hospital           3.015526  1.0   2.0   4.0   6.0   14.0  \n",
       "num_lab_procedures        19.347772  1.0  31.0  44.0  56.0  129.0  \n",
       "num_procedures             1.713572  0.0   0.0   1.0   2.0    6.0  \n",
       "num_medications            8.201336  1.0  10.0  14.0  19.0   81.0  \n",
       "number_outpatient          1.034855  0.0   0.0   0.0   0.0   36.0  \n",
       "number_emergency            0.66093  0.0   0.0   0.0   0.0   64.0  \n",
       "number_inpatient           1.020395  0.0   0.0   0.0   1.0   19.0  \n",
       "diag_1                          NaN  NaN   NaN   NaN   NaN    NaN  \n",
       "diag_2                          NaN  NaN   NaN   NaN   NaN    NaN  \n",
       "diag_3                          NaN  NaN   NaN   NaN   NaN    NaN  \n",
       "number_diagnoses           2.018542  1.0   5.0   8.0   9.0   16.0  \n",
       "change                          NaN  NaN   NaN   NaN   NaN    NaN  \n",
       "diabatic                        NaN  NaN   NaN   NaN   NaN    NaN  "
      ]
     },
     "execution_count": 15,
     "metadata": {},
     "output_type": "execute_result"
    }
   ],
   "source": [
    "df.describe(include='all').T"
   ]
  },
  {
   "cell_type": "code",
   "execution_count": 16,
   "id": "0926476a",
   "metadata": {},
   "outputs": [
    {
     "data": {
      "text/plain": [
       "Yes    65.129524\n",
       "No     34.870476\n",
       "Name: diabatic, dtype: float64"
      ]
     },
     "execution_count": 16,
     "metadata": {},
     "output_type": "execute_result"
    }
   ],
   "source": [
    "df['diabatic'].value_counts(normalize=True)*100"
   ]
  },
  {
   "cell_type": "markdown",
   "id": "224dccf7",
   "metadata": {},
   "source": [
    "#### Here the class is balanced"
   ]
  },
  {
   "cell_type": "markdown",
   "id": "0fb29acb",
   "metadata": {},
   "source": [
    "### Getting all value counts for nominal columns"
   ]
  },
  {
   "cell_type": "code",
   "execution_count": 17,
   "id": "ca3e37e2",
   "metadata": {},
   "outputs": [
    {
     "name": "stdout",
     "output_type": "stream",
     "text": [
      "RACE : 6\n",
      "Asian                314\n",
      "Other                718\n",
      "Hispanic            1013\n",
      "?                   1247\n",
      "AfricanAmerican    10386\n",
      "Caucasian          38822\n",
      "Name: race, dtype: int64\n",
      "\n",
      "\n",
      "GENDER : 3\n",
      "Unknown/Invalid        2\n",
      "Male               24323\n",
      "Female             28175\n",
      "Name: gender, dtype: int64\n",
      "\n",
      "\n",
      "AGE : 10\n",
      "[0-10)        149\n",
      "[10-20)       432\n",
      "[20-30)       820\n",
      "[90-100)     1451\n",
      "[30-40)      2018\n",
      "[40-50)      5055\n",
      "[80-90)      8489\n",
      "[50-60)      9141\n",
      "[60-70)     11436\n",
      "[70-80)     13509\n",
      "Name: age, dtype: int64\n",
      "\n",
      "\n",
      "ADMISSION_TYPE_ID : 8\n",
      "4        7\n",
      "7        7\n",
      "8      192\n",
      "5     2737\n",
      "6     3716\n",
      "3     9537\n",
      "2    10221\n",
      "1    26083\n",
      "Name: admission_type_id, dtype: int64\n",
      "\n",
      "\n",
      "DISCHARGE_DISPOSITION_ID : 26\n",
      "27        2\n",
      "12        2\n",
      "20        2\n",
      "19        5\n",
      "16        5\n",
      "10        6\n",
      "9         8\n",
      "17       11\n",
      "24       14\n",
      "15       22\n",
      "28       51\n",
      "8        71\n",
      "14      213\n",
      "13      213\n",
      "23      217\n",
      "7       310\n",
      "4       510\n",
      "25      557\n",
      "5       734\n",
      "22      868\n",
      "2      1134\n",
      "11     1254\n",
      "18     2385\n",
      "6      5824\n",
      "3      6263\n",
      "1     31819\n",
      "Name: discharge_disposition_id, dtype: int64\n",
      "\n",
      "\n",
      "ADMISSION_SOURCE_ID : 13\n",
      "10        1\n",
      "14        2\n",
      "8         6\n",
      "9        96\n",
      "3       115\n",
      "20      138\n",
      "5       542\n",
      "2       881\n",
      "6      1722\n",
      "4      2171\n",
      "17     4491\n",
      "1     15834\n",
      "7     26501\n",
      "Name: admission_source_id, dtype: int64\n",
      "\n",
      "\n",
      "DIAG_1 : 667\n",
      "583       1\n",
      "314       1\n",
      "543       1\n",
      "988       1\n",
      "110       1\n",
      "       ... \n",
      "486    1728\n",
      "410    2078\n",
      "786    2369\n",
      "428    3064\n",
      "414    3861\n",
      "Name: diag_1, Length: 667, dtype: int64\n",
      "\n",
      "\n",
      "DIAG_2 : 664\n",
      "E853       1\n",
      "641        1\n",
      "395        1\n",
      "866        1\n",
      "748        1\n",
      "        ... \n",
      "401     2240\n",
      "427     2652\n",
      "276     3357\n",
      "428     3397\n",
      "250     3648\n",
      "Name: diag_2, Length: 664, dtype: int64\n",
      "\n",
      "\n",
      "DIAG_3 : 697\n",
      "E920       1\n",
      "702        1\n",
      "E892       1\n",
      "V86        1\n",
      "148        1\n",
      "        ... \n",
      "427     2077\n",
      "428     2207\n",
      "276     2453\n",
      "401     4854\n",
      "250     6646\n",
      "Name: diag_3, Length: 697, dtype: int64\n",
      "\n",
      "\n",
      "CHANGE : 2\n",
      "Ch    19195\n",
      "No    33305\n",
      "Name: change, dtype: int64\n",
      "\n",
      "\n",
      "DIABATIC : 2\n",
      "No     18307\n",
      "Yes    34193\n",
      "Name: diabatic, dtype: int64\n",
      "\n",
      "\n"
     ]
    }
   ],
   "source": [
    "for col in df[['race','gender','age','admission_type_id','discharge_disposition_id','admission_source_id','diag_1',\n",
    "              'diag_2','diag_3','change','diabatic']]:\n",
    "    print(col.upper(),':',df[col].nunique())\n",
    "    print(df[col].value_counts().sort_values())\n",
    "    print('\\n')"
   ]
  },
  {
   "cell_type": "markdown",
   "id": "e88d8af5",
   "metadata": {},
   "source": [
    "Race, diag1,diag2,diag3 has ? value"
   ]
  },
  {
   "cell_type": "markdown",
   "id": "20639868",
   "metadata": {},
   "source": [
    "diag1,diag2,diag3 are categorical and have lot of values which is useless to us."
   ]
  },
  {
   "cell_type": "code",
   "execution_count": 18,
   "id": "5ee36e80",
   "metadata": {},
   "outputs": [
    {
     "name": "stdout",
     "output_type": "stream",
     "text": [
      "Before Removing:  19\n",
      "After Removing:  16\n"
     ]
    }
   ],
   "source": [
    "print(\"Before Removing: \", df.shape[1])\n",
    "df.drop(['diag_1','diag_2','diag_3'],axis=1,inplace=True)\n",
    "print(\"After Removing: \", df.shape[1])"
   ]
  },
  {
   "cell_type": "code",
   "execution_count": 19,
   "id": "788331d5",
   "metadata": {},
   "outputs": [],
   "source": [
    "df.gender.replace('Unkown/Invalid',np.nan,inplace=True)\n",
    "df.race.replace('?',np.nan,inplace=True)\n",
    "df.dropna(inplace=True)"
   ]
  },
  {
   "cell_type": "code",
   "execution_count": 20,
   "id": "f7c0e1af",
   "metadata": {},
   "outputs": [
    {
     "data": {
      "text/plain": [
       "(51253, 16)"
      ]
     },
     "execution_count": 20,
     "metadata": {},
     "output_type": "execute_result"
    }
   ],
   "source": [
    "df.shape"
   ]
  },
  {
   "cell_type": "code",
   "execution_count": 21,
   "id": "a39ff707",
   "metadata": {},
   "outputs": [
    {
     "data": {
      "text/plain": [
       "18"
      ]
     },
     "execution_count": 21,
     "metadata": {},
     "output_type": "execute_result"
    }
   ],
   "source": [
    "df.duplicated().sum()"
   ]
  },
  {
   "cell_type": "code",
   "execution_count": 22,
   "id": "26908234",
   "metadata": {},
   "outputs": [],
   "source": [
    "df.drop_duplicates(inplace=True)"
   ]
  },
  {
   "cell_type": "code",
   "execution_count": 23,
   "id": "c3784730",
   "metadata": {},
   "outputs": [
    {
     "data": {
      "text/plain": [
       "Index(['race', 'gender', 'age', 'admission_type_id',\n",
       "       'discharge_disposition_id', 'admission_source_id', 'time_in_hospital',\n",
       "       'num_lab_procedures', 'num_procedures', 'num_medications',\n",
       "       'number_outpatient', 'number_emergency', 'number_inpatient',\n",
       "       'number_diagnoses', 'change', 'diabatic'],\n",
       "      dtype='object')"
      ]
     },
     "execution_count": 23,
     "metadata": {},
     "output_type": "execute_result"
    }
   ],
   "source": [
    "df.columns"
   ]
  },
  {
   "cell_type": "code",
   "execution_count": 24,
   "id": "b2896be5",
   "metadata": {},
   "outputs": [
    {
     "data": {
      "text/plain": [
       "<AxesSubplot:>"
      ]
     },
     "execution_count": 24,
     "metadata": {},
     "output_type": "execute_result"
    },
    {
     "data": {
      "image/png": "[encoded data removed]",
      "text/plain": [
       "<Figure size 1080x1080 with 1 Axes>"
      ]
     },
     "metadata": {
      "needs_background": "light"
     },
     "output_type": "display_data"
    }
   ],
   "source": [
    "plt.figure(figsize=(15,15))\n",
    "df[['time_in_hospital','num_lab_procedures','num_procedures','num_medications','number_outpatient','number_emergency','number_inpatient','number_diagnoses']].boxplot(vert=0)"
   ]
  },
  {
   "cell_type": "code",
   "execution_count": 25,
   "id": "5f153345",
   "metadata": {},
   "outputs": [],
   "source": [
    "def replace_outlier(col):\n",
    "    Q1,Q3 = np.quantile(col,[.25,.75])\n",
    "    IQR = Q3-Q1\n",
    "    LL = Q1 - 1.5*IQR\n",
    "    UL = Q3 + 1.5*IQR\n",
    "    return LL,UL    #UL- capping, LL-Flooring"
   ]
  },
  {
   "cell_type": "code",
   "execution_count": 26,
   "id": "2d0b0c88",
   "metadata": {},
   "outputs": [],
   "source": [
    "df_num = df[['time_in_hospital','num_lab_procedures','num_procedures','num_medications','number_outpatient','number_emergency','number_inpatient','number_diagnoses']]"
   ]
  },
  {
   "cell_type": "code",
   "execution_count": 27,
   "id": "a924e49c",
   "metadata": {},
   "outputs": [
    {
     "name": "stderr",
     "output_type": "stream",
     "text": [
      "/var/folders/bf/f89y356d061dpv04rhvw5mpw0000gn/T/ipykernel_87719/801041607.py:3: SettingWithCopyWarning: \n",
      "A value is trying to be set on a copy of a slice from a DataFrame.\n",
      "Try using .loc[row_indexer,col_indexer] = value instead\n",
      "\n",
      "See the caveats in the documentation: https://pandas.pydata.org/pandas-docs/stable/user_guide/indexing.html#returning-a-view-versus-a-copy\n",
      "  df_num[col] = np.where(df_num[col] > UL, UL,df_num[col])\n",
      "/var/folders/bf/f89y356d061dpv04rhvw5mpw0000gn/T/ipykernel_87719/801041607.py:4: SettingWithCopyWarning: \n",
      "A value is trying to be set on a copy of a slice from a DataFrame.\n",
      "Try using .loc[row_indexer,col_indexer] = value instead\n",
      "\n",
      "See the caveats in the documentation: https://pandas.pydata.org/pandas-docs/stable/user_guide/indexing.html#returning-a-view-versus-a-copy\n",
      "  df_num[col] = np.where(df_num[col] < LL, LL,df_num[col])# winsorization - capping and flooring\n"
     ]
    }
   ],
   "source": [
    "for col in df_num.columns:\n",
    "    LL, UL = replace_outlier(df[col])\n",
    "    df_num[col] = np.where(df_num[col] > UL, UL,df_num[col])\n",
    "    df_num[col] = np.where(df_num[col] < LL, LL,df_num[col])# winsorization - capping and flooring"
   ]
  },
  {
   "cell_type": "code",
   "execution_count": 28,
   "id": "ebfc9051",
   "metadata": {},
   "outputs": [
    {
     "data": {
      "text/plain": [
       "<AxesSubplot:>"
      ]
     },
     "execution_count": 28,
     "metadata": {},
     "output_type": "execute_result"
    },
    {
     "data": {
      "image/png": "[encoded data removed]",
      "text/plain": [
       "<Figure size 1080x1080 with 1 Axes>"
      ]
     },
     "metadata": {
      "needs_background": "light"
     },
     "output_type": "display_data"
    }
   ],
   "source": [
    "plt.figure(figsize=(15,15))\n",
    "df_num.boxplot(vert=0)"
   ]
  },
  {
   "cell_type": "markdown",
   "id": "d7200ec7",
   "metadata": {},
   "source": [
    "### Checking Pairwise distribution of continuous variables"
   ]
  },
  {
   "cell_type": "code",
   "execution_count": 29,
   "id": "a724df2b",
   "metadata": {},
   "outputs": [
    {
     "data": {
      "text/plain": [
       "<seaborn.axisgrid.PairGrid at 0x16b19d370>"
      ]
     },
     "execution_count": 29,
     "metadata": {},
     "output_type": "execute_result"
    },
    {
     "data": {
      "image/png": "[encoded data removed]",
      "text/plain": [
       "<Figure size 1440x1440 with 44 Axes>"
      ]
     },
     "metadata": {
      "needs_background": "light"
     },
     "output_type": "display_data"
    }
   ],
   "source": [
    "sns.pairplot(data=df_num,corner=True,kind='Scatter')"
   ]
  },
  {
   "cell_type": "markdown",
   "id": "e94548c1",
   "metadata": {},
   "source": [
    "### Checking for correlations"
   ]
  },
  {
   "cell_type": "code",
   "execution_count": 30,
   "id": "e4c0eaa9",
   "metadata": {},
   "outputs": [
    {
     "data": {
      "text/plain": [
       "<AxesSubplot:>"
      ]
     },
     "execution_count": 30,
     "metadata": {},
     "output_type": "execute_result"
    },
    {
     "data": {
      "image/png": "[encoded data removed]",
      "text/plain": [
       "<Figure size 720x576 with 2 Axes>"
      ]
     },
     "metadata": {
      "needs_background": "light"
     },
     "output_type": "display_data"
    }
   ],
   "source": [
    "plt.figure(figsize=(10,8))\n",
    "sns.set(font_scale=1.2)\n",
    "sns.heatmap(df_num.corr(),annot=True)"
   ]
  },
  {
   "cell_type": "code",
   "execution_count": 31,
   "id": "392b2b4d",
   "metadata": {},
   "outputs": [
    {
     "name": "stdout",
     "output_type": "stream",
     "text": [
      "\n",
      "\n",
      "Feature:  race\n",
      "['Caucasian', 'AfricanAmerican', 'Other', 'Asian', 'Hispanic']\n",
      "Categories (5, object): ['AfricanAmerican', 'Asian', 'Caucasian', 'Hispanic', 'Other']\n",
      "\n",
      "\n",
      "Feature:  gender\n",
      "['Female', 'Male', 'Unknown/Invalid']\n",
      "Categories (3, object): ['Female', 'Male', 'Unknown/Invalid']\n",
      "\n",
      "\n",
      "Feature:  age\n",
      "['[0-10)', '[10-20)', '[20-30)', '[30-40)', '[40-50)', '[50-60)', '[60-70)', '[70-80)', '[80-90)', '[90-100)']\n",
      "Categories (10, object): ['[0-10)', '[10-20)', '[20-30)', '[30-40)', ..., '[60-70)', '[70-80)', '[80-90)', '[90-100)']\n",
      "\n",
      "\n",
      "Feature:  change\n",
      "['No', 'Ch']\n",
      "Categories (2, object): ['Ch', 'No']\n",
      "\n",
      "\n",
      "Feature:  diabatic\n",
      "['No', 'Yes']\n",
      "Categories (2, object): ['No', 'Yes']\n"
     ]
    }
   ],
   "source": [
    "for feature in df.columns:\n",
    "    if df[feature].dtype == 'object':\n",
    "        print('\\n')\n",
    "        print(\"Feature: \",feature)\n",
    "        print(pd.Categorical(df[feature].unique()))\n",
    "        \n",
    "        df[feature] = pd.Categorical(df[feature]).codes"
   ]
  },
  {
   "cell_type": "code",
   "execution_count": 32,
   "id": "d2888a4b",
   "metadata": {},
   "outputs": [
    {
     "data": {
      "text/html": [
       "<div>\n",
       "<style scoped>\n",
       "    .dataframe tbody tr th:only-of-type {\n",
       "        vertical-align: middle;\n",
       "    }\n",
       "\n",
       "    .dataframe tbody tr th {\n",
       "        vertical-align: top;\n",
       "    }\n",
       "\n",
       "    .dataframe thead th {\n",
       "        text-align: right;\n",
       "    }\n",
       "</style>\n",
       "<table border=\"1\" class=\"dataframe\">\n",
       "  <thead>\n",
       "    <tr style=\"text-align: right;\">\n",
       "      <th></th>\n",
       "      <th>race</th>\n",
       "      <th>gender</th>\n",
       "      <th>age</th>\n",
       "      <th>admission_type_id</th>\n",
       "      <th>discharge_disposition_id</th>\n",
       "      <th>admission_source_id</th>\n",
       "      <th>time_in_hospital</th>\n",
       "      <th>num_lab_procedures</th>\n",
       "      <th>num_procedures</th>\n",
       "      <th>num_medications</th>\n",
       "      <th>number_outpatient</th>\n",
       "      <th>number_emergency</th>\n",
       "      <th>number_inpatient</th>\n",
       "      <th>number_diagnoses</th>\n",
       "      <th>change</th>\n",
       "      <th>diabatic</th>\n",
       "    </tr>\n",
       "  </thead>\n",
       "  <tbody>\n",
       "    <tr>\n",
       "      <th>0</th>\n",
       "      <td>2</td>\n",
       "      <td>0</td>\n",
       "      <td>0</td>\n",
       "      <td>6</td>\n",
       "      <td>25</td>\n",
       "      <td>1</td>\n",
       "      <td>1</td>\n",
       "      <td>41</td>\n",
       "      <td>0</td>\n",
       "      <td>1</td>\n",
       "      <td>0</td>\n",
       "      <td>0</td>\n",
       "      <td>0</td>\n",
       "      <td>1</td>\n",
       "      <td>1</td>\n",
       "      <td>0</td>\n",
       "    </tr>\n",
       "    <tr>\n",
       "      <th>1</th>\n",
       "      <td>2</td>\n",
       "      <td>0</td>\n",
       "      <td>1</td>\n",
       "      <td>1</td>\n",
       "      <td>1</td>\n",
       "      <td>7</td>\n",
       "      <td>3</td>\n",
       "      <td>59</td>\n",
       "      <td>0</td>\n",
       "      <td>18</td>\n",
       "      <td>0</td>\n",
       "      <td>0</td>\n",
       "      <td>0</td>\n",
       "      <td>9</td>\n",
       "      <td>0</td>\n",
       "      <td>1</td>\n",
       "    </tr>\n",
       "    <tr>\n",
       "      <th>2</th>\n",
       "      <td>0</td>\n",
       "      <td>0</td>\n",
       "      <td>2</td>\n",
       "      <td>1</td>\n",
       "      <td>1</td>\n",
       "      <td>7</td>\n",
       "      <td>2</td>\n",
       "      <td>11</td>\n",
       "      <td>5</td>\n",
       "      <td>13</td>\n",
       "      <td>2</td>\n",
       "      <td>0</td>\n",
       "      <td>1</td>\n",
       "      <td>6</td>\n",
       "      <td>1</td>\n",
       "      <td>1</td>\n",
       "    </tr>\n",
       "    <tr>\n",
       "      <th>3</th>\n",
       "      <td>2</td>\n",
       "      <td>1</td>\n",
       "      <td>3</td>\n",
       "      <td>1</td>\n",
       "      <td>1</td>\n",
       "      <td>7</td>\n",
       "      <td>2</td>\n",
       "      <td>44</td>\n",
       "      <td>1</td>\n",
       "      <td>16</td>\n",
       "      <td>0</td>\n",
       "      <td>0</td>\n",
       "      <td>0</td>\n",
       "      <td>7</td>\n",
       "      <td>0</td>\n",
       "      <td>1</td>\n",
       "    </tr>\n",
       "    <tr>\n",
       "      <th>4</th>\n",
       "      <td>2</td>\n",
       "      <td>1</td>\n",
       "      <td>4</td>\n",
       "      <td>1</td>\n",
       "      <td>1</td>\n",
       "      <td>7</td>\n",
       "      <td>1</td>\n",
       "      <td>51</td>\n",
       "      <td>0</td>\n",
       "      <td>8</td>\n",
       "      <td>0</td>\n",
       "      <td>0</td>\n",
       "      <td>0</td>\n",
       "      <td>5</td>\n",
       "      <td>0</td>\n",
       "      <td>1</td>\n",
       "    </tr>\n",
       "  </tbody>\n",
       "</table>\n",
       "</div>"
      ],
      "text/plain": [
       "   race  gender  age  admission_type_id  discharge_disposition_id  \\\n",
       "0     2       0    0                  6                        25   \n",
       "1     2       0    1                  1                         1   \n",
       "2     0       0    2                  1                         1   \n",
       "3     2       1    3                  1                         1   \n",
       "4     2       1    4                  1                         1   \n",
       "\n",
       "   admission_source_id  time_in_hospital  num_lab_procedures  num_procedures  \\\n",
       "0                    1                 1                  41               0   \n",
       "1                    7                 3                  59               0   \n",
       "2                    7                 2                  11               5   \n",
       "3                    7                 2                  44               1   \n",
       "4                    7                 1                  51               0   \n",
       "\n",
       "   num_medications  number_outpatient  number_emergency  number_inpatient  \\\n",
       "0                1                  0                 0                 0   \n",
       "1               18                  0                 0                 0   \n",
       "2               13                  2                 0                 1   \n",
       "3               16                  0                 0                 0   \n",
       "4                8                  0                 0                 0   \n",
       "\n",
       "   number_diagnoses  change  diabatic  \n",
       "0                 1       1         0  \n",
       "1                 9       0         1  \n",
       "2                 6       1         1  \n",
       "3                 7       0         1  \n",
       "4                 5       0         1  "
      ]
     },
     "execution_count": 32,
     "metadata": {},
     "output_type": "execute_result"
    }
   ],
   "source": [
    "df.head()"
   ]
  },
  {
   "cell_type": "code",
   "execution_count": 33,
   "id": "e5df3a06",
   "metadata": {},
   "outputs": [
    {
     "name": "stdout",
     "output_type": "stream",
     "text": [
      "<class 'pandas.core.frame.DataFrame'>\n",
      "Int64Index: 51235 entries, 0 to 70179\n",
      "Data columns (total 16 columns):\n",
      " #   Column                    Non-Null Count  Dtype\n",
      "---  ------                    --------------  -----\n",
      " 0   race                      51235 non-null  int8 \n",
      " 1   gender                    51235 non-null  int8 \n",
      " 2   age                       51235 non-null  int8 \n",
      " 3   admission_type_id         51235 non-null  int64\n",
      " 4   discharge_disposition_id  51235 non-null  int64\n",
      " 5   admission_source_id       51235 non-null  int64\n",
      " 6   time_in_hospital          51235 non-null  int64\n",
      " 7   num_lab_procedures        51235 non-null  int64\n",
      " 8   num_procedures            51235 non-null  int64\n",
      " 9   num_medications           51235 non-null  int64\n",
      " 10  number_outpatient         51235 non-null  int64\n",
      " 11  number_emergency          51235 non-null  int64\n",
      " 12  number_inpatient          51235 non-null  int64\n",
      " 13  number_diagnoses          51235 non-null  int64\n",
      " 14  change                    51235 non-null  int8 \n",
      " 15  diabatic                  51235 non-null  int8 \n",
      "dtypes: int64(11), int8(5)\n",
      "memory usage: 4.9 MB\n"
     ]
    }
   ],
   "source": [
    "df.info()"
   ]
  },
  {
   "cell_type": "code",
   "execution_count": 34,
   "id": "a14ea0f9",
   "metadata": {},
   "outputs": [
    {
     "data": {
      "text/plain": [
       "1    64.984874\n",
       "0    35.015126\n",
       "Name: diabatic, dtype: float64"
      ]
     },
     "execution_count": 34,
     "metadata": {},
     "output_type": "execute_result"
    }
   ],
   "source": [
    "df.diabatic.value_counts(normalize=True)*100"
   ]
  },
  {
   "cell_type": "markdown",
   "id": "9d782029",
   "metadata": {},
   "source": [
    "there is no class imbalnce here"
   ]
  },
  {
   "cell_type": "markdown",
   "id": "5514d278",
   "metadata": {},
   "source": [
    "### Splitting into train and test"
   ]
  },
  {
   "cell_type": "code",
   "execution_count": 35,
   "id": "e7605907",
   "metadata": {},
   "outputs": [],
   "source": [
    "X = df.drop(['diabatic','change'],axis=1)"
   ]
  },
  {
   "cell_type": "code",
   "execution_count": 36,
   "id": "d02e424b",
   "metadata": {},
   "outputs": [
    {
     "data": {
      "text/html": [
       "<div>\n",
       "<style scoped>\n",
       "    .dataframe tbody tr th:only-of-type {\n",
       "        vertical-align: middle;\n",
       "    }\n",
       "\n",
       "    .dataframe tbody tr th {\n",
       "        vertical-align: top;\n",
       "    }\n",
       "\n",
       "    .dataframe thead th {\n",
       "        text-align: right;\n",
       "    }\n",
       "</style>\n",
       "<table border=\"1\" class=\"dataframe\">\n",
       "  <thead>\n",
       "    <tr style=\"text-align: right;\">\n",
       "      <th></th>\n",
       "      <th>race</th>\n",
       "      <th>gender</th>\n",
       "      <th>age</th>\n",
       "      <th>admission_type_id</th>\n",
       "      <th>discharge_disposition_id</th>\n",
       "      <th>admission_source_id</th>\n",
       "      <th>time_in_hospital</th>\n",
       "      <th>num_lab_procedures</th>\n",
       "      <th>num_procedures</th>\n",
       "      <th>num_medications</th>\n",
       "      <th>number_outpatient</th>\n",
       "      <th>number_emergency</th>\n",
       "      <th>number_inpatient</th>\n",
       "      <th>number_diagnoses</th>\n",
       "    </tr>\n",
       "  </thead>\n",
       "  <tbody>\n",
       "    <tr>\n",
       "      <th>0</th>\n",
       "      <td>2</td>\n",
       "      <td>0</td>\n",
       "      <td>0</td>\n",
       "      <td>6</td>\n",
       "      <td>25</td>\n",
       "      <td>1</td>\n",
       "      <td>1</td>\n",
       "      <td>41</td>\n",
       "      <td>0</td>\n",
       "      <td>1</td>\n",
       "      <td>0</td>\n",
       "      <td>0</td>\n",
       "      <td>0</td>\n",
       "      <td>1</td>\n",
       "    </tr>\n",
       "    <tr>\n",
       "      <th>1</th>\n",
       "      <td>2</td>\n",
       "      <td>0</td>\n",
       "      <td>1</td>\n",
       "      <td>1</td>\n",
       "      <td>1</td>\n",
       "      <td>7</td>\n",
       "      <td>3</td>\n",
       "      <td>59</td>\n",
       "      <td>0</td>\n",
       "      <td>18</td>\n",
       "      <td>0</td>\n",
       "      <td>0</td>\n",
       "      <td>0</td>\n",
       "      <td>9</td>\n",
       "    </tr>\n",
       "    <tr>\n",
       "      <th>2</th>\n",
       "      <td>0</td>\n",
       "      <td>0</td>\n",
       "      <td>2</td>\n",
       "      <td>1</td>\n",
       "      <td>1</td>\n",
       "      <td>7</td>\n",
       "      <td>2</td>\n",
       "      <td>11</td>\n",
       "      <td>5</td>\n",
       "      <td>13</td>\n",
       "      <td>2</td>\n",
       "      <td>0</td>\n",
       "      <td>1</td>\n",
       "      <td>6</td>\n",
       "    </tr>\n",
       "    <tr>\n",
       "      <th>3</th>\n",
       "      <td>2</td>\n",
       "      <td>1</td>\n",
       "      <td>3</td>\n",
       "      <td>1</td>\n",
       "      <td>1</td>\n",
       "      <td>7</td>\n",
       "      <td>2</td>\n",
       "      <td>44</td>\n",
       "      <td>1</td>\n",
       "      <td>16</td>\n",
       "      <td>0</td>\n",
       "      <td>0</td>\n",
       "      <td>0</td>\n",
       "      <td>7</td>\n",
       "    </tr>\n",
       "    <tr>\n",
       "      <th>4</th>\n",
       "      <td>2</td>\n",
       "      <td>1</td>\n",
       "      <td>4</td>\n",
       "      <td>1</td>\n",
       "      <td>1</td>\n",
       "      <td>7</td>\n",
       "      <td>1</td>\n",
       "      <td>51</td>\n",
       "      <td>0</td>\n",
       "      <td>8</td>\n",
       "      <td>0</td>\n",
       "      <td>0</td>\n",
       "      <td>0</td>\n",
       "      <td>5</td>\n",
       "    </tr>\n",
       "  </tbody>\n",
       "</table>\n",
       "</div>"
      ],
      "text/plain": [
       "   race  gender  age  admission_type_id  discharge_disposition_id  \\\n",
       "0     2       0    0                  6                        25   \n",
       "1     2       0    1                  1                         1   \n",
       "2     0       0    2                  1                         1   \n",
       "3     2       1    3                  1                         1   \n",
       "4     2       1    4                  1                         1   \n",
       "\n",
       "   admission_source_id  time_in_hospital  num_lab_procedures  num_procedures  \\\n",
       "0                    1                 1                  41               0   \n",
       "1                    7                 3                  59               0   \n",
       "2                    7                 2                  11               5   \n",
       "3                    7                 2                  44               1   \n",
       "4                    7                 1                  51               0   \n",
       "\n",
       "   num_medications  number_outpatient  number_emergency  number_inpatient  \\\n",
       "0                1                  0                 0                 0   \n",
       "1               18                  0                 0                 0   \n",
       "2               13                  2                 0                 1   \n",
       "3               16                  0                 0                 0   \n",
       "4                8                  0                 0                 0   \n",
       "\n",
       "   number_diagnoses  \n",
       "0                 1  \n",
       "1                 9  \n",
       "2                 6  \n",
       "3                 7  \n",
       "4                 5  "
      ]
     },
     "execution_count": 36,
     "metadata": {},
     "output_type": "execute_result"
    }
   ],
   "source": [
    "y = df['diabatic']\n",
    "X.head()"
   ]
  },
  {
   "cell_type": "code",
   "execution_count": 37,
   "id": "24a4ea11",
   "metadata": {},
   "outputs": [],
   "source": [
    "from sklearn.model_selection import train_test_split"
   ]
  },
  {
   "cell_type": "code",
   "execution_count": 38,
   "id": "b6159196",
   "metadata": {},
   "outputs": [],
   "source": [
    "X_train, X_test, train_labels, test_labels = train_test_split(X, y, test_size=0.3, random_state=40,stratify=y)"
   ]
  },
  {
   "cell_type": "code",
   "execution_count": 39,
   "id": "d7e8c125",
   "metadata": {},
   "outputs": [
    {
     "data": {
      "text/plain": [
       "1    64.984385\n",
       "0    35.015615\n",
       "Name: diabatic, dtype: float64"
      ]
     },
     "execution_count": 39,
     "metadata": {},
     "output_type": "execute_result"
    }
   ],
   "source": [
    "train_labels.value_counts(normalize=True)*100"
   ]
  },
  {
   "cell_type": "code",
   "execution_count": 40,
   "id": "cfa6740a",
   "metadata": {},
   "outputs": [
    {
     "data": {
      "text/plain": [
       "1    64.986013\n",
       "0    35.013987\n",
       "Name: diabatic, dtype: float64"
      ]
     },
     "execution_count": 40,
     "metadata": {},
     "output_type": "execute_result"
    }
   ],
   "source": [
    "test_labels.value_counts(normalize=True)*100"
   ]
  },
  {
   "cell_type": "markdown",
   "id": "cf0f0319",
   "metadata": {},
   "source": [
    "### Checking dimensions of test and train data\n"
   ]
  },
  {
   "cell_type": "code",
   "execution_count": 41,
   "id": "8a8e4625",
   "metadata": {},
   "outputs": [
    {
     "name": "stdout",
     "output_type": "stream",
     "text": [
      "X_train:  (35864, 14)\n",
      "X_test:  (15371, 14)\n",
      "train_labels:  (35864,)\n",
      "test_labels:  (15371,)\n"
     ]
    }
   ],
   "source": [
    "print(\"X_train: \",X_train.shape)\n",
    "print(\"X_test: \",X_test.shape)\n",
    "print(\"train_labels: \",train_labels.shape)\n",
    "print(\"test_labels: \",test_labels.shape)"
   ]
  },
  {
   "cell_type": "markdown",
   "id": "5707a1d8",
   "metadata": {},
   "source": [
    "## Building Decision tree classifier"
   ]
  },
  {
   "cell_type": "code",
   "execution_count": 42,
   "id": "dd17ce55",
   "metadata": {},
   "outputs": [],
   "source": [
    "from sklearn.tree import DecisionTreeClassifier\n",
    "from sklearn.model_selection import GridSearchCV"
   ]
  },
  {
   "cell_type": "code",
   "execution_count": 43,
   "id": "265ed3c0",
   "metadata": {},
   "outputs": [],
   "source": [
    "param = {\n",
    "    'max_depth' : [10,12],#[3,5,7,9\n",
    "    'min_samples_split' : [200],#150-450\n",
    "    'min_samples_leaf' : [250,300,750]\n",
    "    \n",
    "}\n",
    "dtcl = DecisionTreeClassifier()\n",
    "grid = GridSearchCV(estimator=dtcl,param_grid=param,cv=10)#cv=3,8,10"
   ]
  },
  {
   "cell_type": "code",
   "execution_count": 44,
   "id": "821688dc",
   "metadata": {},
   "outputs": [
    {
     "name": "stdout",
     "output_type": "stream",
     "text": [
      "{'max_depth': 10, 'min_samples_leaf': 250, 'min_samples_split': 200}\n"
     ]
    },
    {
     "data": {
      "text/plain": [
       "DecisionTreeClassifier(max_depth=10, min_samples_leaf=250,\n",
       "                       min_samples_split=200)"
      ]
     },
     "execution_count": 44,
     "metadata": {},
     "output_type": "execute_result"
    }
   ],
   "source": [
    "grid.fit(X_train,train_labels)\n",
    "print(grid.best_params_)\n",
    "best_grid = grid.best_estimator_\n",
    "best_grid"
   ]
  },
  {
   "cell_type": "markdown",
   "id": "489399c9",
   "metadata": {},
   "source": [
    "### Checking Variable imprortance"
   ]
  },
  {
   "cell_type": "code",
   "execution_count": 45,
   "id": "2eebb84c",
   "metadata": {},
   "outputs": [
    {
     "name": "stdout",
     "output_type": "stream",
     "text": [
      "                               Imp\n",
      "num_medications           0.549850\n",
      "number_diagnoses          0.190308\n",
      "num_procedures            0.102373\n",
      "admission_type_id         0.043860\n",
      "age                       0.036145\n",
      "num_lab_procedures        0.026182\n",
      "admission_source_id       0.021629\n",
      "gender                    0.010323\n",
      "number_inpatient          0.006157\n",
      "discharge_disposition_id  0.005101\n",
      "race                      0.002904\n",
      "time_in_hospital          0.002824\n",
      "number_outpatient         0.002345\n",
      "number_emergency          0.000000\n"
     ]
    }
   ],
   "source": [
    "print(pd.DataFrame(best_grid.feature_importances_,columns=[\"Imp\"],index=X_train.columns).sort_values(\"Imp\",ascending=False))"
   ]
  },
  {
   "cell_type": "code",
   "execution_count": 46,
   "id": "80fd1a8b",
   "metadata": {},
   "outputs": [
    {
     "data": {
      "text/plain": [
       "array([1, 1, 0, 1, 1], dtype=int8)"
      ]
     },
     "execution_count": 46,
     "metadata": {},
     "output_type": "execute_result"
    }
   ],
   "source": [
    "y_trainPR = best_grid.predict(X_train)\n",
    "y_trainPR[:5]"
   ]
  },
  {
   "cell_type": "code",
   "execution_count": 47,
   "id": "68da5ba0",
   "metadata": {},
   "outputs": [
    {
     "data": {
      "text/plain": [
       "29560    1\n",
       "51356    1\n",
       "38456    1\n",
       "48620    1\n",
       "7762     1\n",
       "Name: diabatic, dtype: int8"
      ]
     },
     "execution_count": 47,
     "metadata": {},
     "output_type": "execute_result"
    }
   ],
   "source": [
    "train_labels.head(5)"
   ]
  },
  {
   "cell_type": "code",
   "execution_count": 48,
   "id": "9b55422f",
   "metadata": {},
   "outputs": [
    {
     "data": {
      "text/plain": [
       "array([0, 0, 0, 1, 0], dtype=int8)"
      ]
     },
     "execution_count": 48,
     "metadata": {},
     "output_type": "execute_result"
    }
   ],
   "source": [
    "y_testPR = best_grid.predict(X_test)\n",
    "y_testPR[:5]"
   ]
  },
  {
   "cell_type": "code",
   "execution_count": 49,
   "id": "c80d21bc",
   "metadata": {},
   "outputs": [
    {
     "data": {
      "text/plain": [
       "47539    1\n",
       "56282    0\n",
       "4413     0\n",
       "19398    1\n",
       "67827    0\n",
       "Name: diabatic, dtype: int8"
      ]
     },
     "execution_count": 49,
     "metadata": {},
     "output_type": "execute_result"
    }
   ],
   "source": [
    "test_labels.head(5)"
   ]
  },
  {
   "cell_type": "code",
   "execution_count": 50,
   "id": "e9b5f831",
   "metadata": {},
   "outputs": [
    {
     "data": {
      "text/html": [
       "<div>\n",
       "<style scoped>\n",
       "    .dataframe tbody tr th:only-of-type {\n",
       "        vertical-align: middle;\n",
       "    }\n",
       "\n",
       "    .dataframe tbody tr th {\n",
       "        vertical-align: top;\n",
       "    }\n",
       "\n",
       "    .dataframe thead th {\n",
       "        text-align: right;\n",
       "    }\n",
       "</style>\n",
       "<table border=\"1\" class=\"dataframe\">\n",
       "  <thead>\n",
       "    <tr style=\"text-align: right;\">\n",
       "      <th></th>\n",
       "      <th>0</th>\n",
       "      <th>1</th>\n",
       "    </tr>\n",
       "  </thead>\n",
       "  <tbody>\n",
       "    <tr>\n",
       "      <th>0</th>\n",
       "      <td>0.509091</td>\n",
       "      <td>0.490909</td>\n",
       "    </tr>\n",
       "    <tr>\n",
       "      <th>1</th>\n",
       "      <td>0.509091</td>\n",
       "      <td>0.490909</td>\n",
       "    </tr>\n",
       "    <tr>\n",
       "      <th>2</th>\n",
       "      <td>0.552870</td>\n",
       "      <td>0.447130</td>\n",
       "    </tr>\n",
       "    <tr>\n",
       "      <th>3</th>\n",
       "      <td>0.377163</td>\n",
       "      <td>0.622837</td>\n",
       "    </tr>\n",
       "    <tr>\n",
       "      <th>4</th>\n",
       "      <td>0.723140</td>\n",
       "      <td>0.276860</td>\n",
       "    </tr>\n",
       "  </tbody>\n",
       "</table>\n",
       "</div>"
      ],
      "text/plain": [
       "          0         1\n",
       "0  0.509091  0.490909\n",
       "1  0.509091  0.490909\n",
       "2  0.552870  0.447130\n",
       "3  0.377163  0.622837\n",
       "4  0.723140  0.276860"
      ]
     },
     "execution_count": 50,
     "metadata": {},
     "output_type": "execute_result"
    }
   ],
   "source": [
    "ytest_predict_prob = best_grid.predict_proba(X_test)\n",
    "pd.DataFrame(ytest_predict_prob).head()"
   ]
  },
  {
   "cell_type": "markdown",
   "id": "ef357d94",
   "metadata": {},
   "source": [
    "### Confusion matrix"
   ]
  },
  {
   "cell_type": "code",
   "execution_count": 51,
   "id": "f3e304aa",
   "metadata": {},
   "outputs": [],
   "source": [
    "from sklearn.metrics import classification_report,confusion_matrix"
   ]
  },
  {
   "cell_type": "code",
   "execution_count": 52,
   "id": "013c3054",
   "metadata": {},
   "outputs": [
    {
     "data": {
      "text/plain": [
       "Text(28.5, 0.5, 'Actual values')"
      ]
     },
     "execution_count": 52,
     "metadata": {},
     "output_type": "execute_result"
    },
    {
     "data": {
      "image/png": "[encoded data removed]",
      "text/plain": [
       "<Figure size 432x288 with 1 Axes>"
      ]
     },
     "metadata": {},
     "output_type": "display_data"
    }
   ],
   "source": [
    "sns.heatmap(confusion_matrix(train_labels,y_trainPR),annot=True,cbar=False,fmt='.2f')\n",
    "plt.xlabel(\"Predicted values\")\n",
    "plt.ylabel(\"Actual values\")"
   ]
  },
  {
   "cell_type": "code",
   "execution_count": 53,
   "id": "39beb75f",
   "metadata": {},
   "outputs": [
    {
     "data": {
      "text/plain": [
       "0.6814633058219942"
      ]
     },
     "execution_count": 53,
     "metadata": {},
     "output_type": "execute_result"
    }
   ],
   "source": [
    "## Train data acc\n",
    "cart_train_acc = best_grid.score(X_train,train_labels)\n",
    "cart_train_acc"
   ]
  },
  {
   "cell_type": "code",
   "execution_count": 54,
   "id": "4cb47b5f",
   "metadata": {},
   "outputs": [
    {
     "name": "stdout",
     "output_type": "stream",
     "text": [
      "              precision    recall  f1-score   support\n",
      "\n",
      "           0       0.61      0.26      0.36     12558\n",
      "           1       0.69      0.91      0.79     23306\n",
      "\n",
      "    accuracy                           0.68     35864\n",
      "   macro avg       0.65      0.58      0.57     35864\n",
      "weighted avg       0.66      0.68      0.64     35864\n",
      "\n"
     ]
    }
   ],
   "source": [
    "print(classification_report(train_labels,y_trainPR))"
   ]
  },
  {
   "cell_type": "code",
   "execution_count": 55,
   "id": "f4e3bff8",
   "metadata": {},
   "outputs": [
    {
     "data": {
      "text/html": [
       "<div>\n",
       "<style scoped>\n",
       "    .dataframe tbody tr th:only-of-type {\n",
       "        vertical-align: middle;\n",
       "    }\n",
       "\n",
       "    .dataframe tbody tr th {\n",
       "        vertical-align: top;\n",
       "    }\n",
       "\n",
       "    .dataframe thead th {\n",
       "        text-align: right;\n",
       "    }\n",
       "</style>\n",
       "<table border=\"1\" class=\"dataframe\">\n",
       "  <thead>\n",
       "    <tr style=\"text-align: right;\">\n",
       "      <th></th>\n",
       "      <th>precision</th>\n",
       "      <th>recall</th>\n",
       "      <th>f1-score</th>\n",
       "      <th>support</th>\n",
       "    </tr>\n",
       "  </thead>\n",
       "  <tbody>\n",
       "    <tr>\n",
       "      <th>0</th>\n",
       "      <td>0.607386</td>\n",
       "      <td>0.255375</td>\n",
       "      <td>0.359569</td>\n",
       "      <td>12558.000000</td>\n",
       "    </tr>\n",
       "    <tr>\n",
       "      <th>1</th>\n",
       "      <td>0.694252</td>\n",
       "      <td>0.911053</td>\n",
       "      <td>0.788013</td>\n",
       "      <td>23306.000000</td>\n",
       "    </tr>\n",
       "    <tr>\n",
       "      <th>accuracy</th>\n",
       "      <td>0.681463</td>\n",
       "      <td>0.681463</td>\n",
       "      <td>0.681463</td>\n",
       "      <td>0.681463</td>\n",
       "    </tr>\n",
       "    <tr>\n",
       "      <th>macro avg</th>\n",
       "      <td>0.650819</td>\n",
       "      <td>0.583214</td>\n",
       "      <td>0.573791</td>\n",
       "      <td>35864.000000</td>\n",
       "    </tr>\n",
       "    <tr>\n",
       "      <th>weighted avg</th>\n",
       "      <td>0.663835</td>\n",
       "      <td>0.681463</td>\n",
       "      <td>0.637991</td>\n",
       "      <td>35864.000000</td>\n",
       "    </tr>\n",
       "  </tbody>\n",
       "</table>\n",
       "</div>"
      ],
      "text/plain": [
       "              precision    recall  f1-score       support\n",
       "0              0.607386  0.255375  0.359569  12558.000000\n",
       "1              0.694252  0.911053  0.788013  23306.000000\n",
       "accuracy       0.681463  0.681463  0.681463      0.681463\n",
       "macro avg      0.650819  0.583214  0.573791  35864.000000\n",
       "weighted avg   0.663835  0.681463  0.637991  35864.000000"
      ]
     },
     "execution_count": 55,
     "metadata": {},
     "output_type": "execute_result"
    }
   ],
   "source": [
    "cart_metrics = classification_report(train_labels,y_trainPR,output_dict=True)\n",
    "df = pd.DataFrame(cart_metrics).transpose()\n",
    "df"
   ]
  },
  {
   "cell_type": "code",
   "execution_count": 56,
   "id": "9dbea111",
   "metadata": {},
   "outputs": [
    {
     "name": "stdout",
     "output_type": "stream",
     "text": [
      "cart_train_precision:  0.69\n",
      "cart_train_recall:  0.91\n",
      "cart_train_f1:  0.79\n"
     ]
    }
   ],
   "source": [
    "cart_train_precision = round(df.loc[\"1\"][0],2)\n",
    "cart_train_recall = round(df.loc[\"1\"][1],2)\n",
    "cart_train_f1 = round(df.loc[\"1\"][2],2)\n",
    "print(\"cart_train_precision: \",cart_train_precision)\n",
    "print(\"cart_train_recall: \",cart_train_recall)\n",
    "print(\"cart_train_f1: \",cart_train_f1)"
   ]
  },
  {
   "cell_type": "markdown",
   "id": "96724292",
   "metadata": {},
   "source": [
    "### Confusion Mtrix for test data"
   ]
  },
  {
   "cell_type": "code",
   "execution_count": 57,
   "id": "26a3f5ce",
   "metadata": {},
   "outputs": [
    {
     "data": {
      "text/plain": [
       "Text(28.5, 0.5, 'Actual values')"
      ]
     },
     "execution_count": 57,
     "metadata": {},
     "output_type": "execute_result"
    },
    {
     "data": {
      "image/png": "[encoded data removed]",
      "text/plain": [
       "<Figure size 432x288 with 1 Axes>"
      ]
     },
     "metadata": {},
     "output_type": "display_data"
    }
   ],
   "source": [
    "sns.heatmap(confusion_matrix(test_labels,y_testPR),annot=True,cbar=False,fmt='.2f')\n",
    "plt.xlabel(\"Predicted values\")\n",
    "plt.ylabel(\"Actual values\")"
   ]
  },
  {
   "cell_type": "code",
   "execution_count": 58,
   "id": "5d197139",
   "metadata": {},
   "outputs": [
    {
     "data": {
      "text/plain": [
       "0.672695335371804"
      ]
     },
     "execution_count": 58,
     "metadata": {},
     "output_type": "execute_result"
    }
   ],
   "source": [
    "## Train data acc\n",
    "cart_test_acc = best_grid.score(X_test,test_labels)\n",
    "cart_test_acc"
   ]
  },
  {
   "cell_type": "code",
   "execution_count": 59,
   "id": "bd95c4c5",
   "metadata": {},
   "outputs": [
    {
     "name": "stdout",
     "output_type": "stream",
     "text": [
      "              precision    recall  f1-score   support\n",
      "\n",
      "           0       0.58      0.25      0.35      5382\n",
      "           1       0.69      0.90      0.78      9989\n",
      "\n",
      "    accuracy                           0.67     15371\n",
      "   macro avg       0.63      0.57      0.56     15371\n",
      "weighted avg       0.65      0.67      0.63     15371\n",
      "\n"
     ]
    }
   ],
   "source": [
    "print(classification_report(test_labels,y_testPR))"
   ]
  },
  {
   "cell_type": "code",
   "execution_count": 60,
   "id": "b6dace45",
   "metadata": {},
   "outputs": [
    {
     "data": {
      "text/html": [
       "<div>\n",
       "<style scoped>\n",
       "    .dataframe tbody tr th:only-of-type {\n",
       "        vertical-align: middle;\n",
       "    }\n",
       "\n",
       "    .dataframe tbody tr th {\n",
       "        vertical-align: top;\n",
       "    }\n",
       "\n",
       "    .dataframe thead th {\n",
       "        text-align: right;\n",
       "    }\n",
       "</style>\n",
       "<table border=\"1\" class=\"dataframe\">\n",
       "  <thead>\n",
       "    <tr style=\"text-align: right;\">\n",
       "      <th></th>\n",
       "      <th>precision</th>\n",
       "      <th>recall</th>\n",
       "      <th>f1-score</th>\n",
       "      <th>support</th>\n",
       "    </tr>\n",
       "  </thead>\n",
       "  <tbody>\n",
       "    <tr>\n",
       "      <th>0</th>\n",
       "      <td>0.575354</td>\n",
       "      <td>0.248978</td>\n",
       "      <td>0.347555</td>\n",
       "      <td>5382.000000</td>\n",
       "    </tr>\n",
       "    <tr>\n",
       "      <th>1</th>\n",
       "      <td>0.690078</td>\n",
       "      <td>0.900991</td>\n",
       "      <td>0.781555</td>\n",
       "      <td>9989.000000</td>\n",
       "    </tr>\n",
       "    <tr>\n",
       "      <th>accuracy</th>\n",
       "      <td>0.672695</td>\n",
       "      <td>0.672695</td>\n",
       "      <td>0.672695</td>\n",
       "      <td>0.672695</td>\n",
       "    </tr>\n",
       "    <tr>\n",
       "      <th>macro avg</th>\n",
       "      <td>0.632716</td>\n",
       "      <td>0.574985</td>\n",
       "      <td>0.564555</td>\n",
       "      <td>15371.000000</td>\n",
       "    </tr>\n",
       "    <tr>\n",
       "      <th>weighted avg</th>\n",
       "      <td>0.649909</td>\n",
       "      <td>0.672695</td>\n",
       "      <td>0.629595</td>\n",
       "      <td>15371.000000</td>\n",
       "    </tr>\n",
       "  </tbody>\n",
       "</table>\n",
       "</div>"
      ],
      "text/plain": [
       "              precision    recall  f1-score       support\n",
       "0              0.575354  0.248978  0.347555   5382.000000\n",
       "1              0.690078  0.900991  0.781555   9989.000000\n",
       "accuracy       0.672695  0.672695  0.672695      0.672695\n",
       "macro avg      0.632716  0.574985  0.564555  15371.000000\n",
       "weighted avg   0.649909  0.672695  0.629595  15371.000000"
      ]
     },
     "execution_count": 60,
     "metadata": {},
     "output_type": "execute_result"
    }
   ],
   "source": [
    "cart_metrics = classification_report(test_labels,y_testPR,output_dict=True)\n",
    "df1 = pd.DataFrame(cart_metrics).transpose()\n",
    "df1"
   ]
  },
  {
   "cell_type": "code",
   "execution_count": 61,
   "id": "e7546cbb",
   "metadata": {},
   "outputs": [
    {
     "name": "stdout",
     "output_type": "stream",
     "text": [
      "cart_test_precision:  0.69\n",
      "cart_test_recall:  0.9\n",
      "cart_test_f1:  0.78\n"
     ]
    }
   ],
   "source": [
    "cart_test_precision = round(df1.loc[\"1\"][0],2)\n",
    "cart_test_recall = round(df1.loc[\"1\"][1],2)\n",
    "cart_test_f1 = round(df1.loc[\"1\"][2],2)\n",
    "print(\"cart_test_precision: \",cart_test_precision)\n",
    "print(\"cart_test_recall: \",cart_test_recall)\n",
    "print(\"cart_test_f1: \",cart_test_f1)"
   ]
  },
  {
   "cell_type": "markdown",
   "id": "01c0ab9a",
   "metadata": {},
   "source": [
    "## Building a Random Forest Classifier"
   ]
  },
  {
   "cell_type": "markdown",
   "id": "eea5339f",
   "metadata": {},
   "source": [
    "### Grid search for finding out optimal values for hyper parameters"
   ]
  },
  {
   "cell_type": "code",
   "execution_count": 62,
   "id": "9d3133ce",
   "metadata": {},
   "outputs": [],
   "source": [
    "from sklearn.ensemble import RandomForestClassifier"
   ]
  },
  {
   "cell_type": "code",
   "execution_count": 63,
   "id": "a70a3c7f",
   "metadata": {},
   "outputs": [],
   "source": [
    "param_grid = {\n",
    "    'max_depth' : [10],#[3,5,7,9\n",
    "    'max_features' : [5],\n",
    "    'min_samples_split' : [750],#150-450\n",
    "    'min_samples_leaf' : [250],\n",
    "    'n_estimators' : [100]   \n",
    "}\n",
    "rfcl = RandomForestClassifier()\n",
    "grid = GridSearchCV(estimator=rfcl,param_grid=param_grid,cv=10)"
   ]
  },
  {
   "cell_type": "code",
   "execution_count": 64,
   "id": "72ef2f00",
   "metadata": {},
   "outputs": [
    {
     "data": {
      "text/plain": [
       "GridSearchCV(cv=10, estimator=RandomForestClassifier(),\n",
       "             param_grid={'max_depth': [10], 'max_features': [5],\n",
       "                         'min_samples_leaf': [250], 'min_samples_split': [750],\n",
       "                         'n_estimators': [100]})"
      ]
     },
     "execution_count": 64,
     "metadata": {},
     "output_type": "execute_result"
    }
   ],
   "source": [
    "grid.fit(X_train,train_labels)"
   ]
  },
  {
   "cell_type": "code",
   "execution_count": 65,
   "id": "7d7311f2",
   "metadata": {},
   "outputs": [
    {
     "data": {
      "text/plain": [
       "{'max_depth': 10,\n",
       " 'max_features': 5,\n",
       " 'min_samples_leaf': 250,\n",
       " 'min_samples_split': 750,\n",
       " 'n_estimators': 100}"
      ]
     },
     "execution_count": 65,
     "metadata": {},
     "output_type": "execute_result"
    }
   ],
   "source": [
    "grid.best_params_"
   ]
  },
  {
   "cell_type": "code",
   "execution_count": 66,
   "id": "b4177926",
   "metadata": {},
   "outputs": [
    {
     "data": {
      "text/plain": [
       "RandomForestClassifier(max_depth=10, max_features=5, min_samples_leaf=250,\n",
       "                       min_samples_split=750)"
      ]
     },
     "execution_count": 66,
     "metadata": {},
     "output_type": "execute_result"
    }
   ],
   "source": [
    "best_grid = grid.best_estimator_\n",
    "best_grid"
   ]
  },
  {
   "cell_type": "markdown",
   "id": "fdf834a7",
   "metadata": {},
   "source": [
    "### Predicting train and test data"
   ]
  },
  {
   "cell_type": "code",
   "execution_count": 67,
   "id": "55556015",
   "metadata": {},
   "outputs": [
    {
     "data": {
      "text/plain": [
       "array([1, 1, 0, 1, 1], dtype=int8)"
      ]
     },
     "execution_count": 67,
     "metadata": {},
     "output_type": "execute_result"
    }
   ],
   "source": [
    "ytrain_pr = best_grid.predict(X_train)\n",
    "ytrain_pr[:5]"
   ]
  },
  {
   "cell_type": "code",
   "execution_count": 68,
   "id": "0bf07d3c",
   "metadata": {},
   "outputs": [
    {
     "data": {
      "text/plain": [
       "29560    1\n",
       "51356    1\n",
       "38456    1\n",
       "48620    1\n",
       "7762     1\n",
       "Name: diabatic, dtype: int8"
      ]
     },
     "execution_count": 68,
     "metadata": {},
     "output_type": "execute_result"
    }
   ],
   "source": [
    "train_labels.head(5)"
   ]
  },
  {
   "cell_type": "code",
   "execution_count": 69,
   "id": "ec9656fb",
   "metadata": {},
   "outputs": [
    {
     "data": {
      "text/plain": [
       "array([1, 1, 0, 1, 0], dtype=int8)"
      ]
     },
     "execution_count": 69,
     "metadata": {},
     "output_type": "execute_result"
    }
   ],
   "source": [
    "ytest_pr = best_grid.predict(X_test)\n",
    "ytest_pr[:5]"
   ]
  },
  {
   "cell_type": "code",
   "execution_count": 70,
   "id": "0dfb5c83",
   "metadata": {},
   "outputs": [
    {
     "data": {
      "text/plain": [
       "47539    1\n",
       "56282    0\n",
       "4413     0\n",
       "19398    1\n",
       "67827    0\n",
       "Name: diabatic, dtype: int8"
      ]
     },
     "execution_count": 70,
     "metadata": {},
     "output_type": "execute_result"
    }
   ],
   "source": [
    "test_labels.head(5)"
   ]
  },
  {
   "cell_type": "markdown",
   "id": "7bf9f780",
   "metadata": {},
   "source": [
    "### RF model Performance evaluation training and testing data"
   ]
  },
  {
   "cell_type": "code",
   "execution_count": 71,
   "id": "352e6ecb",
   "metadata": {},
   "outputs": [
    {
     "data": {
      "text/plain": [
       "Text(28.5, 0.5, 'Actual values')"
      ]
     },
     "execution_count": 71,
     "metadata": {},
     "output_type": "execute_result"
    },
    {
     "data": {
      "image/png": "[encoded data removed]",
      "text/plain": [
       "<Figure size 432x288 with 1 Axes>"
      ]
     },
     "metadata": {},
     "output_type": "display_data"
    }
   ],
   "source": [
    "sns.heatmap(confusion_matrix(train_labels,ytrain_pr),annot=True,cbar=False,fmt='.2f')\n",
    "plt.xlabel(\"Predicted values\")\n",
    "plt.ylabel(\"Actual values\")"
   ]
  },
  {
   "cell_type": "code",
   "execution_count": 72,
   "id": "254a3844",
   "metadata": {},
   "outputs": [
    {
     "data": {
      "text/plain": [
       "0.6831920588891367"
      ]
     },
     "execution_count": 72,
     "metadata": {},
     "output_type": "execute_result"
    }
   ],
   "source": [
    "## Train data acc\n",
    "rf_train_acc = best_grid.score(X_train,train_labels)\n",
    "rf_train_acc"
   ]
  },
  {
   "cell_type": "code",
   "execution_count": 73,
   "id": "f0be13f6",
   "metadata": {},
   "outputs": [
    {
     "name": "stdout",
     "output_type": "stream",
     "text": [
      "              precision    recall  f1-score   support\n",
      "\n",
      "           0       0.65      0.21      0.31     12558\n",
      "           1       0.69      0.94      0.79     23306\n",
      "\n",
      "    accuracy                           0.68     35864\n",
      "   macro avg       0.67      0.57      0.55     35864\n",
      "weighted avg       0.67      0.68      0.63     35864\n",
      "\n"
     ]
    }
   ],
   "source": [
    "print(classification_report(train_labels,ytrain_pr))"
   ]
  },
  {
   "cell_type": "code",
   "execution_count": 74,
   "id": "f308a29b",
   "metadata": {},
   "outputs": [
    {
     "data": {
      "text/html": [
       "<div>\n",
       "<style scoped>\n",
       "    .dataframe tbody tr th:only-of-type {\n",
       "        vertical-align: middle;\n",
       "    }\n",
       "\n",
       "    .dataframe tbody tr th {\n",
       "        vertical-align: top;\n",
       "    }\n",
       "\n",
       "    .dataframe thead th {\n",
       "        text-align: right;\n",
       "    }\n",
       "</style>\n",
       "<table border=\"1\" class=\"dataframe\">\n",
       "  <thead>\n",
       "    <tr style=\"text-align: right;\">\n",
       "      <th></th>\n",
       "      <th>precision</th>\n",
       "      <th>recall</th>\n",
       "      <th>f1-score</th>\n",
       "      <th>support</th>\n",
       "    </tr>\n",
       "  </thead>\n",
       "  <tbody>\n",
       "    <tr>\n",
       "      <th>0</th>\n",
       "      <td>0.650100</td>\n",
       "      <td>0.206243</td>\n",
       "      <td>0.313142</td>\n",
       "      <td>12558.000000</td>\n",
       "    </tr>\n",
       "    <tr>\n",
       "      <th>1</th>\n",
       "      <td>0.687327</td>\n",
       "      <td>0.940187</td>\n",
       "      <td>0.794114</td>\n",
       "      <td>23306.000000</td>\n",
       "    </tr>\n",
       "    <tr>\n",
       "      <th>accuracy</th>\n",
       "      <td>0.683192</td>\n",
       "      <td>0.683192</td>\n",
       "      <td>0.683192</td>\n",
       "      <td>0.683192</td>\n",
       "    </tr>\n",
       "    <tr>\n",
       "      <th>macro avg</th>\n",
       "      <td>0.668714</td>\n",
       "      <td>0.573215</td>\n",
       "      <td>0.553628</td>\n",
       "      <td>35864.000000</td>\n",
       "    </tr>\n",
       "    <tr>\n",
       "      <th>weighted avg</th>\n",
       "      <td>0.674292</td>\n",
       "      <td>0.683192</td>\n",
       "      <td>0.625699</td>\n",
       "      <td>35864.000000</td>\n",
       "    </tr>\n",
       "  </tbody>\n",
       "</table>\n",
       "</div>"
      ],
      "text/plain": [
       "              precision    recall  f1-score       support\n",
       "0              0.650100  0.206243  0.313142  12558.000000\n",
       "1              0.687327  0.940187  0.794114  23306.000000\n",
       "accuracy       0.683192  0.683192  0.683192      0.683192\n",
       "macro avg      0.668714  0.573215  0.553628  35864.000000\n",
       "weighted avg   0.674292  0.683192  0.625699  35864.000000"
      ]
     },
     "execution_count": 74,
     "metadata": {},
     "output_type": "execute_result"
    }
   ],
   "source": [
    "rf_metrics = classification_report(train_labels,ytrain_pr,output_dict=True)\n",
    "df = pd.DataFrame(rf_metrics).transpose()\n",
    "df"
   ]
  },
  {
   "cell_type": "code",
   "execution_count": 75,
   "id": "da90be39",
   "metadata": {},
   "outputs": [
    {
     "name": "stdout",
     "output_type": "stream",
     "text": [
      "rf_train_precision:  0.69\n",
      "rf_train_recall:  0.94\n",
      "rf_train_f1:  0.79\n"
     ]
    }
   ],
   "source": [
    "rf_train_precision = round(df.loc[\"1\"][0],2)\n",
    "rf_train_recall = round(df.loc[\"1\"][1],2)\n",
    "rf_train_f1 = round(df.loc[\"1\"][2],2)\n",
    "print(\"rf_train_precision: \",rf_train_precision)\n",
    "print(\"rf_train_recall: \",rf_train_recall)\n",
    "print(\"rf_train_f1: \",rf_train_f1)"
   ]
  },
  {
   "cell_type": "markdown",
   "id": "7f4cd179",
   "metadata": {},
   "source": [
    "### For test data"
   ]
  },
  {
   "cell_type": "code",
   "execution_count": 76,
   "id": "a1cde1f4",
   "metadata": {},
   "outputs": [
    {
     "data": {
      "text/plain": [
       "Text(28.5, 0.5, 'Actual values')"
      ]
     },
     "execution_count": 76,
     "metadata": {},
     "output_type": "execute_result"
    },
    {
     "data": {
      "image/png": "[encoded data removed]",
      "text/plain": [
       "<Figure size 432x288 with 1 Axes>"
      ]
     },
     "metadata": {},
     "output_type": "display_data"
    }
   ],
   "source": [
    "sns.heatmap(confusion_matrix(test_labels,ytest_pr),annot=True,cbar=False,fmt='.2f')\n",
    "plt.xlabel(\"Predicted values\")\n",
    "plt.ylabel(\"Actual values\")"
   ]
  },
  {
   "cell_type": "code",
   "execution_count": 77,
   "id": "4d970530",
   "metadata": {},
   "outputs": [
    {
     "data": {
      "text/plain": [
       "0.6762735020493137"
      ]
     },
     "execution_count": 77,
     "metadata": {},
     "output_type": "execute_result"
    }
   ],
   "source": [
    "## Train data acc\n",
    "rf_test_acc = best_grid.score(X_test,test_labels)\n",
    "rf_test_acc"
   ]
  },
  {
   "cell_type": "code",
   "execution_count": 78,
   "id": "679d7fa1",
   "metadata": {},
   "outputs": [
    {
     "name": "stdout",
     "output_type": "stream",
     "text": [
      "              precision    recall  f1-score   support\n",
      "\n",
      "           0       0.62      0.19      0.30      5382\n",
      "           1       0.68      0.94      0.79      9989\n",
      "\n",
      "    accuracy                           0.68     15371\n",
      "   macro avg       0.65      0.57      0.54     15371\n",
      "weighted avg       0.66      0.68      0.62     15371\n",
      "\n"
     ]
    }
   ],
   "source": [
    "print(classification_report(test_labels,ytest_pr))"
   ]
  },
  {
   "cell_type": "code",
   "execution_count": 79,
   "id": "5d2a89f6",
   "metadata": {},
   "outputs": [
    {
     "data": {
      "text/html": [
       "<div>\n",
       "<style scoped>\n",
       "    .dataframe tbody tr th:only-of-type {\n",
       "        vertical-align: middle;\n",
       "    }\n",
       "\n",
       "    .dataframe tbody tr th {\n",
       "        vertical-align: top;\n",
       "    }\n",
       "\n",
       "    .dataframe thead th {\n",
       "        text-align: right;\n",
       "    }\n",
       "</style>\n",
       "<table border=\"1\" class=\"dataframe\">\n",
       "  <thead>\n",
       "    <tr style=\"text-align: right;\">\n",
       "      <th></th>\n",
       "      <th>precision</th>\n",
       "      <th>recall</th>\n",
       "      <th>f1-score</th>\n",
       "      <th>support</th>\n",
       "    </tr>\n",
       "  </thead>\n",
       "  <tbody>\n",
       "    <tr>\n",
       "      <th>0</th>\n",
       "      <td>0.620261</td>\n",
       "      <td>0.194537</td>\n",
       "      <td>0.296181</td>\n",
       "      <td>5382.000000</td>\n",
       "    </tr>\n",
       "    <tr>\n",
       "      <th>1</th>\n",
       "      <td>0.683184</td>\n",
       "      <td>0.935829</td>\n",
       "      <td>0.789794</td>\n",
       "      <td>9989.000000</td>\n",
       "    </tr>\n",
       "    <tr>\n",
       "      <th>accuracy</th>\n",
       "      <td>0.676274</td>\n",
       "      <td>0.676274</td>\n",
       "      <td>0.676274</td>\n",
       "      <td>0.676274</td>\n",
       "    </tr>\n",
       "    <tr>\n",
       "      <th>macro avg</th>\n",
       "      <td>0.651722</td>\n",
       "      <td>0.565183</td>\n",
       "      <td>0.542987</td>\n",
       "      <td>15371.000000</td>\n",
       "    </tr>\n",
       "    <tr>\n",
       "      <th>weighted avg</th>\n",
       "      <td>0.661152</td>\n",
       "      <td>0.676274</td>\n",
       "      <td>0.616960</td>\n",
       "      <td>15371.000000</td>\n",
       "    </tr>\n",
       "  </tbody>\n",
       "</table>\n",
       "</div>"
      ],
      "text/plain": [
       "              precision    recall  f1-score       support\n",
       "0              0.620261  0.194537  0.296181   5382.000000\n",
       "1              0.683184  0.935829  0.789794   9989.000000\n",
       "accuracy       0.676274  0.676274  0.676274      0.676274\n",
       "macro avg      0.651722  0.565183  0.542987  15371.000000\n",
       "weighted avg   0.661152  0.676274  0.616960  15371.000000"
      ]
     },
     "execution_count": 79,
     "metadata": {},
     "output_type": "execute_result"
    }
   ],
   "source": [
    "rf_metrics = classification_report(test_labels,ytest_pr,output_dict=True)\n",
    "df = pd.DataFrame(rf_metrics).transpose()\n",
    "df"
   ]
  },
  {
   "cell_type": "code",
   "execution_count": 80,
   "id": "c43de53d",
   "metadata": {},
   "outputs": [
    {
     "name": "stdout",
     "output_type": "stream",
     "text": [
      "rf_test_precision:  0.68\n",
      "rf_test_recall:  0.94\n",
      "rf_test_f1:  0.79\n"
     ]
    }
   ],
   "source": [
    "rf_test_precision = round(df.loc[\"1\"][0],2)\n",
    "rf_test_recall = round(df.loc[\"1\"][1],2)\n",
    "rf_test_f1 = round(df.loc[\"1\"][2],2)\n",
    "print(\"rf_test_precision: \",rf_test_precision)\n",
    "print(\"rf_test_recall: \",rf_test_recall)\n",
    "print(\"rf_test_f1: \",rf_test_f1)"
   ]
  },
  {
   "cell_type": "code",
   "execution_count": 81,
   "id": "ef01305e",
   "metadata": {},
   "outputs": [
    {
     "name": "stdout",
     "output_type": "stream",
     "text": [
      "                               Imp\n",
      "num_medications           0.546677\n",
      "number_diagnoses          0.146466\n",
      "time_in_hospital          0.073682\n",
      "num_procedures            0.059912\n",
      "age                       0.041143\n",
      "admission_type_id         0.033107\n",
      "admission_source_id       0.032478\n",
      "num_lab_procedures        0.027777\n",
      "race                      0.014668\n",
      "discharge_disposition_id  0.011093\n",
      "number_inpatient          0.006536\n",
      "gender                    0.004240\n",
      "number_outpatient         0.002113\n",
      "number_emergency          0.000108\n"
     ]
    }
   ],
   "source": [
    "print(pd.DataFrame(best_grid.feature_importances_,columns=[\"Imp\"],index=X_train.columns).sort_values(\"Imp\",ascending=False))"
   ]
  },
  {
   "cell_type": "code",
   "execution_count": 82,
   "id": "a981c087",
   "metadata": {},
   "outputs": [],
   "source": [
    "#roc"
   ]
  },
  {
   "cell_type": "markdown",
   "id": "36d52dfd",
   "metadata": {},
   "source": [
    "# Building a neural network classifier"
   ]
  },
  {
   "cell_type": "markdown",
   "id": "82e3ca8b",
   "metadata": {},
   "source": [
    "### Scaling data to mean (0-1)"
   ]
  },
  {
   "cell_type": "code",
   "execution_count": 83,
   "id": "571c9d5d",
   "metadata": {},
   "outputs": [],
   "source": [
    "# Scaling must be done for neural networks\n",
    "from sklearn.preprocessing import StandardScaler\n",
    "from sklearn.neural_network import MLPClassifier"
   ]
  },
  {
   "cell_type": "code",
   "execution_count": 84,
   "id": "56d4c58e",
   "metadata": {},
   "outputs": [],
   "source": [
    "sc = StandardScaler()"
   ]
  },
  {
   "cell_type": "code",
   "execution_count": 85,
   "id": "8d234310",
   "metadata": {},
   "outputs": [],
   "source": [
    "X_train_scaled = sc.fit_transform(X_train)\n",
    "X_test_scaled = sc.transform(X_test)"
   ]
  },
  {
   "cell_type": "code",
   "execution_count": 86,
   "id": "02815ecb",
   "metadata": {},
   "outputs": [],
   "source": [
    "param = {\n",
    "    'hidden_layer_sizes' : [32],#[32,64,128]\n",
    "    'max_iter' : [200],\n",
    "    'solver' : ['adam']#sdg\n",
    "}\n",
    "nncl = MLPClassifier(early_stopping=True,tol=0.01)\n",
    "grid = GridSearchCV(estimator=nncl,param_grid=param,cv=10)"
   ]
  },
  {
   "cell_type": "code",
   "execution_count": 87,
   "id": "5ce2c7da",
   "metadata": {},
   "outputs": [
    {
     "data": {
      "text/plain": [
       "{'hidden_layer_sizes': 32, 'max_iter': 200, 'solver': 'adam'}"
      ]
     },
     "execution_count": 87,
     "metadata": {},
     "output_type": "execute_result"
    }
   ],
   "source": [
    "grid.fit(X_train_scaled,train_labels)\n",
    "grid.best_params_"
   ]
  },
  {
   "cell_type": "code",
   "execution_count": 88,
   "id": "760b701b",
   "metadata": {},
   "outputs": [
    {
     "data": {
      "text/plain": [
       "MLPClassifier(early_stopping=True, hidden_layer_sizes=32, tol=0.01)"
      ]
     },
     "execution_count": 88,
     "metadata": {},
     "output_type": "execute_result"
    }
   ],
   "source": [
    "best_grid = grid.best_estimator_\n",
    "best_grid"
   ]
  },
  {
   "cell_type": "markdown",
   "id": "9e0626d7",
   "metadata": {},
   "source": [
    "### Predicting data"
   ]
  },
  {
   "cell_type": "code",
   "execution_count": 89,
   "id": "3d3f85c8",
   "metadata": {},
   "outputs": [
    {
     "data": {
      "text/plain": [
       "array([1, 1, 0, 1, 1], dtype=int8)"
      ]
     },
     "execution_count": 89,
     "metadata": {},
     "output_type": "execute_result"
    }
   ],
   "source": [
    "y_train_pr_nncl = best_grid.predict(X_train_scaled)\n",
    "y_train_pr_nncl[:5]"
   ]
  },
  {
   "cell_type": "code",
   "execution_count": 90,
   "id": "f84a0346",
   "metadata": {},
   "outputs": [
    {
     "data": {
      "text/plain": [
       "29560    1\n",
       "51356    1\n",
       "38456    1\n",
       "48620    1\n",
       "7762     1\n",
       "Name: diabatic, dtype: int8"
      ]
     },
     "execution_count": 90,
     "metadata": {},
     "output_type": "execute_result"
    }
   ],
   "source": [
    "train_labels.head()"
   ]
  },
  {
   "cell_type": "code",
   "execution_count": 91,
   "id": "5839792f",
   "metadata": {},
   "outputs": [
    {
     "data": {
      "text/plain": [
       "array([0, 1, 0, 1, 0], dtype=int8)"
      ]
     },
     "execution_count": 91,
     "metadata": {},
     "output_type": "execute_result"
    }
   ],
   "source": [
    "y_test_pr_nncl = best_grid.predict(X_test_scaled)\n",
    "y_test_pr_nncl[:5]"
   ]
  },
  {
   "cell_type": "code",
   "execution_count": 92,
   "id": "704fda74",
   "metadata": {},
   "outputs": [
    {
     "data": {
      "text/plain": [
       "47539    1\n",
       "56282    0\n",
       "4413     0\n",
       "19398    1\n",
       "67827    0\n",
       "Name: diabatic, dtype: int8"
      ]
     },
     "execution_count": 92,
     "metadata": {},
     "output_type": "execute_result"
    }
   ],
   "source": [
    "test_labels.head()"
   ]
  },
  {
   "cell_type": "markdown",
   "id": "688ae206",
   "metadata": {},
   "source": [
    "### NN model performance evaluation on training data"
   ]
  },
  {
   "cell_type": "code",
   "execution_count": 93,
   "id": "8df01b4e",
   "metadata": {},
   "outputs": [
    {
     "data": {
      "text/plain": [
       "Text(28.5, 0.5, 'Actual Values')"
      ]
     },
     "execution_count": 93,
     "metadata": {},
     "output_type": "execute_result"
    },
    {
     "data": {
      "image/png": "[encoded data removed]",
      "text/plain": [
       "<Figure size 432x288 with 1 Axes>"
      ]
     },
     "metadata": {},
     "output_type": "display_data"
    }
   ],
   "source": [
    "sns.heatmap(confusion_matrix(train_labels,y_train_pr_nncl),annot=True,cbar=False,fmt='.2f')\n",
    "plt.xlabel(\"Predicted Values\")\n",
    "plt.ylabel(\"Actual Values\")"
   ]
  },
  {
   "cell_type": "code",
   "execution_count": 94,
   "id": "b7ff439f",
   "metadata": {},
   "outputs": [
    {
     "data": {
      "text/plain": [
       "0.6844189159045282"
      ]
     },
     "execution_count": 94,
     "metadata": {},
     "output_type": "execute_result"
    }
   ],
   "source": [
    "## Train data acc\n",
    "nn_train_acc = best_grid.score(X_train_scaled,train_labels)\n",
    "nn_train_acc"
   ]
  },
  {
   "cell_type": "code",
   "execution_count": 95,
   "id": "89fb1e38",
   "metadata": {},
   "outputs": [
    {
     "name": "stdout",
     "output_type": "stream",
     "text": [
      "              precision    recall  f1-score   support\n",
      "\n",
      "           0       0.61      0.27      0.37     12558\n",
      "           1       0.70      0.91      0.79     23306\n",
      "\n",
      "    accuracy                           0.68     35864\n",
      "   macro avg       0.66      0.59      0.58     35864\n",
      "weighted avg       0.67      0.68      0.64     35864\n",
      "\n"
     ]
    }
   ],
   "source": [
    "print(classification_report(train_labels,y_train_pr_nncl))"
   ]
  },
  {
   "cell_type": "code",
   "execution_count": 96,
   "id": "c5ae29d9",
   "metadata": {},
   "outputs": [
    {
     "data": {
      "text/html": [
       "<div>\n",
       "<style scoped>\n",
       "    .dataframe tbody tr th:only-of-type {\n",
       "        vertical-align: middle;\n",
       "    }\n",
       "\n",
       "    .dataframe tbody tr th {\n",
       "        vertical-align: top;\n",
       "    }\n",
       "\n",
       "    .dataframe thead th {\n",
       "        text-align: right;\n",
       "    }\n",
       "</style>\n",
       "<table border=\"1\" class=\"dataframe\">\n",
       "  <thead>\n",
       "    <tr style=\"text-align: right;\">\n",
       "      <th></th>\n",
       "      <th>precision</th>\n",
       "      <th>recall</th>\n",
       "      <th>f1-score</th>\n",
       "      <th>support</th>\n",
       "    </tr>\n",
       "  </thead>\n",
       "  <tbody>\n",
       "    <tr>\n",
       "      <th>0</th>\n",
       "      <td>0.613761</td>\n",
       "      <td>0.266364</td>\n",
       "      <td>0.371502</td>\n",
       "      <td>12558.000000</td>\n",
       "    </tr>\n",
       "    <tr>\n",
       "      <th>1</th>\n",
       "      <td>0.697080</td>\n",
       "      <td>0.909680</td>\n",
       "      <td>0.789315</td>\n",
       "      <td>23306.000000</td>\n",
       "    </tr>\n",
       "    <tr>\n",
       "      <th>accuracy</th>\n",
       "      <td>0.684419</td>\n",
       "      <td>0.684419</td>\n",
       "      <td>0.684419</td>\n",
       "      <td>0.684419</td>\n",
       "    </tr>\n",
       "    <tr>\n",
       "      <th>macro avg</th>\n",
       "      <td>0.655421</td>\n",
       "      <td>0.588022</td>\n",
       "      <td>0.580408</td>\n",
       "      <td>35864.000000</td>\n",
       "    </tr>\n",
       "    <tr>\n",
       "      <th>weighted avg</th>\n",
       "      <td>0.667906</td>\n",
       "      <td>0.684419</td>\n",
       "      <td>0.643015</td>\n",
       "      <td>35864.000000</td>\n",
       "    </tr>\n",
       "  </tbody>\n",
       "</table>\n",
       "</div>"
      ],
      "text/plain": [
       "              precision    recall  f1-score       support\n",
       "0              0.613761  0.266364  0.371502  12558.000000\n",
       "1              0.697080  0.909680  0.789315  23306.000000\n",
       "accuracy       0.684419  0.684419  0.684419      0.684419\n",
       "macro avg      0.655421  0.588022  0.580408  35864.000000\n",
       "weighted avg   0.667906  0.684419  0.643015  35864.000000"
      ]
     },
     "execution_count": 96,
     "metadata": {},
     "output_type": "execute_result"
    }
   ],
   "source": [
    "nn_metrics = classification_report(train_labels,y_train_pr_nncl,output_dict=True)\n",
    "df = pd.DataFrame(nn_metrics).transpose()\n",
    "df"
   ]
  },
  {
   "cell_type": "code",
   "execution_count": 97,
   "id": "0854cb7e",
   "metadata": {},
   "outputs": [
    {
     "name": "stdout",
     "output_type": "stream",
     "text": [
      "rf_train_precision:  0.7\n",
      "rf_train_recall:  0.91\n",
      "rf_train_f1:  0.79\n"
     ]
    }
   ],
   "source": [
    "nn_train_precision = round(df.loc[\"1\"][0],2)\n",
    "nn_train_recall = round(df.loc[\"1\"][1],2)\n",
    "nn_train_f1 = round(df.loc[\"1\"][2],2)\n",
    "print(\"rf_train_precision: \",nn_train_precision)\n",
    "print(\"rf_train_recall: \",nn_train_recall)\n",
    "print(\"rf_train_f1: \",nn_train_f1)"
   ]
  },
  {
   "cell_type": "markdown",
   "id": "093c2787",
   "metadata": {},
   "source": [
    "### for test data"
   ]
  },
  {
   "cell_type": "code",
   "execution_count": 98,
   "id": "0c830ac3",
   "metadata": {},
   "outputs": [
    {
     "data": {
      "text/plain": [
       "Text(28.5, 0.5, 'Actual values')"
      ]
     },
     "execution_count": 98,
     "metadata": {},
     "output_type": "execute_result"
    },
    {
     "data": {
      "image/png": "[encoded data removed]",
      "text/plain": [
       "<Figure size 432x288 with 1 Axes>"
      ]
     },
     "metadata": {},
     "output_type": "display_data"
    }
   ],
   "source": [
    "sns.heatmap(confusion_matrix(test_labels,y_test_pr_nncl),annot=True,cbar=False,fmt='.2f')\n",
    "plt.xlabel(\"Predicted values\")\n",
    "plt.ylabel(\"Actual values\")"
   ]
  },
  {
   "cell_type": "code",
   "execution_count": 99,
   "id": "992cbb78",
   "metadata": {},
   "outputs": [
    {
     "data": {
      "text/plain": [
       "0.6776397111443627"
      ]
     },
     "execution_count": 99,
     "metadata": {},
     "output_type": "execute_result"
    }
   ],
   "source": [
    "## Train data acc\n",
    "nn_test_acc = best_grid.score(X_test_scaled,test_labels)\n",
    "nn_test_acc"
   ]
  },
  {
   "cell_type": "code",
   "execution_count": 100,
   "id": "c12f7800",
   "metadata": {},
   "outputs": [
    {
     "name": "stdout",
     "output_type": "stream",
     "text": [
      "              precision    recall  f1-score   support\n",
      "\n",
      "           0       0.59      0.26      0.36      5382\n",
      "           1       0.69      0.90      0.78      9989\n",
      "\n",
      "    accuracy                           0.68     15371\n",
      "   macro avg       0.64      0.58      0.57     15371\n",
      "weighted avg       0.66      0.68      0.64     15371\n",
      "\n"
     ]
    }
   ],
   "source": [
    "print(classification_report(test_labels,y_test_pr_nncl))"
   ]
  },
  {
   "cell_type": "code",
   "execution_count": 101,
   "id": "67535d7f",
   "metadata": {},
   "outputs": [
    {
     "data": {
      "text/html": [
       "<div>\n",
       "<style scoped>\n",
       "    .dataframe tbody tr th:only-of-type {\n",
       "        vertical-align: middle;\n",
       "    }\n",
       "\n",
       "    .dataframe tbody tr th {\n",
       "        vertical-align: top;\n",
       "    }\n",
       "\n",
       "    .dataframe thead th {\n",
       "        text-align: right;\n",
       "    }\n",
       "</style>\n",
       "<table border=\"1\" class=\"dataframe\">\n",
       "  <thead>\n",
       "    <tr style=\"text-align: right;\">\n",
       "      <th></th>\n",
       "      <th>precision</th>\n",
       "      <th>recall</th>\n",
       "      <th>f1-score</th>\n",
       "      <th>support</th>\n",
       "    </tr>\n",
       "  </thead>\n",
       "  <tbody>\n",
       "    <tr>\n",
       "      <th>0</th>\n",
       "      <td>0.591592</td>\n",
       "      <td>0.256224</td>\n",
       "      <td>0.357578</td>\n",
       "      <td>5382.00000</td>\n",
       "    </tr>\n",
       "    <tr>\n",
       "      <th>1</th>\n",
       "      <td>0.693021</td>\n",
       "      <td>0.904695</td>\n",
       "      <td>0.784837</td>\n",
       "      <td>9989.00000</td>\n",
       "    </tr>\n",
       "    <tr>\n",
       "      <th>accuracy</th>\n",
       "      <td>0.677640</td>\n",
       "      <td>0.677640</td>\n",
       "      <td>0.677640</td>\n",
       "      <td>0.67764</td>\n",
       "    </tr>\n",
       "    <tr>\n",
       "      <th>macro avg</th>\n",
       "      <td>0.642307</td>\n",
       "      <td>0.580460</td>\n",
       "      <td>0.571207</td>\n",
       "      <td>15371.00000</td>\n",
       "    </tr>\n",
       "    <tr>\n",
       "      <th>weighted avg</th>\n",
       "      <td>0.657507</td>\n",
       "      <td>0.677640</td>\n",
       "      <td>0.635236</td>\n",
       "      <td>15371.00000</td>\n",
       "    </tr>\n",
       "  </tbody>\n",
       "</table>\n",
       "</div>"
      ],
      "text/plain": [
       "              precision    recall  f1-score      support\n",
       "0              0.591592  0.256224  0.357578   5382.00000\n",
       "1              0.693021  0.904695  0.784837   9989.00000\n",
       "accuracy       0.677640  0.677640  0.677640      0.67764\n",
       "macro avg      0.642307  0.580460  0.571207  15371.00000\n",
       "weighted avg   0.657507  0.677640  0.635236  15371.00000"
      ]
     },
     "execution_count": 101,
     "metadata": {},
     "output_type": "execute_result"
    }
   ],
   "source": [
    "nn_metrics = classification_report(test_labels,y_test_pr_nncl,output_dict=True)\n",
    "df = pd.DataFrame(nn_metrics).transpose()\n",
    "df"
   ]
  },
  {
   "cell_type": "code",
   "execution_count": 102,
   "id": "92a28c23",
   "metadata": {},
   "outputs": [
    {
     "name": "stdout",
     "output_type": "stream",
     "text": [
      "rf_test_precision:  0.69\n",
      "rf_test_recall: '' 0.9\n",
      "rf_test_f1:  0.78\n"
     ]
    }
   ],
   "source": [
    "nn_test_precision = round(df.loc[\"1\"][0],2)\n",
    "nn_test_recall = round(df.loc[\"1\"][1],2)\n",
    "nn_test_f1 = round(df.loc[\"1\"][2],2)\n",
    "print(\"rf_test_precision: \",nn_test_precision)\n",
    "print(\"rf_test_recall: ''\",nn_test_recall)\n",
    "print(\"rf_test_f1: \",nn_test_f1)"
   ]
  },
  {
   "cell_type": "markdown",
   "id": "13430df6",
   "metadata": {},
   "source": [
    "# Final Conclusion"
   ]
  },
  {
   "cell_type": "markdown",
   "id": "d0c109ad",
   "metadata": {},
   "source": [
    "## Comparison of performance metrics from 3 models"
   ]
  },
  {
   "cell_type": "code",
   "execution_count": 103,
   "id": "4ec2b382",
   "metadata": {},
   "outputs": [],
   "source": [
    "Index = ['Accuracy','AUC','Recall','Precision','F1 score']\n",
    "data = pd.DataFrame({'CART Train' : [cart_train_acc,np.nan,cart_train_recall,cart_train_precision,cart_train_f1],\n",
    "    'CART Test' : [cart_test_acc,np.nan,cart_test_recall,cart_test_precision,cart_test_f1],\n",
    "    'RF Train' : [rf_train_acc,np.nan,rf_train_recall,rf_train_precision,rf_train_f1],\n",
    "    'RF Test' : [rf_test_acc,np.nan,rf_test_recall,rf_test_precision,rf_test_f1],\n",
    "    'NEURAL Train' : [nn_train_acc,np.nan,nn_train_recall,nn_train_precision,nn_train_f1],\n",
    "    'NEURAL Test' : [nn_test_acc,np.nan,nn_test_recall,nn_test_precision,nn_test_f1]\n",
    "},index=Index)"
   ]
  },
  {
   "cell_type": "code",
   "execution_count": 104,
   "id": "2139033c",
   "metadata": {},
   "outputs": [
    {
     "data": {
      "text/html": [
       "<div>\n",
       "<style scoped>\n",
       "    .dataframe tbody tr th:only-of-type {\n",
       "        vertical-align: middle;\n",
       "    }\n",
       "\n",
       "    .dataframe tbody tr th {\n",
       "        vertical-align: top;\n",
       "    }\n",
       "\n",
       "    .dataframe thead th {\n",
       "        text-align: right;\n",
       "    }\n",
       "</style>\n",
       "<table border=\"1\" class=\"dataframe\">\n",
       "  <thead>\n",
       "    <tr style=\"text-align: right;\">\n",
       "      <th></th>\n",
       "      <th>CART Train</th>\n",
       "      <th>CART Test</th>\n",
       "      <th>RF Train</th>\n",
       "      <th>RF Test</th>\n",
       "      <th>NEURAL Train</th>\n",
       "      <th>NEURAL Test</th>\n",
       "    </tr>\n",
       "  </thead>\n",
       "  <tbody>\n",
       "    <tr>\n",
       "      <th>Accuracy</th>\n",
       "      <td>0.68</td>\n",
       "      <td>0.67</td>\n",
       "      <td>0.68</td>\n",
       "      <td>0.68</td>\n",
       "      <td>0.68</td>\n",
       "      <td>0.68</td>\n",
       "    </tr>\n",
       "    <tr>\n",
       "      <th>AUC</th>\n",
       "      <td>NaN</td>\n",
       "      <td>NaN</td>\n",
       "      <td>NaN</td>\n",
       "      <td>NaN</td>\n",
       "      <td>NaN</td>\n",
       "      <td>NaN</td>\n",
       "    </tr>\n",
       "    <tr>\n",
       "      <th>Recall</th>\n",
       "      <td>0.91</td>\n",
       "      <td>0.90</td>\n",
       "      <td>0.94</td>\n",
       "      <td>0.94</td>\n",
       "      <td>0.91</td>\n",
       "      <td>0.90</td>\n",
       "    </tr>\n",
       "    <tr>\n",
       "      <th>Precision</th>\n",
       "      <td>0.69</td>\n",
       "      <td>0.69</td>\n",
       "      <td>0.69</td>\n",
       "      <td>0.68</td>\n",
       "      <td>0.70</td>\n",
       "      <td>0.69</td>\n",
       "    </tr>\n",
       "    <tr>\n",
       "      <th>F1 score</th>\n",
       "      <td>0.79</td>\n",
       "      <td>0.78</td>\n",
       "      <td>0.79</td>\n",
       "      <td>0.79</td>\n",
       "      <td>0.79</td>\n",
       "      <td>0.78</td>\n",
       "    </tr>\n",
       "  </tbody>\n",
       "</table>\n",
       "</div>"
      ],
      "text/plain": [
       "           CART Train  CART Test  RF Train  RF Test  NEURAL Train  NEURAL Test\n",
       "Accuracy         0.68       0.67      0.68     0.68          0.68         0.68\n",
       "AUC               NaN        NaN       NaN      NaN           NaN          NaN\n",
       "Recall           0.91       0.90      0.94     0.94          0.91         0.90\n",
       "Precision        0.69       0.69      0.69     0.68          0.70         0.69\n",
       "F1 score         0.79       0.78      0.79     0.79          0.79         0.78"
      ]
     },
     "execution_count": 104,
     "metadata": {},
     "output_type": "execute_result"
    }
   ],
   "source": [
    "round(data,2)"
   ]
  },
  {
   "cell_type": "code",
   "execution_count": null,
   "id": "78c96c6b",
   "metadata": {},
   "outputs": [],
   "source": []
  }
 ],
 "metadata": {
  "kernelspec": {
   "display_name": "Python 3 (ipykernel)",
   "language": "python",
   "name": "python3"
  },
  "language_info": {
   "codemirror_mode": {
    "name": "ipython",
    "version": 3
   },
   "file_extension": ".py",
   "mimetype": "text/x-python",
   "name": "python",
   "nbconvert_exporter": "python",
   "pygments_lexer": "ipython3",
   "version": "3.11.5"
  }
 },
 "nbformat": 4,
 "nbformat_minor": 5
}
