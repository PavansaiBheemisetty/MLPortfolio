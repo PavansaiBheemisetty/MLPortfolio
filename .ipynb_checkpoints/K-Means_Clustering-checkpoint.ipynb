{
 "cells": [
  {
   "cell_type": "code",
   "execution_count": 1,
   "id": "252f669a",
   "metadata": {},
   "outputs": [],
   "source": [
    "import pandas as pd\n",
    "import numpy as np\n",
    "from sklearn.cluster import KMeans\n",
    "import seaborn as sns\n",
    "import matplotlib.pyplot as plt"
   ]
  },
  {
   "cell_type": "code",
   "execution_count": 2,
   "id": "1d7e2da2",
   "metadata": {},
   "outputs": [
    {
     "data": {
      "text/html": [
       "<div>\n",
       "<style scoped>\n",
       "    .dataframe tbody tr th:only-of-type {\n",
       "        vertical-align: middle;\n",
       "    }\n",
       "\n",
       "    .dataframe tbody tr th {\n",
       "        vertical-align: top;\n",
       "    }\n",
       "\n",
       "    .dataframe thead th {\n",
       "        text-align: right;\n",
       "    }\n",
       "</style>\n",
       "<table border=\"1\" class=\"dataframe\">\n",
       "  <thead>\n",
       "    <tr style=\"text-align: right;\">\n",
       "      <th></th>\n",
       "      <th>Cust_ID</th>\n",
       "      <th>Name</th>\n",
       "      <th>Avg_Mthly_Spend</th>\n",
       "      <th>No_Of_Visits</th>\n",
       "      <th>Apparel_Items</th>\n",
       "      <th>FnV_Items</th>\n",
       "      <th>Staples_Items</th>\n",
       "    </tr>\n",
       "  </thead>\n",
       "  <tbody>\n",
       "    <tr>\n",
       "      <th>0</th>\n",
       "      <td>1</td>\n",
       "      <td>Abraham</td>\n",
       "      <td>1123</td>\n",
       "      <td>28</td>\n",
       "      <td>1</td>\n",
       "      <td>16</td>\n",
       "      <td>14</td>\n",
       "    </tr>\n",
       "    <tr>\n",
       "      <th>1</th>\n",
       "      <td>2</td>\n",
       "      <td>Adela</td>\n",
       "      <td>9818</td>\n",
       "      <td>13</td>\n",
       "      <td>5</td>\n",
       "      <td>2</td>\n",
       "      <td>5</td>\n",
       "    </tr>\n",
       "    <tr>\n",
       "      <th>2</th>\n",
       "      <td>3</td>\n",
       "      <td>Adelina</td>\n",
       "      <td>9824</td>\n",
       "      <td>10</td>\n",
       "      <td>10</td>\n",
       "      <td>2</td>\n",
       "      <td>2</td>\n",
       "    </tr>\n",
       "    <tr>\n",
       "      <th>3</th>\n",
       "      <td>4</td>\n",
       "      <td>Adrian</td>\n",
       "      <td>3097</td>\n",
       "      <td>23</td>\n",
       "      <td>2</td>\n",
       "      <td>8</td>\n",
       "      <td>9</td>\n",
       "    </tr>\n",
       "    <tr>\n",
       "      <th>4</th>\n",
       "      <td>5</td>\n",
       "      <td>Adrianna</td>\n",
       "      <td>817</td>\n",
       "      <td>28</td>\n",
       "      <td>1</td>\n",
       "      <td>17</td>\n",
       "      <td>17</td>\n",
       "    </tr>\n",
       "    <tr>\n",
       "      <th>...</th>\n",
       "      <td>...</td>\n",
       "      <td>...</td>\n",
       "      <td>...</td>\n",
       "      <td>...</td>\n",
       "      <td>...</td>\n",
       "      <td>...</td>\n",
       "      <td>...</td>\n",
       "    </tr>\n",
       "    <tr>\n",
       "      <th>824</th>\n",
       "      <td>825</td>\n",
       "      <td>Mccue</td>\n",
       "      <td>4639</td>\n",
       "      <td>17</td>\n",
       "      <td>4</td>\n",
       "      <td>7</td>\n",
       "      <td>10</td>\n",
       "    </tr>\n",
       "    <tr>\n",
       "      <th>825</th>\n",
       "      <td>826</td>\n",
       "      <td>Dumas</td>\n",
       "      <td>4522</td>\n",
       "      <td>19</td>\n",
       "      <td>3</td>\n",
       "      <td>8</td>\n",
       "      <td>8</td>\n",
       "    </tr>\n",
       "    <tr>\n",
       "      <th>826</th>\n",
       "      <td>827</td>\n",
       "      <td>Bock</td>\n",
       "      <td>4499</td>\n",
       "      <td>15</td>\n",
       "      <td>4</td>\n",
       "      <td>8</td>\n",
       "      <td>9</td>\n",
       "    </tr>\n",
       "    <tr>\n",
       "      <th>827</th>\n",
       "      <td>828</td>\n",
       "      <td>Mcreynolds</td>\n",
       "      <td>4069</td>\n",
       "      <td>20</td>\n",
       "      <td>4</td>\n",
       "      <td>7</td>\n",
       "      <td>10</td>\n",
       "    </tr>\n",
       "    <tr>\n",
       "      <th>828</th>\n",
       "      <td>829</td>\n",
       "      <td>Blount</td>\n",
       "      <td>4730</td>\n",
       "      <td>18</td>\n",
       "      <td>5</td>\n",
       "      <td>8</td>\n",
       "      <td>9</td>\n",
       "    </tr>\n",
       "  </tbody>\n",
       "</table>\n",
       "<p>829 rows × 7 columns</p>\n",
       "</div>"
      ],
      "text/plain": [
       "     Cust_ID        Name  Avg_Mthly_Spend  No_Of_Visits  Apparel_Items  \\\n",
       "0          1    Abraham              1123            28              1   \n",
       "1          2      Adela              9818            13              5   \n",
       "2          3    Adelina              9824            10             10   \n",
       "3          4     Adrian              3097            23              2   \n",
       "4          5   Adrianna               817            28              1   \n",
       "..       ...         ...              ...           ...            ...   \n",
       "824      825       Mccue             4639            17              4   \n",
       "825      826       Dumas             4522            19              3   \n",
       "826      827        Bock             4499            15              4   \n",
       "827      828  Mcreynolds             4069            20              4   \n",
       "828      829      Blount             4730            18              5   \n",
       "\n",
       "     FnV_Items  Staples_Items  \n",
       "0           16             14  \n",
       "1            2              5  \n",
       "2            2              2  \n",
       "3            8              9  \n",
       "4           17             17  \n",
       "..         ...            ...  \n",
       "824          7             10  \n",
       "825          8              8  \n",
       "826          8              9  \n",
       "827          7             10  \n",
       "828          8              9  \n",
       "\n",
       "[829 rows x 7 columns]"
      ]
     },
     "execution_count": 2,
     "metadata": {},
     "output_type": "execute_result"
    }
   ],
   "source": [
    "df = pd.read_csv('/Users/pavansai/desktop1/Python/EDA/csv/Cust_Spend_Data_New.csv')\n",
    "df"
   ]
  },
  {
   "cell_type": "code",
   "execution_count": 3,
   "id": "969c8138",
   "metadata": {},
   "outputs": [
    {
     "data": {
      "text/plain": [
       "(829, 7)"
      ]
     },
     "execution_count": 3,
     "metadata": {},
     "output_type": "execute_result"
    }
   ],
   "source": [
    "df.shape"
   ]
  },
  {
   "cell_type": "code",
   "execution_count": 4,
   "id": "7a05aab6",
   "metadata": {},
   "outputs": [
    {
     "data": {
      "text/plain": [
       "Cust_ID             int64\n",
       "Name               object\n",
       "Avg_Mthly_Spend     int64\n",
       "No_Of_Visits        int64\n",
       "Apparel_Items       int64\n",
       "FnV_Items           int64\n",
       "Staples_Items       int64\n",
       "dtype: object"
      ]
     },
     "execution_count": 4,
     "metadata": {},
     "output_type": "execute_result"
    }
   ],
   "source": [
    "df.dtypes"
   ]
  },
  {
   "cell_type": "code",
   "execution_count": 5,
   "id": "05d9f267",
   "metadata": {},
   "outputs": [
    {
     "name": "stdout",
     "output_type": "stream",
     "text": [
      "<class 'pandas.core.frame.DataFrame'>\n",
      "RangeIndex: 829 entries, 0 to 828\n",
      "Data columns (total 7 columns):\n",
      " #   Column           Non-Null Count  Dtype \n",
      "---  ------           --------------  ----- \n",
      " 0   Cust_ID          829 non-null    int64 \n",
      " 1   Name             829 non-null    object\n",
      " 2   Avg_Mthly_Spend  829 non-null    int64 \n",
      " 3   No_Of_Visits     829 non-null    int64 \n",
      " 4   Apparel_Items    829 non-null    int64 \n",
      " 5   FnV_Items        829 non-null    int64 \n",
      " 6   Staples_Items    829 non-null    int64 \n",
      "dtypes: int64(6), object(1)\n",
      "memory usage: 45.5+ KB\n"
     ]
    }
   ],
   "source": [
    "df.info()"
   ]
  },
  {
   "cell_type": "code",
   "execution_count": 7,
   "id": "59b8d03e",
   "metadata": {},
   "outputs": [
    {
     "data": {
      "text/html": [
       "<div>\n",
       "<style scoped>\n",
       "    .dataframe tbody tr th:only-of-type {\n",
       "        vertical-align: middle;\n",
       "    }\n",
       "\n",
       "    .dataframe tbody tr th {\n",
       "        vertical-align: top;\n",
       "    }\n",
       "\n",
       "    .dataframe thead th {\n",
       "        text-align: right;\n",
       "    }\n",
       "</style>\n",
       "<table border=\"1\" class=\"dataframe\">\n",
       "  <thead>\n",
       "    <tr style=\"text-align: right;\">\n",
       "      <th></th>\n",
       "      <th>count</th>\n",
       "      <th>mean</th>\n",
       "      <th>std</th>\n",
       "      <th>min</th>\n",
       "      <th>25%</th>\n",
       "      <th>50%</th>\n",
       "      <th>75%</th>\n",
       "      <th>max</th>\n",
       "    </tr>\n",
       "  </thead>\n",
       "  <tbody>\n",
       "    <tr>\n",
       "      <th>Cust_ID</th>\n",
       "      <td>829.0</td>\n",
       "      <td>415.000000</td>\n",
       "      <td>239.455981</td>\n",
       "      <td>1.0</td>\n",
       "      <td>208.0</td>\n",
       "      <td>415.0</td>\n",
       "      <td>622.0</td>\n",
       "      <td>829.0</td>\n",
       "    </tr>\n",
       "    <tr>\n",
       "      <th>Avg_Mthly_Spend</th>\n",
       "      <td>829.0</td>\n",
       "      <td>4801.276236</td>\n",
       "      <td>2056.494189</td>\n",
       "      <td>549.0</td>\n",
       "      <td>4156.0</td>\n",
       "      <td>4516.0</td>\n",
       "      <td>4910.0</td>\n",
       "      <td>10000.0</td>\n",
       "    </tr>\n",
       "    <tr>\n",
       "      <th>No_Of_Visits</th>\n",
       "      <td>829.0</td>\n",
       "      <td>17.856454</td>\n",
       "      <td>4.367192</td>\n",
       "      <td>2.0</td>\n",
       "      <td>15.0</td>\n",
       "      <td>18.0</td>\n",
       "      <td>20.0</td>\n",
       "      <td>29.0</td>\n",
       "    </tr>\n",
       "    <tr>\n",
       "      <th>Apparel_Items</th>\n",
       "      <td>829.0</td>\n",
       "      <td>3.961399</td>\n",
       "      <td>2.056204</td>\n",
       "      <td>0.0</td>\n",
       "      <td>3.0</td>\n",
       "      <td>4.0</td>\n",
       "      <td>5.0</td>\n",
       "      <td>10.0</td>\n",
       "    </tr>\n",
       "    <tr>\n",
       "      <th>FnV_Items</th>\n",
       "      <td>829.0</td>\n",
       "      <td>7.623643</td>\n",
       "      <td>3.665773</td>\n",
       "      <td>1.0</td>\n",
       "      <td>6.0</td>\n",
       "      <td>7.0</td>\n",
       "      <td>8.0</td>\n",
       "      <td>19.0</td>\n",
       "    </tr>\n",
       "    <tr>\n",
       "      <th>Staples_Items</th>\n",
       "      <td>829.0</td>\n",
       "      <td>8.338963</td>\n",
       "      <td>4.250284</td>\n",
       "      <td>0.0</td>\n",
       "      <td>5.0</td>\n",
       "      <td>8.0</td>\n",
       "      <td>10.0</td>\n",
       "      <td>20.0</td>\n",
       "    </tr>\n",
       "  </tbody>\n",
       "</table>\n",
       "</div>"
      ],
      "text/plain": [
       "                 count         mean          std    min     25%     50%  \\\n",
       "Cust_ID          829.0   415.000000   239.455981    1.0   208.0   415.0   \n",
       "Avg_Mthly_Spend  829.0  4801.276236  2056.494189  549.0  4156.0  4516.0   \n",
       "No_Of_Visits     829.0    17.856454     4.367192    2.0    15.0    18.0   \n",
       "Apparel_Items    829.0     3.961399     2.056204    0.0     3.0     4.0   \n",
       "FnV_Items        829.0     7.623643     3.665773    1.0     6.0     7.0   \n",
       "Staples_Items    829.0     8.338963     4.250284    0.0     5.0     8.0   \n",
       "\n",
       "                    75%      max  \n",
       "Cust_ID           622.0    829.0  \n",
       "Avg_Mthly_Spend  4910.0  10000.0  \n",
       "No_Of_Visits       20.0     29.0  \n",
       "Apparel_Items       5.0     10.0  \n",
       "FnV_Items           8.0     19.0  \n",
       "Staples_Items      10.0     20.0  "
      ]
     },
     "execution_count": 7,
     "metadata": {},
     "output_type": "execute_result"
    }
   ],
   "source": [
    "df.describe().T"
   ]
  },
  {
   "cell_type": "code",
   "execution_count": 9,
   "id": "8b0c31a0",
   "metadata": {},
   "outputs": [
    {
     "data": {
      "text/plain": [
       "0"
      ]
     },
     "execution_count": 9,
     "metadata": {},
     "output_type": "execute_result"
    }
   ],
   "source": [
    "df.duplicated().sum()"
   ]
  },
  {
   "cell_type": "code",
   "execution_count": 10,
   "id": "8d772e54",
   "metadata": {},
   "outputs": [],
   "source": [
    "df = df.drop(['Name','Cust_ID'],axis=1)"
   ]
  },
  {
   "cell_type": "code",
   "execution_count": 11,
   "id": "f2e04b48",
   "metadata": {},
   "outputs": [
    {
     "data": {
      "text/html": [
       "<div>\n",
       "<style scoped>\n",
       "    .dataframe tbody tr th:only-of-type {\n",
       "        vertical-align: middle;\n",
       "    }\n",
       "\n",
       "    .dataframe tbody tr th {\n",
       "        vertical-align: top;\n",
       "    }\n",
       "\n",
       "    .dataframe thead th {\n",
       "        text-align: right;\n",
       "    }\n",
       "</style>\n",
       "<table border=\"1\" class=\"dataframe\">\n",
       "  <thead>\n",
       "    <tr style=\"text-align: right;\">\n",
       "      <th></th>\n",
       "      <th>Avg_Mthly_Spend</th>\n",
       "      <th>No_Of_Visits</th>\n",
       "      <th>Apparel_Items</th>\n",
       "      <th>FnV_Items</th>\n",
       "      <th>Staples_Items</th>\n",
       "    </tr>\n",
       "  </thead>\n",
       "  <tbody>\n",
       "    <tr>\n",
       "      <th>0</th>\n",
       "      <td>1123</td>\n",
       "      <td>28</td>\n",
       "      <td>1</td>\n",
       "      <td>16</td>\n",
       "      <td>14</td>\n",
       "    </tr>\n",
       "    <tr>\n",
       "      <th>1</th>\n",
       "      <td>9818</td>\n",
       "      <td>13</td>\n",
       "      <td>5</td>\n",
       "      <td>2</td>\n",
       "      <td>5</td>\n",
       "    </tr>\n",
       "    <tr>\n",
       "      <th>2</th>\n",
       "      <td>9824</td>\n",
       "      <td>10</td>\n",
       "      <td>10</td>\n",
       "      <td>2</td>\n",
       "      <td>2</td>\n",
       "    </tr>\n",
       "    <tr>\n",
       "      <th>3</th>\n",
       "      <td>3097</td>\n",
       "      <td>23</td>\n",
       "      <td>2</td>\n",
       "      <td>8</td>\n",
       "      <td>9</td>\n",
       "    </tr>\n",
       "    <tr>\n",
       "      <th>4</th>\n",
       "      <td>817</td>\n",
       "      <td>28</td>\n",
       "      <td>1</td>\n",
       "      <td>17</td>\n",
       "      <td>17</td>\n",
       "    </tr>\n",
       "  </tbody>\n",
       "</table>\n",
       "</div>"
      ],
      "text/plain": [
       "   Avg_Mthly_Spend  No_Of_Visits  Apparel_Items  FnV_Items  Staples_Items\n",
       "0             1123            28              1         16             14\n",
       "1             9818            13              5          2              5\n",
       "2             9824            10             10          2              2\n",
       "3             3097            23              2          8              9\n",
       "4              817            28              1         17             17"
      ]
     },
     "execution_count": 11,
     "metadata": {},
     "output_type": "execute_result"
    }
   ],
   "source": [
    "df.head()"
   ]
  },
  {
   "cell_type": "code",
   "execution_count": 12,
   "id": "95336c87",
   "metadata": {},
   "outputs": [],
   "source": [
    "from sklearn.preprocessing import StandardScaler"
   ]
  },
  {
   "cell_type": "code",
   "execution_count": 13,
   "id": "442e23f6",
   "metadata": {},
   "outputs": [],
   "source": [
    "sc = StandardScaler()"
   ]
  },
  {
   "cell_type": "code",
   "execution_count": 14,
   "id": "3d7ce7b4",
   "metadata": {},
   "outputs": [],
   "source": [
    "scaled_df = sc.fit_transform(df)"
   ]
  },
  {
   "cell_type": "code",
   "execution_count": 15,
   "id": "44f839a1",
   "metadata": {},
   "outputs": [
    {
     "data": {
      "text/plain": [
       "array([[-1.7896947 ,  2.32407237, -1.44109551,  2.28639713,  1.33272373],\n",
       "       [ 2.44092704, -1.1127025 ,  0.50541069, -1.53502065, -0.78605994],\n",
       "       [ 2.44384639, -1.80005748,  2.93854344, -1.53502065, -1.49232116],\n",
       "       ...,\n",
       "       [-0.14707492, -0.65446585,  0.01878414,  0.10272982,  0.15562169],\n",
       "       [-0.35629486,  0.49112577,  0.01878414, -0.17022859,  0.3910421 ],\n",
       "       [-0.03468002,  0.03288912,  0.50541069,  0.10272982,  0.15562169]])"
      ]
     },
     "execution_count": 15,
     "metadata": {},
     "output_type": "execute_result"
    }
   ],
   "source": [
    "scaled_df"
   ]
  },
  {
   "cell_type": "code",
   "execution_count": 16,
   "id": "be908c2b",
   "metadata": {},
   "outputs": [],
   "source": [
    "k_means = KMeans(n_clusters=2)"
   ]
  },
  {
   "cell_type": "code",
   "execution_count": 17,
   "id": "8f740fc0",
   "metadata": {},
   "outputs": [
    {
     "data": {
      "text/plain": [
       "KMeans(n_clusters=2)"
      ]
     },
     "execution_count": 17,
     "metadata": {},
     "output_type": "execute_result"
    }
   ],
   "source": [
    "k_means.fit(scaled_df)"
   ]
  },
  {
   "cell_type": "code",
   "execution_count": 18,
   "id": "53079058",
   "metadata": {},
   "outputs": [
    {
     "data": {
      "text/plain": [
       "array([1, 0, 0, 0, 1, 1, 0, 0, 0, 0, 0, 0, 0, 0, 1, 1, 1, 0, 0, 1, 0, 0,\n",
       "       0, 1, 1, 0, 0, 1, 1, 1, 1, 0, 0, 0, 1, 1, 0, 0, 0, 1, 0, 1, 1, 1,\n",
       "       0, 1, 0, 1, 0, 1, 1, 0, 1, 1, 0, 0, 1, 1, 0, 0, 1, 1, 1, 1, 0, 1,\n",
       "       0, 1, 1, 1, 1, 0, 0, 0, 1, 0, 0, 0, 0, 0, 0, 0, 1, 0, 1, 0, 0, 0,\n",
       "       0, 1, 1, 0, 0, 0, 1, 0, 1, 0, 1, 0, 0, 1, 1, 0, 1, 1, 0, 0, 0, 1,\n",
       "       0, 0, 0, 0, 0, 0, 0, 0, 0, 0, 0, 0, 1, 1, 0, 1, 0, 0, 1, 0, 0, 0,\n",
       "       1, 1, 1, 0, 0, 0, 1, 1, 1, 1, 1, 0, 0, 1, 0, 0, 0, 0, 1, 0, 0, 0,\n",
       "       0, 1, 0, 1, 1, 1, 1, 1, 0, 0, 0, 0, 0, 1, 1, 0, 0, 0, 1, 0, 0, 0,\n",
       "       0, 0, 0, 1, 0, 1, 0, 0, 0, 1, 1, 0, 0, 1, 1, 1, 0, 0, 1, 0, 0, 0,\n",
       "       0, 0, 1, 0, 0, 1, 0, 0, 0, 0, 1, 1, 1, 1, 1, 1, 0, 0, 1, 0, 1, 0,\n",
       "       0, 0, 0, 0, 1, 1, 0, 0, 1, 0, 1, 0, 0, 0, 0, 0, 0, 1, 1, 1, 1, 1,\n",
       "       1, 1, 0, 1, 0, 1, 0, 1, 0, 1, 0, 0, 0, 0, 0, 1, 0, 1, 0, 1, 1, 0,\n",
       "       1, 1, 0, 0, 0, 1, 0, 0, 0, 0, 1, 0, 0, 0, 1, 1, 0, 0, 0, 0, 0, 1,\n",
       "       1, 0, 0, 1, 0, 0, 0, 0, 1, 0, 0, 0, 0, 0, 0, 0, 0, 0, 0, 0, 0, 0,\n",
       "       1, 1, 1, 0, 0, 0, 0, 1, 1, 0, 0, 1, 1, 1, 1, 1, 0, 0, 0, 0, 0, 0,\n",
       "       0, 0, 0, 0, 0, 0, 1, 0, 0, 0, 0, 0, 0, 0, 0, 0, 0, 0, 0, 0, 0, 0,\n",
       "       0, 0, 0, 0, 0, 0, 0, 0, 0, 0, 0, 0, 0, 0, 0, 0, 0, 0, 0, 0, 0, 0,\n",
       "       0, 0, 0, 0, 0, 0, 0, 0, 0, 0, 0, 0, 0, 0, 0, 0, 0, 0, 0, 0, 0, 0,\n",
       "       0, 0, 0, 0, 0, 0, 0, 0, 0, 0, 0, 0, 0, 0, 0, 0, 0, 0, 0, 0, 0, 0,\n",
       "       0, 0, 0, 0, 0, 0, 0, 0, 0, 0, 0, 0, 0, 0, 0, 0, 0, 0, 0, 0, 0, 0,\n",
       "       0, 0, 0, 0, 0, 0, 0, 0, 0, 0, 0, 0, 0, 0, 0, 0, 0, 0, 0, 0, 0, 0,\n",
       "       0, 0, 0, 0, 0, 0, 0, 0, 0, 0, 0, 0, 0, 0, 0, 0, 0, 0, 0, 0, 0, 0,\n",
       "       0, 0, 0, 0, 0, 0, 0, 0, 0, 0, 0, 0, 0, 0, 0, 0, 0, 0, 0, 0, 0, 0,\n",
       "       0, 0, 0, 0, 0, 0, 0, 0, 0, 0, 0, 0, 0, 0, 0, 0, 0, 0, 0, 0, 0, 0,\n",
       "       0, 0, 0, 0, 0, 0, 0, 0, 0, 0, 0, 0, 0, 0, 0, 0, 0, 0, 0, 0, 0, 0,\n",
       "       0, 0, 0, 0, 0, 0, 0, 0, 0, 0, 0, 0, 0, 0, 0, 0, 0, 0, 0, 0, 0, 0,\n",
       "       0, 0, 0, 0, 0, 0, 0, 0, 0, 0, 0, 0, 0, 0, 0, 0, 0, 0, 0, 0, 0, 0,\n",
       "       0, 0, 0, 0, 0, 0, 0, 0, 0, 0, 0, 0, 0, 0, 0, 0, 0, 0, 0, 0, 0, 0,\n",
       "       0, 0, 0, 0, 0, 0, 0, 0, 0, 0, 0, 0, 0, 0, 0, 0, 0, 0, 0, 0, 0, 0,\n",
       "       0, 0, 0, 0, 0, 0, 0, 0, 0, 0, 0, 0, 0, 0, 0, 0, 0, 0, 0, 0, 0, 0,\n",
       "       0, 0, 0, 0, 0, 0, 0, 0, 0, 0, 0, 0, 0, 0, 0, 0, 0, 0, 0, 0, 0, 0,\n",
       "       0, 0, 0, 0, 0, 0, 0, 0, 0, 0, 0, 0, 0, 0, 0, 0, 0, 0, 0, 0, 0, 0,\n",
       "       0, 0, 0, 0, 0, 0, 0, 0, 0, 0, 0, 0, 0, 0, 0, 0, 0, 0, 0, 0, 0, 0,\n",
       "       0, 0, 0, 0, 0, 0, 0, 0, 0, 0, 0, 0, 0, 0, 0, 0, 0, 0, 0, 0, 0, 0,\n",
       "       0, 0, 0, 0, 0, 0, 0, 0, 0, 0, 0, 0, 0, 0, 0, 0, 0, 0, 0, 0, 0, 0,\n",
       "       0, 0, 0, 0, 0, 0, 0, 0, 0, 0, 0, 0, 0, 0, 0, 0, 0, 0, 0, 0, 0, 0,\n",
       "       0, 0, 0, 0, 0, 0, 0, 0, 0, 0, 0, 0, 0, 0, 0, 0, 0, 0, 0, 0, 0, 0,\n",
       "       0, 0, 0, 0, 0, 0, 0, 0, 0, 0, 0, 0, 0, 0, 0], dtype=int32)"
      ]
     },
     "execution_count": 18,
     "metadata": {},
     "output_type": "execute_result"
    }
   ],
   "source": [
    "k_means.labels_"
   ]
  },
  {
   "cell_type": "code",
   "execution_count": 19,
   "id": "39e76715",
   "metadata": {},
   "outputs": [
    {
     "data": {
      "text/plain": [
       "2225.818078099467"
      ]
     },
     "execution_count": 19,
     "metadata": {},
     "output_type": "execute_result"
    }
   ],
   "source": [
    "k_means.inertia_# this is for calculating wss i.e, Within sum of squares"
   ]
  },
  {
   "cell_type": "code",
   "execution_count": 20,
   "id": "89ba6a00",
   "metadata": {},
   "outputs": [
    {
     "data": {
      "text/plain": [
       "4145.0"
      ]
     },
     "execution_count": 20,
     "metadata": {},
     "output_type": "execute_result"
    }
   ],
   "source": [
    "k_means = KMeans(n_clusters=1)\n",
    "k_means.fit_transform(scaled_df)\n",
    "k_means.inertia_"
   ]
  },
  {
   "cell_type": "code",
   "execution_count": 21,
   "id": "13a1b854",
   "metadata": {},
   "outputs": [
    {
     "data": {
      "text/plain": [
       "1074.3823802989516"
      ]
     },
     "execution_count": 21,
     "metadata": {},
     "output_type": "execute_result"
    }
   ],
   "source": [
    "k_means = KMeans(n_clusters=3)\n",
    "k_means.fit_transform(scaled_df)\n",
    "k_means.inertia_"
   ]
  },
  {
   "cell_type": "code",
   "execution_count": 22,
   "id": "0d8a878e",
   "metadata": {},
   "outputs": [
    {
     "data": {
      "text/plain": [
       "909.4495242917951"
      ]
     },
     "execution_count": 22,
     "metadata": {},
     "output_type": "execute_result"
    }
   ],
   "source": [
    "k_means = KMeans(n_clusters=4)\n",
    "k_means.fit_transform(scaled_df)\n",
    "k_means.inertia_"
   ]
  },
  {
   "cell_type": "code",
   "execution_count": 23,
   "id": "7ae26347",
   "metadata": {},
   "outputs": [
    {
     "data": {
      "text/plain": [
       "784.56243593918"
      ]
     },
     "execution_count": 23,
     "metadata": {},
     "output_type": "execute_result"
    }
   ],
   "source": [
    "k_means = KMeans(n_clusters=5)\n",
    "k_means.fit_transform(scaled_df)\n",
    "k_means.inertia_"
   ]
  },
  {
   "cell_type": "code",
   "execution_count": 24,
   "id": "577a3e98",
   "metadata": {},
   "outputs": [
    {
     "data": {
      "text/plain": [
       "719.5351496558964"
      ]
     },
     "execution_count": 24,
     "metadata": {},
     "output_type": "execute_result"
    }
   ],
   "source": [
    "k_means = KMeans(n_clusters=6)\n",
    "k_means.fit_transform(scaled_df)\n",
    "k_means.inertia_"
   ]
  },
  {
   "cell_type": "code",
   "execution_count": 25,
   "id": "eb9d39a2",
   "metadata": {},
   "outputs": [],
   "source": [
    "wss = []"
   ]
  },
  {
   "cell_type": "code",
   "execution_count": 26,
   "id": "d0b61e6a",
   "metadata": {},
   "outputs": [],
   "source": [
    "for i in range(1,11):\n",
    "    KM = KMeans(n_clusters=i)\n",
    "    KM.fit(scaled_df)\n",
    "    wss.append(KM.inertia_)"
   ]
  },
  {
   "cell_type": "code",
   "execution_count": 27,
   "id": "53e389f3",
   "metadata": {},
   "outputs": [
    {
     "data": {
      "text/plain": [
       "[4145.0,\n",
       " 2225.818078099467,\n",
       " 1074.3823802989516,\n",
       " 909.4495242917951,\n",
       " 784.56243593918,\n",
       " 697.7964308882446,\n",
       " 633.7779405083652,\n",
       " 580.9791930648037,\n",
       " 538.992411095654,\n",
       " 509.1818940302472]"
      ]
     },
     "execution_count": 27,
     "metadata": {},
     "output_type": "execute_result"
    }
   ],
   "source": [
    "wss"
   ]
  },
  {
   "cell_type": "code",
   "execution_count": 30,
   "id": "3e6d6496",
   "metadata": {},
   "outputs": [
    {
     "data": {
      "text/plain": [
       "[<matplotlib.lines.Line2D at 0x17d372910>]"
      ]
     },
     "execution_count": 30,
     "metadata": {},
     "output_type": "execute_result"
    },
    {
     "data": {
      "image/png": "[encoded data removed]",
      "text/plain": [
       "<Figure size 432x288 with 1 Axes>"
      ]
     },
     "metadata": {
      "needs_background": "light"
     },
     "output_type": "display_data"
    }
   ],
   "source": [
    "plt.plot(wss)"
   ]
  },
  {
   "cell_type": "code",
   "execution_count": 31,
   "id": "4a2ffe64",
   "metadata": {},
   "outputs": [],
   "source": [
    "# Elbow Drop is obtained at 3rd cluster"
   ]
  },
  {
   "cell_type": "code",
   "execution_count": 35,
   "id": "fed96ed5",
   "metadata": {},
   "outputs": [],
   "source": [
    "k_means = KMeans(n_clusters=3)"
   ]
  },
  {
   "cell_type": "code",
   "execution_count": 37,
   "id": "4d77d4eb",
   "metadata": {},
   "outputs": [],
   "source": [
    "k_means.fit(scaled_df)\n",
    "labels = k_means.labels_"
   ]
  },
  {
   "cell_type": "code",
   "execution_count": 39,
   "id": "aa6770f1",
   "metadata": {},
   "outputs": [
    {
     "data": {
      "text/plain": [
       "array([2, 0, 0, 1, 2, 1, 1, 0, 1, 1, 0, 1, 0, 1, 2, 2, 2, 1, 1, 2, 1, 0,\n",
       "       0, 2, 2, 0, 1, 2, 2, 2, 2, 1, 1, 1, 2, 2, 0, 1, 0, 2, 0, 2, 2, 2,\n",
       "       0, 2, 0, 2, 0, 2, 2, 0, 1, 2, 0, 0, 2, 2, 0, 0, 2, 2, 2, 2, 0, 1,\n",
       "       1, 2, 2, 2, 2, 0, 1, 0, 2, 1, 0, 1, 0, 1, 0, 0, 1, 0, 2, 0, 0, 0,\n",
       "       1, 2, 2, 1, 0, 1, 2, 0, 2, 0, 2, 0, 1, 2, 2, 0, 1, 2, 0, 0, 0, 2,\n",
       "       0, 0, 0, 1, 0, 1, 0, 0, 1, 0, 0, 0, 2, 2, 0, 2, 0, 0, 2, 0, 1, 0,\n",
       "       2, 2, 1, 1, 1, 0, 1, 1, 2, 2, 2, 0, 0, 2, 0, 0, 0, 0, 2, 0, 0, 0,\n",
       "       1, 2, 0, 2, 2, 1, 1, 2, 1, 0, 1, 0, 1, 2, 2, 1, 1, 0, 1, 0, 1, 0,\n",
       "       0, 0, 0, 2, 0, 1, 0, 1, 1, 2, 2, 0, 0, 2, 2, 1, 1, 1, 1, 0, 1, 1,\n",
       "       1, 0, 2, 0, 1, 2, 1, 0, 0, 1, 2, 2, 1, 2, 2, 2, 1, 0, 2, 1, 2, 0,\n",
       "       0, 0, 1, 1, 2, 2, 0, 0, 1, 0, 2, 0, 0, 1, 0, 0, 0, 1, 2, 2, 2, 2,\n",
       "       1, 2, 0, 2, 0, 2, 0, 2, 0, 1, 1, 0, 0, 1, 0, 2, 1, 2, 0, 2, 2, 0,\n",
       "       2, 2, 1, 0, 0, 2, 0, 0, 0, 0, 1, 0, 1, 0, 2, 2, 0, 1, 0, 0, 0, 2,\n",
       "       2, 0, 0, 2, 0, 0, 0, 0, 2, 0, 0, 1, 1, 0, 1, 0, 0, 1, 0, 0, 0, 1,\n",
       "       2, 2, 2, 0, 1, 0, 1, 2, 1, 0, 0, 1, 1, 2, 1, 2, 1, 0, 0, 0, 0, 0,\n",
       "       0, 1, 1, 0, 0, 1, 2, 1, 1, 1, 1, 1, 1, 1, 1, 1, 1, 1, 1, 1, 1, 1,\n",
       "       1, 1, 1, 1, 1, 1, 1, 1, 1, 1, 1, 1, 1, 1, 1, 1, 1, 1, 1, 1, 1, 1,\n",
       "       1, 1, 1, 1, 1, 1, 1, 1, 1, 1, 1, 1, 1, 1, 1, 1, 1, 1, 1, 1, 1, 1,\n",
       "       1, 1, 1, 1, 1, 1, 1, 1, 1, 1, 1, 1, 1, 1, 1, 1, 1, 1, 1, 1, 1, 1,\n",
       "       1, 1, 1, 1, 1, 1, 1, 1, 1, 1, 1, 1, 1, 1, 1, 1, 1, 1, 1, 1, 1, 1,\n",
       "       1, 1, 1, 1, 1, 1, 1, 1, 1, 1, 1, 1, 1, 1, 1, 1, 1, 1, 1, 1, 1, 1,\n",
       "       1, 1, 1, 1, 1, 1, 1, 1, 1, 1, 1, 1, 1, 1, 1, 1, 1, 1, 1, 1, 1, 1,\n",
       "       1, 1, 1, 1, 1, 1, 1, 1, 1, 1, 1, 1, 1, 1, 1, 1, 1, 1, 1, 1, 1, 1,\n",
       "       1, 1, 1, 1, 1, 1, 1, 1, 1, 1, 1, 1, 1, 1, 1, 1, 1, 1, 1, 1, 1, 1,\n",
       "       1, 1, 1, 1, 1, 1, 1, 1, 1, 1, 1, 1, 1, 1, 1, 1, 1, 1, 1, 1, 1, 1,\n",
       "       1, 1, 1, 1, 1, 1, 1, 1, 1, 1, 1, 1, 1, 1, 1, 1, 1, 1, 1, 1, 1, 1,\n",
       "       1, 1, 1, 1, 1, 1, 1, 1, 1, 1, 1, 1, 1, 1, 1, 1, 1, 1, 1, 1, 1, 1,\n",
       "       1, 1, 1, 1, 1, 1, 1, 1, 1, 1, 1, 1, 1, 1, 1, 1, 1, 1, 1, 1, 1, 1,\n",
       "       1, 1, 1, 1, 1, 1, 1, 1, 1, 1, 1, 1, 1, 1, 1, 1, 1, 1, 1, 1, 1, 1,\n",
       "       1, 1, 1, 1, 1, 1, 1, 1, 1, 1, 1, 1, 1, 1, 1, 1, 1, 1, 1, 1, 1, 1,\n",
       "       1, 1, 1, 1, 1, 1, 1, 1, 1, 1, 1, 1, 1, 1, 1, 1, 1, 1, 1, 1, 1, 1,\n",
       "       1, 1, 1, 1, 1, 1, 1, 1, 1, 1, 1, 1, 1, 1, 1, 1, 1, 1, 1, 1, 1, 1,\n",
       "       1, 1, 1, 1, 1, 1, 1, 1, 1, 1, 1, 1, 1, 1, 1, 1, 1, 1, 1, 1, 1, 1,\n",
       "       1, 1, 1, 1, 1, 1, 1, 1, 1, 1, 1, 1, 1, 1, 1, 1, 1, 1, 1, 1, 1, 1,\n",
       "       1, 1, 1, 1, 1, 1, 1, 1, 1, 1, 1, 1, 1, 1, 1, 1, 1, 1, 1, 1, 1, 1,\n",
       "       1, 1, 1, 1, 1, 1, 1, 1, 1, 1, 1, 1, 1, 1, 1, 1, 1, 1, 1, 1, 1, 1,\n",
       "       1, 1, 1, 1, 1, 1, 1, 1, 1, 1, 1, 1, 1, 1, 1, 1, 1, 1, 1, 1, 1, 1,\n",
       "       1, 1, 1, 1, 1, 1, 1, 1, 1, 1, 1, 1, 1, 1, 1], dtype=int32)"
      ]
     },
     "execution_count": 39,
     "metadata": {},
     "output_type": "execute_result"
    }
   ],
   "source": [
    "labels"
   ]
  },
  {
   "cell_type": "code",
   "execution_count": 38,
   "id": "9b616d4a",
   "metadata": {},
   "outputs": [
    {
     "data": {
      "text/html": [
       "<div>\n",
       "<style scoped>\n",
       "    .dataframe tbody tr th:only-of-type {\n",
       "        vertical-align: middle;\n",
       "    }\n",
       "\n",
       "    .dataframe tbody tr th {\n",
       "        vertical-align: top;\n",
       "    }\n",
       "\n",
       "    .dataframe thead th {\n",
       "        text-align: right;\n",
       "    }\n",
       "</style>\n",
       "<table border=\"1\" class=\"dataframe\">\n",
       "  <thead>\n",
       "    <tr style=\"text-align: right;\">\n",
       "      <th></th>\n",
       "      <th>Avg_Mthly_Spend</th>\n",
       "      <th>No_Of_Visits</th>\n",
       "      <th>Apparel_Items</th>\n",
       "      <th>FnV_Items</th>\n",
       "      <th>Staples_Items</th>\n",
       "      <th>Clus_KMeans</th>\n",
       "    </tr>\n",
       "  </thead>\n",
       "  <tbody>\n",
       "    <tr>\n",
       "      <th>0</th>\n",
       "      <td>1123</td>\n",
       "      <td>28</td>\n",
       "      <td>1</td>\n",
       "      <td>16</td>\n",
       "      <td>14</td>\n",
       "      <td>2</td>\n",
       "    </tr>\n",
       "    <tr>\n",
       "      <th>1</th>\n",
       "      <td>9818</td>\n",
       "      <td>13</td>\n",
       "      <td>5</td>\n",
       "      <td>2</td>\n",
       "      <td>5</td>\n",
       "      <td>0</td>\n",
       "    </tr>\n",
       "    <tr>\n",
       "      <th>2</th>\n",
       "      <td>9824</td>\n",
       "      <td>10</td>\n",
       "      <td>10</td>\n",
       "      <td>2</td>\n",
       "      <td>2</td>\n",
       "      <td>0</td>\n",
       "    </tr>\n",
       "    <tr>\n",
       "      <th>3</th>\n",
       "      <td>3097</td>\n",
       "      <td>23</td>\n",
       "      <td>2</td>\n",
       "      <td>8</td>\n",
       "      <td>9</td>\n",
       "      <td>1</td>\n",
       "    </tr>\n",
       "    <tr>\n",
       "      <th>4</th>\n",
       "      <td>817</td>\n",
       "      <td>28</td>\n",
       "      <td>1</td>\n",
       "      <td>17</td>\n",
       "      <td>17</td>\n",
       "      <td>2</td>\n",
       "    </tr>\n",
       "  </tbody>\n",
       "</table>\n",
       "</div>"
      ],
      "text/plain": [
       "   Avg_Mthly_Spend  No_Of_Visits  Apparel_Items  FnV_Items  Staples_Items  \\\n",
       "0             1123            28              1         16             14   \n",
       "1             9818            13              5          2              5   \n",
       "2             9824            10             10          2              2   \n",
       "3             3097            23              2          8              9   \n",
       "4              817            28              1         17             17   \n",
       "\n",
       "   Clus_KMeans  \n",
       "0            2  \n",
       "1            0  \n",
       "2            0  \n",
       "3            1  \n",
       "4            2  "
      ]
     },
     "execution_count": 38,
     "metadata": {},
     "output_type": "execute_result"
    }
   ],
   "source": [
    "df[\"Clus_KMeans\"] = labels\n",
    "df.head()"
   ]
  },
  {
   "cell_type": "code",
   "execution_count": 41,
   "id": "f676d307",
   "metadata": {},
   "outputs": [
    {
     "data": {
      "text/html": [
       "<div>\n",
       "<style scoped>\n",
       "    .dataframe tbody tr th:only-of-type {\n",
       "        vertical-align: middle;\n",
       "    }\n",
       "\n",
       "    .dataframe tbody tr th {\n",
       "        vertical-align: top;\n",
       "    }\n",
       "\n",
       "    .dataframe thead th {\n",
       "        text-align: right;\n",
       "    }\n",
       "</style>\n",
       "<table border=\"1\" class=\"dataframe\">\n",
       "  <thead>\n",
       "    <tr style=\"text-align: right;\">\n",
       "      <th>Clus_KMeans</th>\n",
       "      <th>0</th>\n",
       "      <th>1</th>\n",
       "      <th>2</th>\n",
       "    </tr>\n",
       "  </thead>\n",
       "  <tbody>\n",
       "    <tr>\n",
       "      <th>Avg_Mthly_Spend</th>\n",
       "      <td>8604.834532</td>\n",
       "      <td>4486.681507</td>\n",
       "      <td>1546.830189</td>\n",
       "    </tr>\n",
       "    <tr>\n",
       "      <th>No_Of_Visits</th>\n",
       "      <td>12.446043</td>\n",
       "      <td>17.779110</td>\n",
       "      <td>25.377358</td>\n",
       "    </tr>\n",
       "    <tr>\n",
       "      <th>Apparel_Items</th>\n",
       "      <td>6.935252</td>\n",
       "      <td>3.787671</td>\n",
       "      <td>1.018868</td>\n",
       "    </tr>\n",
       "    <tr>\n",
       "      <th>FnV_Items</th>\n",
       "      <td>3.071942</td>\n",
       "      <td>7.351027</td>\n",
       "      <td>15.094340</td>\n",
       "    </tr>\n",
       "    <tr>\n",
       "      <th>Staples_Items</th>\n",
       "      <td>3.244604</td>\n",
       "      <td>8.030822</td>\n",
       "      <td>16.716981</td>\n",
       "    </tr>\n",
       "  </tbody>\n",
       "</table>\n",
       "</div>"
      ],
      "text/plain": [
       "Clus_KMeans                0            1            2\n",
       "Avg_Mthly_Spend  8604.834532  4486.681507  1546.830189\n",
       "No_Of_Visits       12.446043    17.779110    25.377358\n",
       "Apparel_Items       6.935252     3.787671     1.018868\n",
       "FnV_Items           3.071942     7.351027    15.094340\n",
       "Staples_Items       3.244604     8.030822    16.716981"
      ]
     },
     "execution_count": 41,
     "metadata": {},
     "output_type": "execute_result"
    }
   ],
   "source": [
    "df.groupby('Clus_KMeans').mean().T"
   ]
  },
  {
   "cell_type": "code",
   "execution_count": 42,
   "id": "ba595825",
   "metadata": {},
   "outputs": [],
   "source": [
    "from sklearn.metrics import silhouette_samples,silhouette_score"
   ]
  },
  {
   "cell_type": "code",
   "execution_count": 43,
   "id": "e6af1260",
   "metadata": {},
   "outputs": [
    {
     "data": {
      "text/plain": [
       "0.5863370901372584"
      ]
     },
     "execution_count": 43,
     "metadata": {},
     "output_type": "execute_result"
    }
   ],
   "source": [
    "silhouette_score(scaled_df,labels)"
   ]
  },
  {
   "cell_type": "code",
   "execution_count": 44,
   "id": "c42f391a",
   "metadata": {},
   "outputs": [
    {
     "data": {
      "text/plain": [
       "array([0.65605464, 0.51242446, 0.58238018, 0.37519676, 0.70316661,\n",
       "       0.21533883, 0.40883241, 0.53016965, 0.36212368, 0.46435202,\n",
       "       0.53273181, 0.38251421, 0.45638838, 0.54265228, 0.59946695,\n",
       "       0.58742145, 0.70669699, 0.52804742, 0.50993649, 0.51621198,\n",
       "       0.46439947, 0.45916516, 0.43727811, 0.66885372, 0.58985762,\n",
       "       0.61143772, 0.29967741, 0.62514869, 0.64122086, 0.67914798,\n",
       "       0.69348064, 0.41267202, 0.69288439, 0.0820282 , 0.67147334,\n",
       "       0.65179887, 0.55169861, 0.19310875, 0.57929786, 0.66911281,\n",
       "       0.54933109, 0.61843536, 0.64293749, 0.64770225, 0.61059923,\n",
       "       0.42515881, 0.55014745, 0.62945221, 0.4170128 , 0.51390593,\n",
       "       0.0763273 , 0.61962009, 0.07671105, 0.57562558, 0.47135448,\n",
       "       0.49643811, 0.68152376, 0.6270269 , 0.37620108, 0.54238286,\n",
       "       0.39114866, 0.65826701, 0.61888157, 0.62445611, 0.52587586,\n",
       "       0.23652939, 0.30229326, 0.65941125, 0.67937278, 0.56388553,\n",
       "       0.60899332, 0.58244297, 0.39735031, 0.4988705 , 0.65145979,\n",
       "       0.05092904, 0.60466597, 0.62641009, 0.54719032, 0.63409122,\n",
       "       0.48520218, 0.49869741, 0.26066351, 0.39284763, 0.65803425,\n",
       "       0.52475015, 0.48126857, 0.57720416, 0.1732776 , 0.17335232,\n",
       "       0.68892757, 0.25671937, 0.60353149, 0.12218374, 0.69491966,\n",
       "       0.61767492, 0.64630709, 0.47083541, 0.17863032, 0.57173322,\n",
       "       0.18739514, 0.68049431, 0.68315469, 0.50715364, 0.25978385,\n",
       "       0.56992819, 0.61132806, 0.56387854, 0.50791755, 0.67516479,\n",
       "       0.51442835, 0.49040531, 0.60666499, 0.31991053, 0.61039683,\n",
       "       0.52382031, 0.57958695, 0.4281305 , 0.60143032, 0.04131039,\n",
       "       0.44986368, 0.24800519, 0.66882197, 0.54490053, 0.4017118 ,\n",
       "       0.53155292, 0.57154027, 0.50893756, 0.52734279, 0.58339748,\n",
       "       0.45861524, 0.58595717, 0.59799209, 0.69926425, 0.10325851,\n",
       "       0.33652555, 0.68902149, 0.62901543, 0.21798632, 0.25691435,\n",
       "       0.39214882, 0.66881744, 0.61577562, 0.53477181, 0.45383553,\n",
       "       0.56770079, 0.0755575 , 0.57232992, 0.58433253, 0.58820007,\n",
       "       0.66379522, 0.40101877, 0.61303315, 0.52490283, 0.21957464,\n",
       "       0.66597455, 0.59815802, 0.58663596, 0.68924176, 0.09838649,\n",
       "       0.24112202, 0.66840607, 0.109013  , 0.34754718, 0.26024031,\n",
       "       0.50408629, 0.44559085, 0.66693886, 0.62786153, 0.4961346 ,\n",
       "       0.44203723, 0.61002519, 0.14954328, 0.60691224, 0.47020736,\n",
       "       0.62039176, 0.63492033, 0.58803348, 0.51414706, 0.52621602,\n",
       "       0.55172016, 0.19823675, 0.61109744, 0.44512329, 0.32061915,\n",
       "       0.58299003, 0.62496386, 0.51086233, 0.52991505, 0.65310971,\n",
       "       0.39613474, 0.19831139, 0.52523668, 0.38939069, 0.09211162,\n",
       "       0.60914702, 0.45298702, 0.32745492, 0.39982099, 0.57359232,\n",
       "       0.62026168, 0.36469833, 0.49787932, 0.67481486, 0.36435487,\n",
       "       0.63661435, 0.6155482 , 0.3193454 , 0.67421215, 0.52555198,\n",
       "       0.24138467, 0.69779429, 0.62321018, 0.68582152, 0.37722496,\n",
       "       0.53399616, 0.70779098, 0.37596078, 0.64224559, 0.41001531,\n",
       "       0.44377771, 0.39703196, 0.61232824, 0.31870572, 0.65317732,\n",
       "       0.64737515, 0.57024422, 0.50677102, 0.06220419, 0.51040662,\n",
       "       0.5461605 , 0.60548807, 0.46111411, 0.48359852, 0.50788961,\n",
       "       0.59267483, 0.35596295, 0.23494417, 0.64851486, 0.66165546,\n",
       "       0.58939068, 0.56277799, 0.1855151 , 0.61061956, 0.51655424,\n",
       "       0.60010723, 0.5718429 , 0.5803934 , 0.62986798, 0.63327624,\n",
       "       0.60111153, 0.28564253, 0.44080233, 0.49513572, 0.63519476,\n",
       "       0.10641354, 0.57498458, 0.67013336, 0.50823209, 0.69124055,\n",
       "       0.19382154, 0.66463473, 0.59999475, 0.59255437, 0.18600251,\n",
       "       0.5590272 , 0.51848445, 0.49150348, 0.52205588, 0.56963862,\n",
       "       0.46762941, 0.5706546 , 0.30789149, 0.49088261, 0.19092805,\n",
       "       0.42829875, 0.23814258, 0.6301809 , 0.64285249, 0.56189328,\n",
       "       0.54011078, 0.49584256, 0.52724547, 0.6095263 , 0.59721274,\n",
       "       0.56100327, 0.52231815, 0.55724051, 0.46665324, 0.63029445,\n",
       "       0.52280697, 0.32474028, 0.54802035, 0.33802173, 0.48607319,\n",
       "       0.33682909, 0.59916085, 0.41183276, 0.35033687, 0.64402243,\n",
       "       0.38881203, 0.50565025, 0.5584278 , 0.4790441 , 0.33641455,\n",
       "       0.24116378, 0.57369439, 0.51873933, 0.70551423, 0.66562244,\n",
       "       0.6578596 , 0.57880394, 0.59411826, 0.58438772, 0.42911469,\n",
       "       0.60127296, 0.1892634 , 0.61322124, 0.56014047, 0.08924942,\n",
       "       0.23204096, 0.44772114, 0.1941723 , 0.61788495, 0.56910068,\n",
       "       0.4533763 , 0.48084942, 0.55728412, 0.58003096, 0.52951942,\n",
       "       0.57588579, 0.54033359, 0.5632036 , 0.48351631, 0.60780115,\n",
       "       0.32261998, 0.57783189, 0.64579888, 0.6789763 , 0.72551132,\n",
       "       0.7106493 , 0.69065705, 0.61863482, 0.58173049, 0.63224919,\n",
       "       0.63668796, 0.61555802, 0.68115572, 0.62273946, 0.50146324,\n",
       "       0.72540259, 0.66746519, 0.63977996, 0.67035415, 0.66566639,\n",
       "       0.65526953, 0.5510707 , 0.43464154, 0.66016585, 0.62497737,\n",
       "       0.71607844, 0.68688214, 0.63534042, 0.63036796, 0.64626618,\n",
       "       0.62805598, 0.71103215, 0.63211917, 0.69946291, 0.63565536,\n",
       "       0.69053402, 0.70107264, 0.65799529, 0.6506899 , 0.66523857,\n",
       "       0.60264053, 0.60565881, 0.67889406, 0.6813587 , 0.6342033 ,\n",
       "       0.68231504, 0.62162752, 0.710642  , 0.69924339, 0.636815  ,\n",
       "       0.63048893, 0.62097263, 0.65211624, 0.63184926, 0.64500416,\n",
       "       0.65575551, 0.68781417, 0.66132131, 0.64060323, 0.68785504,\n",
       "       0.6182584 , 0.5730633 , 0.66976078, 0.61563192, 0.72435914,\n",
       "       0.67981875, 0.66926824, 0.62721639, 0.5228052 , 0.67315979,\n",
       "       0.6298736 , 0.53615742, 0.68261438, 0.66186512, 0.71202873,\n",
       "       0.64590445, 0.66289156, 0.67993284, 0.62377116, 0.6329518 ,\n",
       "       0.69376167, 0.69758947, 0.70821086, 0.70268158, 0.64211077,\n",
       "       0.65292422, 0.65736814, 0.55582776, 0.68715905, 0.6798514 ,\n",
       "       0.63641558, 0.59256788, 0.71661434, 0.68213587, 0.64309607,\n",
       "       0.69441097, 0.64443083, 0.68913684, 0.68069265, 0.64254224,\n",
       "       0.66902976, 0.64799174, 0.62866162, 0.63837345, 0.63363756,\n",
       "       0.72532352, 0.70314481, 0.64118462, 0.66666369, 0.63986864,\n",
       "       0.63047927, 0.71239178, 0.64766272, 0.63473588, 0.70999828,\n",
       "       0.66315141, 0.7009506 , 0.68130291, 0.66053843, 0.62408499,\n",
       "       0.62813684, 0.67135007, 0.63324412, 0.61470491, 0.62113898,\n",
       "       0.66364358, 0.5857831 , 0.60168661, 0.68525407, 0.70327701,\n",
       "       0.70740303, 0.65361754, 0.70099091, 0.7042891 , 0.69889486,\n",
       "       0.61074607, 0.68678574, 0.65734269, 0.60791736, 0.47960294,\n",
       "       0.70096729, 0.63121493, 0.64910843, 0.66210334, 0.69905339,\n",
       "       0.62264131, 0.57900561, 0.69856429, 0.62399096, 0.67268309,\n",
       "       0.71942948, 0.72380296, 0.60249459, 0.64422395, 0.66051624,\n",
       "       0.64883063, 0.69889494, 0.68900898, 0.5927714 , 0.66283328,\n",
       "       0.68327455, 0.68566735, 0.70101124, 0.65085086, 0.63476926,\n",
       "       0.62094841, 0.69210825, 0.70173403, 0.67951677, 0.66485108,\n",
       "       0.65573633, 0.6273894 , 0.54329246, 0.66449292, 0.65380287,\n",
       "       0.61219785, 0.63908142, 0.60164028, 0.70922781, 0.54245153,\n",
       "       0.70791491, 0.63357759, 0.63532877, 0.6897015 , 0.62392125,\n",
       "       0.66246352, 0.71595826, 0.66461563, 0.5540456 , 0.67957571,\n",
       "       0.61585879, 0.65489136, 0.54517928, 0.44995572, 0.60232532,\n",
       "       0.70229661, 0.60240705, 0.53072182, 0.68649918, 0.72407941,\n",
       "       0.64429642, 0.64499559, 0.63006029, 0.61905849, 0.62967295,\n",
       "       0.64858784, 0.70280004, 0.68668703, 0.68896269, 0.64782915,\n",
       "       0.63774212, 0.67432477, 0.64820343, 0.63581687, 0.5750767 ,\n",
       "       0.72848015, 0.56461627, 0.60376293, 0.64508538, 0.60777273,\n",
       "       0.63627635, 0.67929552, 0.49312486, 0.63683138, 0.63305867,\n",
       "       0.70225545, 0.70682355, 0.64489443, 0.64619464, 0.62912608,\n",
       "       0.51748155, 0.68547188, 0.64359537, 0.60270372, 0.658798  ,\n",
       "       0.62878702, 0.67251777, 0.69877824, 0.70015195, 0.59379763,\n",
       "       0.68814391, 0.7072395 , 0.5844442 , 0.6007105 , 0.63952534,\n",
       "       0.70489181, 0.68572247, 0.71142186, 0.71116519, 0.64250974,\n",
       "       0.61917061, 0.59989794, 0.68368155, 0.61808401, 0.69051823,\n",
       "       0.45039821, 0.64895367, 0.64988855, 0.65712453, 0.64643889,\n",
       "       0.67779955, 0.7140003 , 0.67779341, 0.65830359, 0.57978377,\n",
       "       0.67569443, 0.65194148, 0.72486356, 0.68583593, 0.61560339,\n",
       "       0.56316217, 0.7052658 , 0.69814355, 0.61172685, 0.70001925,\n",
       "       0.69872124, 0.66049725, 0.68448746, 0.64850929, 0.61557537,\n",
       "       0.66411353, 0.67068075, 0.67802115, 0.64960611, 0.63663079,\n",
       "       0.6686153 , 0.61860895, 0.67744907, 0.6518119 , 0.66123771,\n",
       "       0.60920061, 0.64910795, 0.5705982 , 0.63881896, 0.64434333,\n",
       "       0.61687283, 0.52024522, 0.6094048 , 0.62431934, 0.68733332,\n",
       "       0.69907393, 0.70185972, 0.69597758, 0.68757021, 0.60022102,\n",
       "       0.688371  , 0.71025959, 0.62613009, 0.72266778, 0.64680011,\n",
       "       0.52995948, 0.64731888, 0.61546413, 0.65262761, 0.67778158,\n",
       "       0.64805221, 0.64215235, 0.63116658, 0.67579932, 0.67568771,\n",
       "       0.59620504, 0.6852287 , 0.62691674, 0.61876867, 0.7094602 ,\n",
       "       0.63195625, 0.67602776, 0.65768989, 0.64768972, 0.55764159,\n",
       "       0.66448553, 0.56482869, 0.63228426, 0.7093573 , 0.63381823,\n",
       "       0.69934591, 0.68993655, 0.64284882, 0.5909096 , 0.62164008,\n",
       "       0.63958764, 0.65857819, 0.68184614, 0.56410579, 0.68608361,\n",
       "       0.61677053, 0.65694547, 0.6993589 , 0.64102214, 0.68991938,\n",
       "       0.64820873, 0.60379266, 0.56801117, 0.56661089, 0.68958508,\n",
       "       0.65721568, 0.64414995, 0.59557324, 0.61543385, 0.59949999,\n",
       "       0.66155219, 0.68804622, 0.55422007, 0.64437075, 0.57081782,\n",
       "       0.66769027, 0.67288139, 0.64565198, 0.68522763, 0.65567959,\n",
       "       0.65013466, 0.69912341, 0.65651018, 0.70448806, 0.60887994,\n",
       "       0.71026847, 0.71266688, 0.68116471, 0.68448529, 0.53794951,\n",
       "       0.68043223, 0.62690561, 0.48263091, 0.60925733, 0.56646482,\n",
       "       0.64624094, 0.69443564, 0.65168627, 0.68296792, 0.59076151,\n",
       "       0.68769403, 0.66096063, 0.68589028, 0.59275251, 0.67382001,\n",
       "       0.59568847, 0.62453501, 0.69312087, 0.64125985, 0.65050094,\n",
       "       0.67957658, 0.62901166, 0.69655773, 0.67615629, 0.65589185,\n",
       "       0.5789366 , 0.6190586 , 0.6299826 , 0.56012445, 0.61125633,\n",
       "       0.62320862, 0.59639223, 0.60152079, 0.67973224, 0.63376307,\n",
       "       0.62671923, 0.69799244, 0.69946932, 0.6289862 , 0.6613201 ,\n",
       "       0.66246159, 0.68182162, 0.59658172, 0.69699183, 0.69912189,\n",
       "       0.69701982, 0.62969475, 0.66352586, 0.56680633, 0.67345238,\n",
       "       0.65088169, 0.69165409, 0.66647582, 0.64874222, 0.65780653,\n",
       "       0.60732296, 0.62417225, 0.66160349, 0.71218933, 0.62591736,\n",
       "       0.6770781 , 0.68522697, 0.58629826, 0.70174141, 0.65545296,\n",
       "       0.63362927, 0.66522519, 0.65502205, 0.60672089, 0.67009423,\n",
       "       0.6178861 , 0.65737562, 0.67571729, 0.64623596, 0.59385001,\n",
       "       0.63221148, 0.67159114, 0.58686826, 0.68784557, 0.55202144,\n",
       "       0.65288908, 0.63294574, 0.62961268, 0.62888417, 0.55723723,\n",
       "       0.68342327, 0.62565519, 0.70675528, 0.60359701, 0.64805152,\n",
       "       0.5431078 , 0.57432778, 0.64563745, 0.55731757, 0.67028879,\n",
       "       0.65313712, 0.69646084, 0.63316251, 0.68804607, 0.69589123,\n",
       "       0.58587093, 0.59879599, 0.64837516, 0.69236654, 0.66338909,\n",
       "       0.55489834, 0.66850372, 0.71930738, 0.68705584, 0.69090084,\n",
       "       0.71620687, 0.65490587, 0.67972843, 0.66186522])"
      ]
     },
     "execution_count": 44,
     "metadata": {},
     "output_type": "execute_result"
    }
   ],
   "source": [
    "silhouette_samples(scaled_df,labels)"
   ]
  },
  {
   "cell_type": "code",
   "execution_count": null,
   "id": "869d8278",
   "metadata": {},
   "outputs": [],
   "source": []
  }
 ],
 "metadata": {
  "kernelspec": {
   "display_name": "Python 3 (ipykernel)",
   "language": "python",
   "name": "python3"
  },
  "language_info": {
   "codemirror_mode": {
    "name": "ipython",
    "version": 3
   },
   "file_extension": ".py",
   "mimetype": "text/x-python",
   "name": "python",
   "nbconvert_exporter": "python",
   "pygments_lexer": "ipython3",
   "version": "3.9.12"
  }
 },
 "nbformat": 4,
 "nbformat_minor": 5
}
