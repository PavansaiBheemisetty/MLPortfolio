{
 "cells": [
  {
   "cell_type": "code",
   "execution_count": 1,
   "id": "3b802040",
   "metadata": {},
   "outputs": [],
   "source": [
    "import pandas as pd\n",
    "import numpy as np\n",
    "from sklearn.linear_model import LogisticRegression\n",
    "import matplotlib.pyplot as plt\n",
    "import seaborn as sns\n",
    "from sklearn.model_selection import train_test_split\n",
    "from sklearn import metrics"
   ]
  },
  {
   "cell_type": "code",
   "execution_count": 2,
   "id": "1c11d585",
   "metadata": {},
   "outputs": [],
   "source": [
    "df = pd.read_csv('/Users/pavansai/desktop1/Python/EDA/csv/colon (1).csv').drop('Unnamed: 0',axis=1)"
   ]
  },
  {
   "cell_type": "code",
   "execution_count": 3,
   "id": "d366d1ab",
   "metadata": {},
   "outputs": [
    {
     "data": {
      "text/html": [
       "<div>\n",
       "<style scoped>\n",
       "    .dataframe tbody tr th:only-of-type {\n",
       "        vertical-align: middle;\n",
       "    }\n",
       "\n",
       "    .dataframe tbody tr th {\n",
       "        vertical-align: top;\n",
       "    }\n",
       "\n",
       "    .dataframe thead th {\n",
       "        text-align: right;\n",
       "    }\n",
       "</style>\n",
       "<table border=\"1\" class=\"dataframe\">\n",
       "  <thead>\n",
       "    <tr style=\"text-align: right;\">\n",
       "      <th></th>\n",
       "      <th>id</th>\n",
       "      <th>study</th>\n",
       "      <th>sex</th>\n",
       "      <th>age</th>\n",
       "      <th>obstruct</th>\n",
       "      <th>perfor</th>\n",
       "      <th>adhere</th>\n",
       "      <th>nodes</th>\n",
       "      <th>status</th>\n",
       "      <th>differ</th>\n",
       "      <th>extent</th>\n",
       "      <th>surg</th>\n",
       "      <th>node4</th>\n",
       "      <th>time</th>\n",
       "      <th>etype</th>\n",
       "    </tr>\n",
       "  </thead>\n",
       "  <tbody>\n",
       "    <tr>\n",
       "      <th>0</th>\n",
       "      <td>1</td>\n",
       "      <td>1</td>\n",
       "      <td>1</td>\n",
       "      <td>43</td>\n",
       "      <td>0</td>\n",
       "      <td>0</td>\n",
       "      <td>0</td>\n",
       "      <td>5.0</td>\n",
       "      <td>1</td>\n",
       "      <td>2.0</td>\n",
       "      <td>3</td>\n",
       "      <td>0</td>\n",
       "      <td>1</td>\n",
       "      <td>1521</td>\n",
       "      <td>2</td>\n",
       "    </tr>\n",
       "    <tr>\n",
       "      <th>1</th>\n",
       "      <td>1</td>\n",
       "      <td>1</td>\n",
       "      <td>1</td>\n",
       "      <td>43</td>\n",
       "      <td>0</td>\n",
       "      <td>0</td>\n",
       "      <td>0</td>\n",
       "      <td>5.0</td>\n",
       "      <td>1</td>\n",
       "      <td>2.0</td>\n",
       "      <td>3</td>\n",
       "      <td>0</td>\n",
       "      <td>1</td>\n",
       "      <td>968</td>\n",
       "      <td>1</td>\n",
       "    </tr>\n",
       "    <tr>\n",
       "      <th>2</th>\n",
       "      <td>2</td>\n",
       "      <td>1</td>\n",
       "      <td>1</td>\n",
       "      <td>63</td>\n",
       "      <td>0</td>\n",
       "      <td>0</td>\n",
       "      <td>0</td>\n",
       "      <td>1.0</td>\n",
       "      <td>0</td>\n",
       "      <td>2.0</td>\n",
       "      <td>3</td>\n",
       "      <td>0</td>\n",
       "      <td>0</td>\n",
       "      <td>3087</td>\n",
       "      <td>2</td>\n",
       "    </tr>\n",
       "    <tr>\n",
       "      <th>3</th>\n",
       "      <td>2</td>\n",
       "      <td>1</td>\n",
       "      <td>1</td>\n",
       "      <td>63</td>\n",
       "      <td>0</td>\n",
       "      <td>0</td>\n",
       "      <td>0</td>\n",
       "      <td>1.0</td>\n",
       "      <td>0</td>\n",
       "      <td>2.0</td>\n",
       "      <td>3</td>\n",
       "      <td>0</td>\n",
       "      <td>0</td>\n",
       "      <td>3087</td>\n",
       "      <td>1</td>\n",
       "    </tr>\n",
       "    <tr>\n",
       "      <th>4</th>\n",
       "      <td>3</td>\n",
       "      <td>1</td>\n",
       "      <td>0</td>\n",
       "      <td>71</td>\n",
       "      <td>0</td>\n",
       "      <td>0</td>\n",
       "      <td>1</td>\n",
       "      <td>7.0</td>\n",
       "      <td>1</td>\n",
       "      <td>2.0</td>\n",
       "      <td>2</td>\n",
       "      <td>0</td>\n",
       "      <td>1</td>\n",
       "      <td>963</td>\n",
       "      <td>2</td>\n",
       "    </tr>\n",
       "  </tbody>\n",
       "</table>\n",
       "</div>"
      ],
      "text/plain": [
       "   id  study  sex  age  obstruct  perfor  adhere  nodes  status  differ  \\\n",
       "0   1      1    1   43         0       0       0    5.0       1     2.0   \n",
       "1   1      1    1   43         0       0       0    5.0       1     2.0   \n",
       "2   2      1    1   63         0       0       0    1.0       0     2.0   \n",
       "3   2      1    1   63         0       0       0    1.0       0     2.0   \n",
       "4   3      1    0   71         0       0       1    7.0       1     2.0   \n",
       "\n",
       "   extent  surg  node4  time  etype  \n",
       "0       3     0      1  1521      2  \n",
       "1       3     0      1   968      1  \n",
       "2       3     0      0  3087      2  \n",
       "3       3     0      0  3087      1  \n",
       "4       2     0      1   963      2  "
      ]
     },
     "execution_count": 3,
     "metadata": {},
     "output_type": "execute_result"
    }
   ],
   "source": [
    "df.head()"
   ]
  },
  {
   "cell_type": "code",
   "execution_count": 4,
   "id": "82e24f7d",
   "metadata": {},
   "outputs": [
    {
     "data": {
      "text/plain": [
       "(1858, 15)"
      ]
     },
     "execution_count": 4,
     "metadata": {},
     "output_type": "execute_result"
    }
   ],
   "source": [
    "df.shape"
   ]
  },
  {
   "cell_type": "code",
   "execution_count": 5,
   "id": "a25d2adf",
   "metadata": {},
   "outputs": [
    {
     "data": {
      "text/plain": [
       "id           0\n",
       "study        0\n",
       "sex          0\n",
       "age          0\n",
       "obstruct     0\n",
       "perfor       0\n",
       "adhere       0\n",
       "nodes       36\n",
       "status       0\n",
       "differ      46\n",
       "extent       0\n",
       "surg         0\n",
       "node4        0\n",
       "time         0\n",
       "etype        0\n",
       "dtype: int64"
      ]
     },
     "execution_count": 5,
     "metadata": {},
     "output_type": "execute_result"
    }
   ],
   "source": [
    "df.isnull().sum()"
   ]
  },
  {
   "cell_type": "code",
   "execution_count": 6,
   "id": "f6bf85ed",
   "metadata": {},
   "outputs": [],
   "source": [
    "df = df.dropna()"
   ]
  },
  {
   "cell_type": "code",
   "execution_count": 7,
   "id": "8f9f7c26",
   "metadata": {},
   "outputs": [
    {
     "data": {
      "text/html": [
       "<div>\n",
       "<style scoped>\n",
       "    .dataframe tbody tr th:only-of-type {\n",
       "        vertical-align: middle;\n",
       "    }\n",
       "\n",
       "    .dataframe tbody tr th {\n",
       "        vertical-align: top;\n",
       "    }\n",
       "\n",
       "    .dataframe thead th {\n",
       "        text-align: right;\n",
       "    }\n",
       "</style>\n",
       "<table border=\"1\" class=\"dataframe\">\n",
       "  <thead>\n",
       "    <tr style=\"text-align: right;\">\n",
       "      <th></th>\n",
       "      <th>count</th>\n",
       "      <th>mean</th>\n",
       "      <th>std</th>\n",
       "      <th>min</th>\n",
       "      <th>25%</th>\n",
       "      <th>50%</th>\n",
       "      <th>75%</th>\n",
       "      <th>max</th>\n",
       "    </tr>\n",
       "  </thead>\n",
       "  <tbody>\n",
       "    <tr>\n",
       "      <th>id</th>\n",
       "      <td>1776.0</td>\n",
       "      <td>466.506757</td>\n",
       "      <td>269.321338</td>\n",
       "      <td>1.0</td>\n",
       "      <td>234.75</td>\n",
       "      <td>466.5</td>\n",
       "      <td>700.25</td>\n",
       "      <td>929.0</td>\n",
       "    </tr>\n",
       "    <tr>\n",
       "      <th>study</th>\n",
       "      <td>1776.0</td>\n",
       "      <td>1.000000</td>\n",
       "      <td>0.000000</td>\n",
       "      <td>1.0</td>\n",
       "      <td>1.00</td>\n",
       "      <td>1.0</td>\n",
       "      <td>1.00</td>\n",
       "      <td>1.0</td>\n",
       "    </tr>\n",
       "    <tr>\n",
       "      <th>sex</th>\n",
       "      <td>1776.0</td>\n",
       "      <td>0.518018</td>\n",
       "      <td>0.499816</td>\n",
       "      <td>0.0</td>\n",
       "      <td>0.00</td>\n",
       "      <td>1.0</td>\n",
       "      <td>1.00</td>\n",
       "      <td>1.0</td>\n",
       "    </tr>\n",
       "    <tr>\n",
       "      <th>age</th>\n",
       "      <td>1776.0</td>\n",
       "      <td>59.810811</td>\n",
       "      <td>11.911137</td>\n",
       "      <td>18.0</td>\n",
       "      <td>53.00</td>\n",
       "      <td>61.0</td>\n",
       "      <td>69.00</td>\n",
       "      <td>85.0</td>\n",
       "    </tr>\n",
       "    <tr>\n",
       "      <th>obstruct</th>\n",
       "      <td>1776.0</td>\n",
       "      <td>0.192568</td>\n",
       "      <td>0.394427</td>\n",
       "      <td>0.0</td>\n",
       "      <td>0.00</td>\n",
       "      <td>0.0</td>\n",
       "      <td>0.00</td>\n",
       "      <td>1.0</td>\n",
       "    </tr>\n",
       "    <tr>\n",
       "      <th>perfor</th>\n",
       "      <td>1776.0</td>\n",
       "      <td>0.030405</td>\n",
       "      <td>0.171748</td>\n",
       "      <td>0.0</td>\n",
       "      <td>0.00</td>\n",
       "      <td>0.0</td>\n",
       "      <td>0.00</td>\n",
       "      <td>1.0</td>\n",
       "    </tr>\n",
       "    <tr>\n",
       "      <th>adhere</th>\n",
       "      <td>1776.0</td>\n",
       "      <td>0.144144</td>\n",
       "      <td>0.351335</td>\n",
       "      <td>0.0</td>\n",
       "      <td>0.00</td>\n",
       "      <td>0.0</td>\n",
       "      <td>0.00</td>\n",
       "      <td>1.0</td>\n",
       "    </tr>\n",
       "    <tr>\n",
       "      <th>nodes</th>\n",
       "      <td>1776.0</td>\n",
       "      <td>3.663288</td>\n",
       "      <td>3.539129</td>\n",
       "      <td>0.0</td>\n",
       "      <td>1.00</td>\n",
       "      <td>2.0</td>\n",
       "      <td>5.00</td>\n",
       "      <td>33.0</td>\n",
       "    </tr>\n",
       "    <tr>\n",
       "      <th>status</th>\n",
       "      <td>1776.0</td>\n",
       "      <td>0.493243</td>\n",
       "      <td>0.500095</td>\n",
       "      <td>0.0</td>\n",
       "      <td>0.00</td>\n",
       "      <td>0.0</td>\n",
       "      <td>1.00</td>\n",
       "      <td>1.0</td>\n",
       "    </tr>\n",
       "    <tr>\n",
       "      <th>differ</th>\n",
       "      <td>1776.0</td>\n",
       "      <td>2.061937</td>\n",
       "      <td>0.510833</td>\n",
       "      <td>1.0</td>\n",
       "      <td>2.00</td>\n",
       "      <td>2.0</td>\n",
       "      <td>2.00</td>\n",
       "      <td>3.0</td>\n",
       "    </tr>\n",
       "    <tr>\n",
       "      <th>extent</th>\n",
       "      <td>1776.0</td>\n",
       "      <td>2.884009</td>\n",
       "      <td>0.478322</td>\n",
       "      <td>1.0</td>\n",
       "      <td>3.00</td>\n",
       "      <td>3.0</td>\n",
       "      <td>3.00</td>\n",
       "      <td>4.0</td>\n",
       "    </tr>\n",
       "    <tr>\n",
       "      <th>surg</th>\n",
       "      <td>1776.0</td>\n",
       "      <td>0.268018</td>\n",
       "      <td>0.443052</td>\n",
       "      <td>0.0</td>\n",
       "      <td>0.00</td>\n",
       "      <td>0.0</td>\n",
       "      <td>1.00</td>\n",
       "      <td>1.0</td>\n",
       "    </tr>\n",
       "    <tr>\n",
       "      <th>node4</th>\n",
       "      <td>1776.0</td>\n",
       "      <td>0.264640</td>\n",
       "      <td>0.441265</td>\n",
       "      <td>0.0</td>\n",
       "      <td>0.00</td>\n",
       "      <td>0.0</td>\n",
       "      <td>1.00</td>\n",
       "      <td>1.0</td>\n",
       "    </tr>\n",
       "    <tr>\n",
       "      <th>time</th>\n",
       "      <td>1776.0</td>\n",
       "      <td>1542.555180</td>\n",
       "      <td>946.741234</td>\n",
       "      <td>8.0</td>\n",
       "      <td>573.00</td>\n",
       "      <td>1856.0</td>\n",
       "      <td>2331.00</td>\n",
       "      <td>3329.0</td>\n",
       "    </tr>\n",
       "    <tr>\n",
       "      <th>etype</th>\n",
       "      <td>1776.0</td>\n",
       "      <td>1.500000</td>\n",
       "      <td>0.500141</td>\n",
       "      <td>1.0</td>\n",
       "      <td>1.00</td>\n",
       "      <td>1.5</td>\n",
       "      <td>2.00</td>\n",
       "      <td>2.0</td>\n",
       "    </tr>\n",
       "  </tbody>\n",
       "</table>\n",
       "</div>"
      ],
      "text/plain": [
       "           count         mean         std   min     25%     50%      75%  \\\n",
       "id        1776.0   466.506757  269.321338   1.0  234.75   466.5   700.25   \n",
       "study     1776.0     1.000000    0.000000   1.0    1.00     1.0     1.00   \n",
       "sex       1776.0     0.518018    0.499816   0.0    0.00     1.0     1.00   \n",
       "age       1776.0    59.810811   11.911137  18.0   53.00    61.0    69.00   \n",
       "obstruct  1776.0     0.192568    0.394427   0.0    0.00     0.0     0.00   \n",
       "perfor    1776.0     0.030405    0.171748   0.0    0.00     0.0     0.00   \n",
       "adhere    1776.0     0.144144    0.351335   0.0    0.00     0.0     0.00   \n",
       "nodes     1776.0     3.663288    3.539129   0.0    1.00     2.0     5.00   \n",
       "status    1776.0     0.493243    0.500095   0.0    0.00     0.0     1.00   \n",
       "differ    1776.0     2.061937    0.510833   1.0    2.00     2.0     2.00   \n",
       "extent    1776.0     2.884009    0.478322   1.0    3.00     3.0     3.00   \n",
       "surg      1776.0     0.268018    0.443052   0.0    0.00     0.0     1.00   \n",
       "node4     1776.0     0.264640    0.441265   0.0    0.00     0.0     1.00   \n",
       "time      1776.0  1542.555180  946.741234   8.0  573.00  1856.0  2331.00   \n",
       "etype     1776.0     1.500000    0.500141   1.0    1.00     1.5     2.00   \n",
       "\n",
       "             max  \n",
       "id         929.0  \n",
       "study        1.0  \n",
       "sex          1.0  \n",
       "age         85.0  \n",
       "obstruct     1.0  \n",
       "perfor       1.0  \n",
       "adhere       1.0  \n",
       "nodes       33.0  \n",
       "status       1.0  \n",
       "differ       3.0  \n",
       "extent       4.0  \n",
       "surg         1.0  \n",
       "node4        1.0  \n",
       "time      3329.0  \n",
       "etype        2.0  "
      ]
     },
     "execution_count": 7,
     "metadata": {},
     "output_type": "execute_result"
    }
   ],
   "source": [
    "df.describe().T"
   ]
  },
  {
   "cell_type": "code",
   "execution_count": 8,
   "id": "ac7e4398",
   "metadata": {},
   "outputs": [
    {
     "data": {
      "text/plain": [
       "2    0.5\n",
       "1    0.5\n",
       "Name: etype, dtype: float64"
      ]
     },
     "execution_count": 8,
     "metadata": {},
     "output_type": "execute_result"
    }
   ],
   "source": [
    "df.etype.value_counts(normalize=True) # etype is target col that is balanced"
   ]
  },
  {
   "cell_type": "code",
   "execution_count": 9,
   "id": "8a14faad",
   "metadata": {},
   "outputs": [],
   "source": [
    "X = df.drop('etype',axis=1)\n",
    "y = df['etype']\n",
    "seed = 7"
   ]
  },
  {
   "cell_type": "code",
   "execution_count": 10,
   "id": "ee73581e",
   "metadata": {},
   "outputs": [],
   "source": [
    "X_train, X_test, y_train, y_test = train_test_split(X, y, test_size=0.3, random_state=seed)"
   ]
  },
  {
   "cell_type": "code",
   "execution_count": 11,
   "id": "440f5f21",
   "metadata": {},
   "outputs": [],
   "source": [
    "model = LogisticRegression(solver='newton-cg')"
   ]
  },
  {
   "cell_type": "code",
   "execution_count": 12,
   "id": "c1d88444",
   "metadata": {},
   "outputs": [
    {
     "data": {
      "text/plain": [
       "1    50.683829\n",
       "2    49.316171\n",
       "Name: etype, dtype: float64"
      ]
     },
     "execution_count": 12,
     "metadata": {},
     "output_type": "execute_result"
    }
   ],
   "source": [
    "y_train.value_counts(normalize=True)*100"
   ]
  },
  {
   "cell_type": "code",
   "execution_count": 13,
   "id": "443d405c",
   "metadata": {},
   "outputs": [
    {
     "data": {
      "text/plain": [
       "2    51.594747\n",
       "1    48.405253\n",
       "Name: etype, dtype: float64"
      ]
     },
     "execution_count": 13,
     "metadata": {},
     "output_type": "execute_result"
    }
   ],
   "source": [
    "y_test.value_counts(normalize=True)*100"
   ]
  },
  {
   "cell_type": "code",
   "execution_count": 14,
   "id": "a02c965a",
   "metadata": {},
   "outputs": [
    {
     "data": {
      "text/plain": [
       "LogisticRegression(solver='newton-cg')"
      ]
     },
     "execution_count": 14,
     "metadata": {},
     "output_type": "execute_result"
    }
   ],
   "source": [
    "model.fit(X_train,y_train)"
   ]
  },
  {
   "cell_type": "code",
   "execution_count": 15,
   "id": "5edc0dfa",
   "metadata": {},
   "outputs": [],
   "source": [
    "ytestPr = model.predict(X_test)\n",
    "ytrainPr = model.predict(X_train)"
   ]
  },
  {
   "cell_type": "code",
   "execution_count": 16,
   "id": "f08f86e6",
   "metadata": {},
   "outputs": [
    {
     "data": {
      "text/plain": [
       "0.5647279549718575"
      ]
     },
     "execution_count": 16,
     "metadata": {},
     "output_type": "execute_result"
    }
   ],
   "source": [
    "model_score = model.score(X_test,y_test)\n",
    "model_score"
   ]
  },
  {
   "cell_type": "code",
   "execution_count": 17,
   "id": "4c7a26cf",
   "metadata": {},
   "outputs": [
    {
     "name": "stdout",
     "output_type": "stream",
     "text": [
      "Confusion Matrix \n",
      " [[144 114]\n",
      " [118 157]] \n",
      "\n",
      "Classification report \n",
      "               precision    recall  f1-score   support\n",
      "\n",
      "           1       0.55      0.56      0.55       258\n",
      "           2       0.58      0.57      0.58       275\n",
      "\n",
      "    accuracy                           0.56       533\n",
      "   macro avg       0.56      0.56      0.56       533\n",
      "weighted avg       0.56      0.56      0.56       533\n",
      "\n"
     ]
    }
   ],
   "source": [
    "print(\"Confusion Matrix\",'\\n', metrics.confusion_matrix(y_test,ytestPr),'\\n')\n",
    "print(\"Classification report\",'\\n', metrics.classification_report(y_test,ytestPr))"
   ]
  },
  {
   "cell_type": "code",
   "execution_count": null,
   "id": "11297464",
   "metadata": {},
   "outputs": [],
   "source": []
  }
 ],
 "metadata": {
  "kernelspec": {
   "display_name": "Python 3 (ipykernel)",
   "language": "python",
   "name": "python3"
  },
  "language_info": {
   "codemirror_mode": {
    "name": "ipython",
    "version": 3
   },
   "file_extension": ".py",
   "mimetype": "text/x-python",
   "name": "python",
   "nbconvert_exporter": "python",
   "pygments_lexer": "ipython3",
   "version": "3.9.12"
  }
 },
 "nbformat": 4,
 "nbformat_minor": 5
}
